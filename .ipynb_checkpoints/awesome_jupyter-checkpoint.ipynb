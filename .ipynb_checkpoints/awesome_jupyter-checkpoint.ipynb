{
 "cells": [
  {
   "cell_type": "markdown",
   "metadata": {},
   "source": [
    "# Awesome-python-md-documentation\n",
    "\n",
    "This is python user documentation created in markdown so it can be visualized in IDE. How it can look is on this printscreen.\n",
    "\n",
    "![Printscreen of documentation use](https://raw.githubusercontent.com/Malachov/Awesome-python-md-documentation-cheatsheet/master/printscreen.png)\n",
    "\n",
    "Feel free to colab...\n",
    "\n",
    "It's also in jupyter notebook ipynb version. Markdown is good for finding correct syntax and for efficiency, notebook is good, when you want to learn something a play with code. It's derived from original md with notedown, so modify markdown. To convert type in cmd opened in folder (or in some other shell):\n",
    "\n",
    "To recreate jupyter notebook just open create_jupyter.cmd (in windows)\n",
    "\n",
    "Or if you don't have windows, type this to terminal !!:"
   ]
  },
  {
   "cell_type": "code",
   "execution_count": null,
   "metadata": {
    "attributes": {
     "classes": [
      "shell"
     ],
     "id": ""
    }
   },
   "outputs": [],
   "source": [
    "pip install notedown &&\n",
    "notedown input.ipynb --to markdown --strip > output.md"
   ]
  },
  {
   "cell_type": "markdown",
   "metadata": {},
   "source": [
    "Note 1: Some cells are commented, because can slow notebook, make errors or save files. Comment is assigned to variable so it's not printed to console. Just remove variable, uncomment and enjoy...\n",
    "\n",
    "Note 2: Content is not working in jupyter, so delete it. Use nbextensions and extension table of content.\n",
    "\n",
    "Note 3: Most of code is in Python. But some is to the terminal (cmd...). You can recognise it by word of application on the beginning, that is opened - e.g. pip, jupyter notebook etc... Some console command are signed as # $ on beginning\n",
    "\n",
    "# Content\n",
    "\n",
    "<!-- @import \"[TOC]\" {cmd=\"toc\" depthFrom=1 depthTo=6 orderedList=false} -->\n",
    "\n",
    "<!-- code_chunk_output -->\n",
    "\n",
    "- [Awesome-python-md-documentation](#awesome-python-md-documentation)\n",
    "- [Content](#content)\n",
    "- [General](#general)\n",
    "  - [Show installed libraries](#show-installed-libraries)\n",
    "  - [Virtual env](#virtual-env)\n",
    "  - [Requirements - bulk libraries install](#requirements-bulk-libraries-install)\n",
    "- [Comments](#comments)\n",
    "  - [Documentation - docstrings](#documentation-docstrings)\n",
    "    - [reStructured text](#restructured-text)\n",
    "    - [docBlockR](#docblockr)\n",
    "  - [Multi line code](#multi-line-code)\n",
    "    - [Show where python is installed](#show-where-python-is-installed)\n",
    "- [Logical conditions](#logical-conditions)\n",
    "  - [Not](#not)\n",
    "  - [Greater than, lower than](#greater-than-lower-than)\n",
    "  - [And, or](#and-or)\n",
    "  - [None](#none)\n",
    "- [Variables](#variables)\n",
    "  - [Declaration of more variables at once](#declaration-of-more-variables-at-once)\n",
    "    - [Swap variables values](#swap-variables-values)\n",
    "    - [Bulk create variables](#bulk-create-variables)\n",
    "    - [Check if variable exist](#check-if-variable-exist)\n",
    "  - [Import variables from other modules](#import-variables-from-other-modules)\n",
    "    - [Find name of variable, list or dictionary](#find-name-of-variable-list-or-dictionary)\n",
    "- [DATA TYPES](#data-types)\n",
    "    - [Type of variable as condition](#type-of-variable-as-condition)\n",
    "    - [If exist](#if-exist)\n",
    "  - [String](#string)\n",
    "    - [Format](#format)\n",
    "    - [Newest and fastest format- f'strings'](#newest-and-fastest-format-fstrings)\n",
    "    - [String to code](#string-to-code)\n",
    "    - [Join - concatenate](#join-concatenate)\n",
    "- [List](#list)\n",
    "- [Deque](#deque)\n",
    "  - [Tuple](#tuple)\n",
    "- [Dictionary](#dictionary)\n",
    "- [Set](#set)\n",
    "- [Dataframe](#dataframe)\n",
    "- [Numpy Array](#numpy-array)\n",
    "- [Iterator](#iterator)\n",
    "- [LOOPZ](#loopz)\n",
    "  - [IF](#if)\n",
    "    - [If variable exist](#if-variable-exist)\n",
    "    - [Ternary operator - If in argument](#ternary-operator-if-in-argument)\n",
    "  - [FOR](#for)\n",
    "    - [Return indexes and elements](#return-indexes-and-elements)\n",
    "  - [Generate list of elements from u1 to u5](#generate-list-of-elements-from-u1-to-u5)\n",
    "  - [Generate values with strings](#generate-values-with-strings)\n",
    "    - [For in list comprehension](#for-in-list-comprehension)\n",
    "    - [Generate list with for cycle and if](#generate-list-with-for-cycle-and-if)\n",
    "    - [Generate list with more parameters](#generate-list-with-more-parameters)\n",
    "    - [Nested lists](#nested-lists)\n",
    "  - [WHILE](#while)\n",
    "- [Functions](#functions)\n",
    "    - [Jump out of function - return](#jump-out-of-function-return)\n",
    "    - [Default parameter](#default-parameter)\n",
    "    - [Unknown number of parameters - *args, **kwargs](#unknown-number-of-parameters-args-kwargs)\n",
    "    - [Global variables](#global-variables)\n",
    "- [Functions are objects](#functions-are-objects)\n",
    "    - [Function in list generator](#function-in-list-generator)\n",
    "  - [Functions map(), filter(), reduce()](#functions-map-filter-reduce)\n",
    "    - [Reduce - Input sequention into function](#reduce-input-sequention-into-function)\n",
    "- [Generators](#generators)\n",
    "- [Dekorators](#dekorators)\n",
    "- [Module](#module)\n",
    "- [Classes](#classes)\n",
    "    - [Create object](#create-object)\n",
    "    - [Call class method](#call-class-method)\n",
    "    - [Change atribute of class](#change-atribute-of-class)\n",
    "    - [Call static method](#call-static-method)\n",
    "    - [Magic methods](#magic-methods)\n",
    "- [FILE I/O](#file-io)\n",
    "    - [Import fuction from other file](#import-fuction-from-other-file)\n",
    "    - [Find script's adress](#find-scripts-adress)\n",
    "    - [Import variables from file in the same folder](#import-variables-from-file-in-the-same-folder)\n",
    "    - [If file or dir exists](#if-file-or-dir-exists)\n",
    "    - [Create module from folder](#create-module-from-folder)\n",
    "    - [Show all files in folder](#show-all-files-in-folder)\n",
    "    - [Filter for one type data](#filter-for-one-type-data)\n",
    "    - [Load all files with certain suffix](#load-all-files-with-certain-suffix)\n",
    "  - [Work with files](#work-with-files)\n",
    "    - [Import txt](#import-txt)\n",
    "  - [Pickling](#pickling)\n",
    "- [Paths](#paths)\n",
    "  - [Pathlib - new and correct way](#pathlib-new-and-correct-way)\n",
    "- [Try -- Except](#try-except)\n",
    "  - [Try for all errors and print it](#try-for-all-errors-and-print-it)\n",
    "  - [Raise exception](#raise-exception)\n",
    "  - [Assert - Require something or error](#assert-require-something-or-error)\n",
    "- [Warnings](#warnings)\n",
    "- [Regular expressions](#regular-expressions)\n",
    "- [Built in functions](#built-in-functions)\n",
    "    - [Print](#print)\n",
    "    - [Range](#range)\n",
    "    - [Reverse range](#reverse-range)\n",
    "    - [\\__name__ - If file is runned from inside or is imported](#__name__-if-file-is-runned-from-inside-or-is-imported)\n",
    "- [Date and time](#date-and-time)\n",
    "- [Plots, graphs](#plots-graphs)\n",
    "  - [Plotly](#plotly)\n",
    "  - [Matplotlib](#matplotlib)\n",
    "  - [Table](#table)\n",
    "  - [Symbolic functions](#symbolic-functions)\n",
    "- [Libraries](#libraries)\n",
    "  - [If pip cannot be installed by SSL errorr](#if-pip-cannot-be-installed-by-ssl-errorr)\n",
    "- [Jupyter](#jupyter)\n",
    "  - [Autoreload](#autoreload)\n",
    "  - [Link](#link)\n",
    "  - [Image](#image)\n",
    "  - [Youtube](#youtube)\n",
    "  - [Show all images from folder](#show-all-images-from-folder)\n",
    "- [Requests - API - GET, POST](#requests-api-get-post)\n",
    "- [Images, pictures](#images-pictures)\n",
    "- [Mahematics, statistics, linear algebra](#mahematics-statistics-linear-algebra)\n",
    "- [Machine learning](#machine-learning)\n",
    "- [Signal processing and controll](#signal-processing-and-controll)\n",
    "- [Miscellaneous](#miscellaneous)\n",
    "  - [Measure time](#measure-time)\n",
    "  - [Show bytcode](#show-bytcode)\n",
    "- [Performance](#performance)\n",
    "    - [Type hinting](#type-hinting)\n",
    "  - [Numba](#numba)\n",
    "  - [Dask](#dask)\n",
    "    - [Dask formats](#dask-formats)\n",
    "  - [Force to empty memory](#force-to-empty-memory)\n",
    "  - [Max execution time python](#max-execution-time-python)\n",
    "  - [Profiling](#profiling)\n",
    "- [Whole sections](#whole-sections)\n",
    "  - [Encoding JSON with Python](#encoding-json-with-python)\n",
    "- [Pypi export / create own library](#pypi-export-create-own-library)\n",
    "\n",
    "<!-- /code_chunk_output -->\n",
    "\n",
    "\n",
    "# General\n",
    "\n",
    "## Show installed libraries"
   ]
  },
  {
   "cell_type": "code",
   "execution_count": 20,
   "metadata": {
    "ExecuteTime": {
     "end_time": "2019-10-03T12:41:13.705496Z",
     "start_time": "2019-10-03T12:41:13.611767Z"
    }
   },
   "outputs": [
    {
     "name": "stdout",
     "output_type": "stream",
     "text": [
      "The autoreload extension is already loaded. To reload it, use:\n",
      "  %reload_ext autoreload\n"
     ]
    }
   ],
   "source": [
    "%load_ext autoreload\n",
    "\n",
    "%autoreload"
   ]
  },
  {
   "cell_type": "markdown",
   "metadata": {},
   "source": [
    "Show outdated libraries - pip list --outdated\n",
    "\n",
    "## Virtual env"
   ]
  },
  {
   "cell_type": "code",
   "execution_count": null,
   "metadata": {},
   "outputs": [],
   "source": [
    "to_terminal = '''\n",
    "\n",
    "pip install virtualenv\n",
    "virtualenv daniel  # Vytvoří novou virtuálku\n",
    "C:\\VSCODE\\Diplomka\\pokus\\Scripts\\activate.bat  # Activate virtual env\n",
    "\n",
    "'''\n",
    "## Requirements - bulk libraries install\n",
    "Create requirements\n",
    "\n",
    "# $  pipreqs --encoding=utf8 C:\\VSCODE\\Diplomka"
   ]
  },
  {
   "cell_type": "markdown",
   "metadata": {},
   "source": [
    "Deprecated\n",
    "\n",
    "(pip freeze > requirements.txt)\n",
    "\n",
    "How to use\n",
    "\n",
    "pip install -r /path/to/requirements.txt\n",
    "\n",
    "# Comments"
   ]
  },
  {
   "cell_type": "code",
   "execution_count": null,
   "metadata": {},
   "outputs": [],
   "source": [
    "# One line comment\n",
    "\n",
    "## Multiline comment\n",
    "\"\"\" Víceřádkové komentáře používají tři uvozovky nebo apostrofy\n",
    "a jsou často využívány jako dokumentační komentáře k metodám\n",
    "\"\"\""
   ]
  },
  {
   "cell_type": "markdown",
   "metadata": {},
   "source": [
    "## Documentation - docstrings\n",
    "Posible modes - DocBlockR, ReST, Numpy, Google\n",
    "\n",
    "### reStructured text"
   ]
  },
  {
   "cell_type": "code",
   "execution_count": null,
   "metadata": {
    "attributes": {
     "classes": [
      "markdown"
     ],
     "id": ""
    }
   },
   "outputs": [],
   "source": [
    "restr = ''' # remove the variable - it's just for jupyter\n",
    "Section Header\n",
    "==============\n",
    "\n",
    "Subsection Header\n",
    "-----------------\n",
    "\n",
    "- A bullet list item\n",
    "\n",
    "- A sub item\n",
    "\n",
    "1) An enumerated list item\n",
    "\n",
    ".. image:: /path/to/image.jpg\n",
    "\n",
    "A sentence with links to `Wikipedia`_\n",
    "\n",
    ".. _Wikipedia: https://www.wikipedia.org/\n",
    "\n",
    "+------------------------+------------+----------+\n",
    "| Header row, column 1   | Header 2   | Header 3 |\n",
    "+========================+============+==========+\n",
    "| body row 1, column 1   | column 2   | column 3 |\n",
    "+------------------------+------------+----------+\n",
    "| body row 2             | Cells may span        |\n",
    "+------------------------+-----------------------+\n",
    "\n",
    "Literal - no linebreaks etc.\n",
    "\n",
    "::\n",
    "\n",
    "some literal text.\n",
    "\n",
    "\n",
    "Python code in docstrings\n",
    "\n",
    ".. code:: python\n",
    "\n",
    "print(\"A literal block directive explicitly marked as python code\")\n",
    "'''"
   ]
  },
  {
   "cell_type": "markdown",
   "metadata": {},
   "source": [
    "### docBlockR"
   ]
  },
  {
   "cell_type": "code",
   "execution_count": null,
   "metadata": {},
   "outputs": [],
   "source": [
    "\"\"\"Function to find optimal parameters of function\n",
    "======\n",
    "Output:\n",
    "------\n",
    "    Optimized parameters {dict}\n",
    "\n",
    "Arguments:\n",
    "------\n",
    "    model {func} -- Function to be optimized (eg: ridgeregression)\n",
    "    kwargs {dict} -- Initial arguments (eg: {\"alpha\": 0.1, \"n_steps_in\": 10})\n",
    "    kwargs_limits {dict} -- Bounds of arguments (eg: {\"alpha\": [0.1, 1], \"n_steps_in\":[2, 30]})\n",
    "    data {list, array, dataframe col} -- Data on which function is optimized (eg: data1)\n",
    "    fragments {int} -- Number of optimized intervals (default: 10)\n",
    "    predicts {int} -- Number of predicted values (default: 7)\n",
    "\"\"\""
   ]
  },
  {
   "cell_type": "markdown",
   "metadata": {},
   "source": [
    "## Multi line code"
   ]
  },
  {
   "cell_type": "code",
   "execution_count": null,
   "metadata": {},
   "outputs": [],
   "source": [
    "poi = { \"1\": 3,\n",
    "        \"2\": 4, \n",
    "        \"6\": 8 }\n",
    "\n",
    "# or use brackets or \\\\\n",
    "\n",
    "a = (   1 + 2\n",
    "        + 3 + 4 )\n",
    "\n",
    "a = 1 + 2 \\\n",
    "    + 3 + \n",
    "\n",
    "f = range(  1 + 2\n",
    "        + '3' - '4')  # Function example"
   ]
  },
  {
   "cell_type": "markdown",
   "metadata": {},
   "source": [
    "### Show where python is installed\n",
    "where python\n",
    "\n",
    "# Logical conditions\n",
    "## Not\n",
    "\n",
    "   not True # => False\n",
    "   'a' is not 1\n",
    "   'a' != 1\n",
    "\n",
    "## Greater than, lower than\n",
    "\\>=\n",
    "\n",
    "## And, or\n",
    "\n",
    "   0 and 2 # => 0\n",
    "   -5 or 0 # => -5\n",
    "   0 == False # => True\n",
    "   if 2 > 1 and 5 > 6:\n",
    "       pass"
   ]
  },
  {
   "cell_type": "code",
   "execution_count": null,
   "metadata": {},
   "outputs": [],
   "source": [
    "# Logical conditions can be combined\n",
    "\n",
    "1 < 2 < 3 # => True"
   ]
  },
  {
   "cell_type": "markdown",
   "metadata": {},
   "source": [
    "## None"
   ]
  },
  {
   "cell_type": "code",
   "execution_count": null,
   "metadata": {},
   "outputs": [],
   "source": [
    "# None is object (NULL, nil, ...)\n",
    "\n",
    "None  # => None\n",
    "\n",
    "# So don't use \"==\" for comparison. Rather use \"is\"\n",
    "\n",
    "None is None # => True\n",
    "\n",
    "# None, 0, and empty string/list/dictionary is False, everything else True\n",
    "\n",
    "bool(0) # => False\n",
    "bool(\"\") # => False\n",
    "bool([]) # => False\n",
    "bool({}) # => False"
   ]
  },
  {
   "cell_type": "markdown",
   "metadata": {},
   "source": [
    "# Variables"
   ]
  },
  {
   "cell_type": "code",
   "execution_count": null,
   "metadata": {},
   "outputs": [],
   "source": [
    "y = int(2.8)\n",
    "\n",
    "x = 1\n",
    "x += 1 # Zkrácený zápis x = x + 1. Pozor, žádné x++ neexisuje"
   ]
  },
  {
   "cell_type": "markdown",
   "metadata": {},
   "source": [
    "Int divided by int\n",
    "    3 / 2  # = 1.5\n",
    "    3 // 2  # = 1\n",
    "\n",
    "## Declaration of more variables at once"
   ]
  },
  {
   "cell_type": "code",
   "execution_count": null,
   "metadata": {},
   "outputs": [],
   "source": [
    "a = b = c = 1\n",
    "\n",
    "a,b,c = 1,2,\"john\""
   ]
  },
  {
   "cell_type": "markdown",
   "metadata": {},
   "source": [
    "### Swap variables values"
   ]
  },
  {
   "cell_type": "code",
   "execution_count": null,
   "metadata": {},
   "outputs": [],
   "source": [
    "e = 2; d = 4\n",
    "e, d = d, e # d is now 5, e is now 4"
   ]
  },
  {
   "cell_type": "markdown",
   "metadata": {},
   "source": [
    "### Bulk create variables"
   ]
  },
  {
   "cell_type": "code",
   "execution_count": null,
   "metadata": {},
   "outputs": [],
   "source": [
    "name = ['mike', 'john', 'steve']  \n",
    "age = [20, 32, 19]\n",
    "\n",
    "for x,y in zip(name, age):\n",
    "    globals()[x] = y  # mike = 20 ...\n",
    "\n",
    "uname = ['u{}'.format(n) for n in range(7)] # [u1, u2, u3...]"
   ]
  },
  {
   "cell_type": "markdown",
   "metadata": {},
   "source": [
    "### Check if variable exist"
   ]
  },
  {
   "cell_type": "code",
   "execution_count": null,
   "metadata": {},
   "outputs": [],
   "source": [
    "if 'myVar' in locals():\n",
    "    pass"
   ]
  },
  {
   "cell_type": "markdown",
   "metadata": {},
   "source": [
    "## Import variables from other modules\n",
    "Creat config.py\n",
    "\n",
    "There for example"
   ]
  },
  {
   "cell_type": "code",
   "execution_count": null,
   "metadata": {},
   "outputs": [],
   "source": [
    "x = 1"
   ]
  },
  {
   "cell_type": "markdown",
   "metadata": {},
   "source": [
    "In main then use\n",
    "\n",
    "config.x = 2 ....\n",
    "\n",
    "### Find name of variable, list or dictionary"
   ]
  },
  {
   "cell_type": "code",
   "execution_count": null,
   "metadata": {},
   "outputs": [],
   "source": [
    "var = 3\n",
    "my_var_name = [k for k,v in globals().items() if v == var][0]"
   ]
  },
  {
   "cell_type": "markdown",
   "metadata": {},
   "source": [
    "# DATA TYPES"
   ]
  },
  {
   "cell_type": "code",
   "execution_count": null,
   "metadata": {},
   "outputs": [],
   "source": [
    "a = type(var)  # Return type"
   ]
  },
  {
   "cell_type": "markdown",
   "metadata": {},
   "source": [
    "### Type of variable as condition"
   ]
  },
  {
   "cell_type": "code",
   "execution_count": null,
   "metadata": {},
   "outputs": [],
   "source": [
    "if isinstance(var, str):  # Check if it's string (or int etc...)\n",
    "    pass\n",
    "\n",
    "# More types at once\n",
    "\n",
    "import numpy as np  \n",
    "y = np.array([1])\n",
    "isinstance(y, (np.ndarray, np.generic))  # pd.DataFrame For dataframe\n",
    "\n",
    "if a is list: # Zjistí, zda jde přímo o string\n",
    "    pass\n",
    "\n",
    "# Also work if object is includes in class"
   ]
  },
  {
   "cell_type": "markdown",
   "metadata": {},
   "source": [
    "### If exist"
   ]
  },
  {
   "cell_type": "code",
   "execution_count": null,
   "metadata": {},
   "outputs": [],
   "source": [
    "if callable(a):\n",
    "    pass"
   ]
  },
  {
   "cell_type": "markdown",
   "metadata": {},
   "source": [
    "## String"
   ]
  },
  {
   "cell_type": "code",
   "execution_count": null,
   "metadata": {},
   "outputs": [],
   "source": [
    "# Strings \" or ' and can contain UTF8 symbols\n",
    "\n",
    "a = \"This is string.\"\n",
    "a = 'This is also string.'\n",
    "\n",
    "# In python 3\n",
    "\n",
    "print('strings are now utf-8 \\u03BCnico\\u0394é!')  # strings are now utf-8 μnicoΔé!\n",
    "\n",
    "# Strings can use + but don't use\n",
    "\n",
    "a = \"Hello \" + \"world!\" # => \"Hello world!\"\n",
    "\n",
    "# Can be concatenated without '+'\n",
    "\n",
    "a = \"Hello \" \"world!\" # => \"Hello world!\"\n",
    "\n",
    "# String is list of symbols\n",
    "\n",
    "a = \"This is list\"[0] # => 'T'"
   ]
  },
  {
   "cell_type": "markdown",
   "metadata": {},
   "source": [
    "### Format"
   ]
  },
  {
   "cell_type": "code",
   "execution_count": null,
   "metadata": {},
   "outputs": [],
   "source": [
    "# Old\n",
    "\n",
    "a = '%s  %s' % ('one', 'two')\n",
    "\n",
    "# Newer\n",
    "\n",
    "a = '{} {}'.format('one', 'two')\n",
    "\n",
    "# Format can be used multiple times\n",
    "\n",
    "a = \"{0} {1} stříkaček stříkalo přes {0} {1} střech\".format(\"tři sta třicet tři\", \"stříbrných\")\n",
    "\n",
    "# You can use named arguments\n",
    "\n",
    "a = \"{jmeno} si dal {jidlo}\".format(jmeno=\"Franta\", jidlo=\"guláš\") # => \"Franta si dal guláš\""
   ]
  },
  {
   "cell_type": "markdown",
   "metadata": {},
   "source": [
    "### Newest and fastest format- f'strings'"
   ]
  },
  {
   "cell_type": "code",
   "execution_count": null,
   "metadata": {},
   "outputs": [],
   "source": [
    "name = 'Peter'\n",
    "f\"Hello, {name}. You are {2 * 17}. Also functions {name.lower()}.\""
   ]
  },
  {
   "cell_type": "markdown",
   "metadata": {},
   "source": [
    "If you use \"\"\" no escape symbols will be used\n",
    "Also can use dictionaries, but \"\" is necesarry\n",
    "Dont use # in f strings\n",
    "\n",
    "### String to code"
   ]
  },
  {
   "cell_type": "code",
   "execution_count": null,
   "metadata": {},
   "outputs": [],
   "source": [
    "mycode = 'x = 1'\n",
    "exec(mycode)\n",
    "\n",
    "# or\n",
    "x = eval(\"2+2\") # number ze stringu"
   ]
  },
  {
   "cell_type": "markdown",
   "metadata": {},
   "source": [
    "### Join - concatenate"
   ]
  },
  {
   "cell_type": "code",
   "execution_count": null,
   "metadata": {},
   "outputs": [],
   "source": [
    "words = [\"this\", 'is', 'a', 'list', 'of', \"strings\"]\n",
    "' '.join(words)  #returns \"This is a list of strings\""
   ]
  },
  {
   "cell_type": "markdown",
   "metadata": {},
   "source": [
    "# List"
   ]
  },
  {
   "cell_type": "code",
   "execution_count": null,
   "metadata": {},
   "outputs": [],
   "source": [
    "empty_list = []\n",
    "lst = [1, 2, 3, 4]\n",
    "lst.append(1)  # lst is now [1, 2, 3, 4, 1]\n",
    "lst.insert(1, 2)  # insert 2 on index 1\n",
    "lst.pop()  # Remove last value\n",
    "lst.remove(2)  # Remove first 2 in list\n",
    "del lst[1]  # Delete first element\n",
    "del lst[-2:]  # Range delete - from the last one\n",
    "b = [1,2]\n",
    "c = lst + b  # Serializes\n",
    "lst.extend(b)  # Serializes\n",
    "\n",
    "# If lst a = lst b and we change one of them, the other also change therefor\n",
    "\n",
    "lista = [1, 2, 3]\n",
    "listb = lista.copy()\n",
    "listb[2] = 5\n",
    "print(lista)  # [1, 2, 5]\n",
    "\n",
    "### Access members\n",
    "\n",
    "lst = [1, 2, 3, 4]\n",
    "lst[0]  # => 1\n",
    "lst[-1]  # => 3\n",
    "\n",
    "### Slices\n",
    "\n",
    "lst[1:3]  # => [2, 4]\n",
    "lst[2:]  # => [4, 3]\n",
    "lst[:3] # => [1, 2, 4]\n",
    "\n",
    "# Every second member\n",
    "\n",
    "lst[::2] # =>[1, 4]\n",
    "\n",
    "### Minimum\n",
    "\n",
    "youngest = min(lst)\n",
    "\n",
    "### Find maximum and it's index\n",
    "\n",
    "m = max(lst)\n",
    "[i for i, j in enumerate(a) if j == m] # pro a = [1,2,0]  # 1\n",
    "\n",
    "### Sum\n",
    "\n",
    "suma = sum(lst)\n",
    "\n",
    "### If member exist\n",
    "\n",
    "1 in lst # => True\n",
    "\n",
    "### Length of list\n",
    "\n",
    "len(lst) # => 6\n",
    "\n",
    "### Every value just once\n",
    "\n",
    "t =  [1,  2,  3,  1,  2,  5,  6,  7,  8]\n",
    "lst = list(set(t))  # [1,  2,  3,  5,  6,  7,  8]\n",
    "\n",
    "### Reverse\n",
    "\n",
    "rev = lst[::-1] # => [3, 4, 2, 1]\n",
    "\n",
    "# Or\n",
    "\n",
    "rev = t.reverse()\n",
    "\n",
    "### Iterate in reverse order\n",
    "\n",
    "for i in reversed(lst):\n",
    "    pass\n",
    "\n",
    "### Check if list is empty or not\n",
    "\n",
    "a = 6\n",
    "if a:\n",
    "    pass\n",
    "\n",
    "if not a:\n",
    "    pass\n",
    "\n",
    "### Create list from 0 to 10\n",
    "\n",
    "l = range(10) #  [0,  1,  2,  3,  4,  5,  6,  7,  8,  9]\n",
    "\n",
    "### Create list - List comprehension\n",
    "\n",
    "[x*5 for x in range(5)] #[0, 5, 10, 15, 20]\n",
    "[x for x in range(5) if x%2 == 0] #[0, 2, 4]\n",
    "[a if a else  2  for a in  [0,1,0,3]]\n",
    "\n",
    "# List comprehension from more entities\n",
    "\n",
    "list_1 = [1, 2, 3]\n",
    "list_2 = [2, 3, 4]\n",
    "[(i, j) for i, j in zip(list_1, list_2)] # [(1, 'a'), (2, 'b'...]\n",
    "\n",
    "### Zip lists\n",
    "\n",
    "zip(list_1, list_2) # {(a1, b1), (a2, b2)}\n",
    "\n",
    "### Logical condition on lists\n",
    "\n",
    "j2 = [i for i in list_1 if i >=  5]\n",
    "\n",
    "### One value more times\n",
    "\n",
    "listOfStr = ['Hi'] * 3 # ['Hi', 'Hi', 'Hi']\n",
    "\n",
    "### Multiple list\n",
    "\n",
    "my_list =  [1,  2,  3,  4,  5]\n",
    "my_new_list =  [i *  5  for i in my_list]\n",
    "\n",
    "### Find index\n",
    "\n",
    "my_list.index(3)\n",
    "\n",
    "### Nested lists\n",
    "\n",
    "t = [[1,2], [3,4]]\n",
    "print(t[1][1])  # 4\n",
    "\n",
    "### Every first member of nested lists\n",
    "\n",
    "L = [[[0,1,2],[3,4,5],[6,7,8]],  [[0,1,2],[3,4,5],[6,7,8]],  [[0,1,2],[3,4,5],[6,7,8]]]\n",
    "R = [[x[0]  for x in sl ]  for sl in L ]  # [[0, 3, 6], [0, 3, 6], [0, 3, 6]]\n",
    "\n",
    "# Or\n",
    "\n",
    "lst = [[1,2,3],[11,12,13],[21,22,23]]\n",
    "a = list(zip(*lst))[0]  # [1, 11, 21]\n",
    "\n",
    "### Add first with first, second with second\n",
    "\n",
    "[a + b for a, b in zip(list_1, list_2)]\n",
    "\n",
    "### List of functions\n",
    "\n",
    "def func1():return 1\n",
    "def func2():return 2\n",
    "def func3():return 3\n",
    "fl = [func1,func2,func3]\n",
    "[f() for f in fl] # [1, 2, 3]\n",
    "\n",
    "### How many times members in list\n",
    "\n",
    "import collections\n",
    "print( collections.Counter(['a', 'b', 'c', 'a', 'b', 'b']))"
   ]
  },
  {
   "cell_type": "markdown",
   "metadata": {},
   "source": [
    "# Deque\n",
    "\n",
    "You can iterate from both sides"
   ]
  },
  {
   "cell_type": "code",
   "execution_count": null,
   "metadata": {},
   "outputs": [],
   "source": [
    "import collections\n",
    "de = collections.deque([1, 2, 3])\n",
    "de.append(0)  # Add x to the right side of the deque.\n",
    "de.appendleft(6)  # Add x to the left side of the deque.\n",
    "de.count(2)  # Count the number of deque elements equal to x.\n",
    "lst = [1, 2, 3]\n",
    "de.extend(lst)  # Extend the right side of the deque by appending elem   ents from the iterable argument.\n",
    "de.pop()  # Remove and return an element from the right side of the deque. If no elements are present, raises an IndexError.\n",
    "de.popleft()  # Remove and return an element from the left side of the deque. If no elements are present, raises an IndexError.\n",
    "de.remove(2)  # Remove the first occurrence of value. If not found, raises a ValueError.\n",
    "de.reverse()  # Reverse the elements of the deque in-place and then return None.\n",
    "de.rotate(1)  # Rotate the deque n steps to the right. If n is negative, rotate to the left.\n",
    "de.clear()  # Remove all elements from the deque leaving it with length 0.\n"
   ]
  },
  {
   "cell_type": "markdown",
   "metadata": {},
   "source": [
    "## Tuple\n",
    "\n",
    "Tuple is like list but imutable  !!! [] i can change - () i cannot change !!!"
   ]
  },
  {
   "cell_type": "code",
   "execution_count": null,
   "metadata": {},
   "outputs": [],
   "source": [
    "tuple = (1, 2, 3)\n",
    "tuple[0]  # => 1\n",
    "# tuple[0] = 3  # Raise TypeError"
   ]
  },
  {
   "cell_type": "markdown",
   "metadata": {},
   "source": [
    "# Dictionary"
   ]
  },
  {
   "cell_type": "code",
   "execution_count": null,
   "metadata": {},
   "outputs": [],
   "source": [
    "empty_dic = {}\n",
    "dic = {\"jedna\": 1, \"dva\": 2, \"tři\": 3}\n",
    "dic_variable = {key:value for (key,value) in dic.items()}\n",
    "\n",
    "### Add value\n",
    "\n",
    "dic['čtyři'] = 4  # If key is already there it's updated\n",
    "\n",
    "### Create dictionary from two lists\n",
    "\n",
    "name = ['mike', 'john', 'steve']  \n",
    "age = [20, 32, 19]\n",
    "dic=dict(zip(name, age))\n",
    "\n",
    "### Miscelanious\n",
    "\n",
    "thisdict = {'b':1, 'c':2, 'd':3}\n",
    "del thisdict['b']  # delete list\n",
    "'e' in thisdict  # returns False\n",
    "thisdict.items()  # returns [('a', 1), ('c', 'eggs')]\n",
    "\n",
    "# All keys\n",
    "\n",
    "dic.keys()\n",
    "\n",
    "# You need list sometimes not iterables\n",
    "\n",
    "list(dic.keys())\n",
    "\n",
    "### Last key in dictionary\n",
    "\n",
    "max(dic)\n",
    "\n",
    "### For cycle for all keys\n",
    "\n",
    "for s in dic:\n",
    "    print(s)\n",
    "\n",
    "### Maximum value and its index\n",
    "\n",
    "stats = {'a':1000, 'b':3000, 'c': 100}\n",
    "maxname = max(stats, key=stats.get)\n",
    "maxvalue = stats[maxname]\n",
    "\n",
    "### Values\n",
    "\n",
    "list(dic.values()) # => [3, 2, 1]\n",
    "\"jedna\" in dic # => True if value is in dictionary\n",
    "dic.get(\"čtyři\") # => None - don't raise error if key not in dic\n",
    "dic.setdefault(\"pět\", 5) # dic[\"pět\"] default 5\n",
    "\n",
    "### Find key from value\n",
    "\n",
    "list(stats.keys())[list(stats.values()).index(100)]\n",
    "\n",
    "### For cycle for dictionaries\n",
    "\n",
    "for k in stats: # Iteruje přes všechny klíče\n",
    "    print(k)\n",
    "\n",
    "for k, v in stats.items(): # Iteruje řes všechny klíče a hodnoty\n",
    "    print(k,v)\n",
    "\n",
    "### Join two dictionaries\n",
    "\n",
    "c = {**dic, **stats}\n",
    "\n",
    "### Enumerate in dictionaries\n",
    "\n",
    "for i, (j, k) in enumerate(dic.items()):\n",
    "    pass\n",
    "\n",
    "### Dictionary as arguments into function\n",
    "\n",
    "def rep(*nonamed, **named):\n",
    "    return nonamed, named\n",
    "\n",
    "t = (47,11)\n",
    "d = {'x':'extract','y':'yes'}\n",
    "rep(*t, **d) # It's the same as f(47, 11, x=extract, y=yes)\n",
    "\n",
    "### Nested dictionaries - for examples name of functions and it's parameters\n",
    "\n",
    "def rep2(*inp, **inp2):\n",
    "    return rep\n",
    "\n",
    "models = {\"AR (Autoregression)\": rep, \"Linear neural unit\": rep2}\n",
    "modelsparameters = {\"AR (Autoregression)\": {\"predicts\":  2}, \"Linear neural unit\": {\"predicts\": 4}}\n",
    "modelscomplet = zip(models.keys(), models.values(),  modelsparameters.values())\n",
    "modelsresults = []\n",
    "\n",
    "for i, j, k in modelscomplet:\n",
    "    modelsresults.append({i: j(1, **k)})\n",
    "\n",
    "### Nested dictionaries - Find minimum\n",
    "\n",
    "top = 1000000\n",
    "for key, value in modelsparameters.items():\n",
    "    for inkey, invalue in value.items():\n",
    "        if invalue < top:\n",
    "            best_model_name = key\n",
    "            best_data = inkey\n",
    "            top = invalue\n",
    "\n",
    "### Dictionary comprehension\n",
    "\n",
    "{x: x**2 for x in range(1, 5)} # => {1: 1, 2: 4, 3: 9, 4: 16}\n",
    "{pismeno for pismeno in \"abeceda\"} # => {\"d\", \"a\", \"c\", \"e\", \"b\"}"
   ]
  },
  {
   "cell_type": "markdown",
   "metadata": {},
   "source": [
    "# Set\n",
    "\n",
    "It is not oredered and every value is just once!"
   ]
  },
  {
   "cell_type": "code",
   "execution_count": null,
   "metadata": {},
   "outputs": [],
   "source": [
    "empty_set = set()\n",
    "sett = {1, 1, 2, 2, 3, 4}  # {1, 2, 3, 4}\n",
    "sett.add(5)  # {1, 2, 3, 4, 5}\n",
    "jina_set = {3, 4, 5, 6}\n",
    "\n",
    "# Intersect of 2 sets\n",
    "\n",
    "sett & jina_set # => {3, 4, 5}\n",
    "\n",
    "# Union\n",
    "\n",
    "sett | jina_set # => {1, 2, 3, 4, 5, 6}\n",
    "\n",
    "# Exception\n",
    "\n",
    "{1, 2, 3, 4} - {2, 3, 5} # => {1, 4}\n",
    "\n",
    "# If member exist\n",
    "\n",
    "2 in sett # => True\n",
    "9 in sett # => False"
   ]
  },
  {
   "cell_type": "markdown",
   "metadata": {},
   "source": [
    "# Dataframe\n",
    "\n",
    "Panda library is necessary\n",
    "If there is a parameter inplace=True, then changes are made on original, otherwise change is only made for new variable assign"
   ]
  },
  {
   "cell_type": "code",
   "execution_count": null,
   "metadata": {},
   "outputs": [],
   "source": [
    "### Import from csv\n",
    "\n",
    "impt = '''\n",
    "import pandas as pd\n",
    "data = pd.read_csv(\n",
    "    \"data/files/complex_data_example.tsv\",\n",
    "    sep='\\t',  # Tab-separated value file.\n",
    "    quotechar=\"'\",  # single quote allowed as quote character\n",
    "    dtype={\"salary\": int},  # Parse the salary column as an integer\n",
    "    usecols=['name', 'birth_date'].  # Only columns\n",
    "    parse_dates=['birth_date'],  # Intepret the birth_date column as a date\n",
    "    skiprows=10,  # Skip the first 10 rows of the file\n",
    "    na_values=['.', '??']  # Take any '.' or '??' values as NA\n",
    ")\n",
    "'''\n",
    "\n",
    "### Save into CSV\n",
    "\n",
    "# df.to_csv('newcsv.csv') # bez názvů , header=False\n",
    "\n",
    "### Create\n",
    "\n",
    "import pandas as pd\n",
    "# one column dataframe\n",
    "\n",
    "s2 = pd.Series([1,2,3,4])\n",
    "\n",
    "# dataframe\n",
    "\n",
    "s2 = pd.DataFrame([1,2,3,4])\n",
    "\n",
    "# from list\n",
    "\n",
    "data = [['tom', 10, 1], ['nick', 15, 2], ['juli', 14, 3]]\n",
    "df = pd.DataFrame(data, columns = ['name', 'age', 'index'])\n",
    "\n",
    "# from dictionary\n",
    "\n",
    "dict = {'a': 1, 'b': 2}\n",
    "newdatf = pd.DataFrame.from_dict(dict, orient='index')\n",
    "\n",
    "# from array\n",
    "\n",
    "array = np.array([[1, 2], [2, 3], [3, 4]])\n",
    "#df2 = pd.DataFrame(data=array[1:,1:], index=range(len(data)), columns=data[0,1:])\n",
    "\n",
    "### Access column\n",
    "\n",
    "df['name']\n",
    "\n",
    "### Subset of columns - Access members\n",
    "\n",
    "# With name\n",
    "\n",
    "df1 = df[['name','age']]\n",
    "\n",
    "# with index\n",
    "\n",
    "df2 = df.iloc[:,0:1]  #   # All rows, first and second column\n",
    "\n",
    "df3 = df.iloc[0]  # First row\n",
    "\n",
    "### Column to new dataframe\n",
    "\n",
    "a = df.pop('index')\n",
    "\n",
    "### Return name of column from index\n",
    "\n",
    "a = df.columns[0]  # Columns return name of column\n",
    "\n",
    "### Find index from column name\n",
    "\n",
    "a = df.columns.get_loc(\"age\")\n",
    "\n",
    "### Logical conditions\n",
    "\n",
    "df_new = df.loc[df['name'] == 'juli']\n",
    "\n",
    "### Concat 2 columns\n",
    "\n",
    "df['name_and_age'] = df['name'] + str(df['age'])\n",
    "\n",
    "### Make index from colmn\n",
    "\n",
    "df.set_index('name', inplace=True)\n",
    "df.reset_index(level=None, drop=False, inplace=False)\n",
    "\n",
    "### Convert into array\n",
    "\n",
    "df['age'].values\n",
    "b=df1.iloc[:,1:].values  # every column separately\n",
    "\n",
    "### Convert into list\n",
    "\n",
    "lst = df['age'].values.tolist()\n",
    "\n",
    "### Lenght of dataframe\n",
    "\n",
    "length = len(df.index)\n",
    "\n",
    "### Date and time and datetime, range\n",
    "\n",
    "# Datetime from values\n",
    "\n",
    "year = 2020; month = 3; day = 14; hour = 4\n",
    "start = pd.Timestamp(year=year, month=month, day=day, hour=hour)\n",
    "\n",
    "# Range\n",
    "\n",
    "df['EventStart'] = pd.date_range(start=start, periods=length, freq='H')\n",
    "\n",
    "# Convert from datetime to time, the same to datetime\n",
    "\n",
    "df['EventStart_time'] = df['EventStart'].dt.time\n",
    "\n",
    "### Set index\n",
    "\n",
    "df.set_index('EventStart', drop=True, inplace=True)\n",
    "df.index = pd.to_datetime(df.index)\n",
    "\n",
    "### Resample datetime dataframe\n",
    "\n",
    "df_res = df.resample('M').sum() # Méně řádků na výstupu\n",
    "\n",
    "### Copy of dataframe\n",
    "\n",
    "# !!! If you use variables., change in one is also changed in the others, so if you want independent dataframes, use copy() !!!\n",
    "\n",
    "df2 = df.copy()\n",
    "\n",
    "\n",
    "### Join 2 dataframes\n",
    "\n",
    "#### Concat\n",
    "# possible parameters - axis, join, ignore_index, sort, keys, levels\n",
    "\n",
    "df = pd.DataFrame([['a', 1], ['b', 2], ['c', 3]], columns=['letter', 'number'])\n",
    "    #         letter  number\n",
    "    #    0      a       1\n",
    "    #    1      b       2\n",
    "    #    2      c       3\n",
    "\n",
    "df2 = pd.DataFrame([['c', 1], ['d', 2], ['e', 3]], columns=['letter', 'number2'])\n",
    "\n",
    "    #        letter  number\n",
    "    #    0      c       1\n",
    "    #    1      d       2\n",
    "    #    2      e       3\n",
    "\n",
    "# Add rows\n",
    "\n",
    "df_rows = pd.concat([df, df2])\n",
    "\n",
    "    #        letter  number  number2\n",
    "    #    0      a     1.0      NaN\n",
    "    #    1      b     2.0      NaN\n",
    "    #    2      c     3.0      NaN\n",
    "    #    0      c     NaN      1.0\n",
    "    #    1      d     NaN      2.0\n",
    "    #    2      e     NaN      3.0\n",
    "\n",
    "    # join='inner' means only columns that are in both dfs\n",
    "\n",
    "# Add columns\n",
    "\n",
    "df_columns = pd.concat([df, df2], axis=1)\n",
    "\n",
    "    #        letter  number letter  number\n",
    "    #    0      a       1      c       1\n",
    "    #    1      b       2      d       2\n",
    "    #    2      c       3      e       3\n",
    "\n",
    "# or you can use\n",
    "\n",
    "df4 = df.append(df2)\n",
    "    #         letter  number  number2\n",
    "    #    0      a     1.0      NaN\n",
    "    #    1      b     2.0      NaN\n",
    "    #    2      c     3.0      NaN\n",
    "    #    0      c     NaN      1.0\n",
    "    #    1      d     NaN      2.0\n",
    "    #    2      e     NaN      3.0\n",
    "\n",
    "### Merge\n",
    "# Add database parameters like left join, outer join\n",
    "\n",
    "result = pd.merge(df, df2, on='letter', how='left')\n",
    "\n",
    "    #        letter  number  number2\n",
    "    #    0      a       1      NaN\n",
    "    #    1      b       2      NaN\n",
    "    #    2      c       3      1.0\n",
    "\n",
    "### Group by\n",
    "\n",
    "gpd = df4.groupby('letter').agg({'number': np.mean, 'number2': np.size})\n",
    "\n",
    "    #        number  number2\n",
    "    #  letter\t\t\n",
    "    #    a\t   1.0\t   1.0\n",
    "    #    b\t   2.0\t   1.0\n",
    "    #    c\t   3.0\t   2.0   # c only once, not twice\n",
    "    #    d\t   NaN\t   1.0\n",
    "    #    e\t   NaN\t   1.0\n",
    "\n",
    "#### Get all from one group\n",
    "\n",
    "gpd = df4.groupby('letter')\n",
    "c = gpd.get_group('c')\n",
    "\n",
    "    #        letter  number  number2\n",
    "    #    2      c     3.0      NaN\n",
    "    #    0      c     NaN      1.0\n",
    "\n",
    "### Mean, standard deviation\n",
    "\n",
    "mean = df['number'].mean()\n",
    "std = df['number'].std()\n",
    "\n",
    "### Rolling (moving) average and standard deviation\n",
    "\n",
    "rolling_mean = df['number'].rolling(10).mean()\n",
    "rolling_std = df['number'].rolling(10).std()\n",
    "\n",
    "### Remove outliers\n",
    "\n",
    "df_removed_outliers = df[ (df['number'] < 2 * std) ]\n",
    "\n",
    "### Transpose - Rows into columns\n",
    "\n",
    "df = df.T"
   ]
  },
  {
   "cell_type": "markdown",
   "metadata": {},
   "source": [
    "# Numpy Array"
   ]
  },
  {
   "cell_type": "code",
   "execution_count": null,
   "metadata": {},
   "outputs": [],
   "source": [
    "## Create\n",
    "\n",
    "ar = np.array([[1,2,3], [4, 5, 6]])\n",
    "a = ar[1, 2]  # 5 - Access array\n",
    "a = np.append(a, 3)  # Add element to the end\n",
    "a = np.insert(a,1,[11,12])  # Into a on index 1 insert [11,12], next parameter can be axis\n",
    "np.roll(a,2) # Posune array o 2 doprava\n",
    "wo = np.array([1,2,3]) # Shape (3,)\n",
    "wo = np.array([[1,2,3,4,5]]) # Shape (1,5)\n",
    "wo = np.array([[1],[2],[3],[4],[5]]) # Shape (5,1)\n",
    "shape = np.shape(a) # `(n,m) Number of rows, columns etc.\n",
    "ar.shape[0]  # How many rows`\n",
    " \n",
    "\n",
    "## Convert\n",
    "\n",
    "a = np.array([1, 2, 3])\n",
    "my_list = ar.tolist()  # Convert on list\n",
    "one_dim_list = np.array(ar).reshape(-1).tolist()  # Convert to one-dimensional list\n",
    "a_scal = a[0].item()  # from np.int convert on int\n",
    "\n",
    "### Convert to other dtype\n",
    "\n",
    "b = a.astype(int)  # convert on np.int\n",
    "\n",
    "\n",
    "### Slicing\n",
    "\n",
    "a = np.array([[1,2,3],[3,4,5],[4,5,6]]) \n",
    "\n",
    "   #    [[1 2 3]\n",
    "   #     [3 4 5]\n",
    "   #     [4 5 6]] \n",
    "\n",
    "# Only column - not retain shape\n",
    "\n",
    "b = a[:, 1]  # [2 4 5]\n",
    "\n",
    "# Columns with same shape\n",
    "\n",
    "b = a[:, 1:2]  #   [[2]\n",
    "               #    [4]\n",
    "               #    [5]]\n",
    "\n",
    "# Only rows\n",
    "\n",
    "b = a[1, :]\n",
    "\n",
    "### Join matrixes\n",
    "\n",
    "np.vstack([a,a])\n",
    "\n",
    "    #   [[1, 2, 3],\n",
    "    #    [3, 4, 5],\n",
    "    #    [4, 5, 6],\n",
    "    #    [1, 2, 3],\n",
    "    #    [3, 4, 5],\n",
    "    #    [4, 5, 6]])\n",
    "\n",
    "np.hstack([a,a])\n",
    "\n",
    "    #    [[1, 2, 3, 1, 2, 3],\n",
    "    #     [3, 4, 5, 3, 4, 5],\n",
    "    #     [4, 5, 6, 4, 5, 6]]\n",
    "\n",
    "# Create matrix from vectors\n",
    "\n",
    "a = np.array([1, 2, 3])\n",
    "b = np.array([2, 3, 4])\n",
    "c = np.stack((a, b))  # [[1, 2, 3],\n",
    "                      #  [2, 3, 4]]\n",
    "\n",
    "# Concatenate\n",
    "\n",
    "a = np.array([[1, 2], [3, 4]])\n",
    "b = np.array([[5, 6]])\n",
    "np.concatenate((a, b), axis=0)\n",
    "                                        # array([[1, 2],\n",
    "                                        #        [3, 4],\n",
    "                                        #        [5, 6]])\n",
    "np.concatenate((a, b.T), axis=1)\n",
    "                                        #  array([[1, 2, 5],\n",
    "                                        #         [3, 4, 6]])\n",
    "np.concatenate((a, b), axis=None)\n",
    "                                        # array([1, 2, 3, 4, 5, 6])\n",
    "\n",
    "# Append\n",
    "# Add column\n",
    "\n",
    "x = np.array([[10,20,30], [40,50,60]])\n",
    "y = np.array([[100], [200]])\n",
    "z = np.append(x, y, axis=1)\n",
    "\n",
    "    #   [[ 10  20  30 100]\n",
    "    #    [ 40  50  60 200]]\n",
    "\n",
    "### Find minimum value\n",
    "\n",
    "min = np.amin(c, axis=1)\n",
    "\n",
    "### Mean\n",
    "\n",
    "mean = np.mean(x)\n",
    "\n",
    "### Standard deviation\n",
    "\n",
    "std = np.std(x)\n",
    "\n",
    "### Find index of smallest value\n",
    "\n",
    "ind = np.unravel_index(np.argmin(a), shape=a.shape)\n",
    "\n",
    "### Create zero or ones matrix of given shape\n",
    "\n",
    "zeros = np.zeros_like(a)\n",
    "\n",
    "# Ones\n",
    "\n",
    "ones = np.ones((3,3))\n",
    "\n",
    "    #   [[1., 1., 1.],\n",
    "    #    [1., 1., 1.],\n",
    "    #    [1., 1., 1.]]\n",
    "\n",
    "### Replace all values with logical condition\n",
    "\n",
    "a[a > .5] = .5\n",
    "\n",
    "### Delete member\n",
    "\n",
    "a = np.delete(a, 1, axis=0) # There need to be variable before!  axis 0 are rows, 1 are columns\n",
    "\n",
    "### Delete Nan values\n",
    "\n",
    "a = a[~np.isnan(a)]\n",
    "\n",
    "### Delete all rows where are Nan\n",
    "\n",
    "ar = ar[~np.isnan(ar).any(axis=1)]\n",
    "\n",
    "### Sums\n",
    "\n",
    "# Axis 0 is for sums on columns\n",
    "\n",
    "np.sum([[0, 1], [0, 5]], axis=0)  # array([0, 6])\n",
    "np.sum([[0, 1], [0, 5]], axis=1)  # array([1, 5])\n",
    "\n",
    "### Dot product / multiplication\n",
    "\n",
    "x = np.array([1,2,3])\n",
    "w = np.array([1,2,3])\n",
    "v = x*w # [1, 4, 9]\n",
    "v = np.dot(x, w) # 14\n",
    "\n",
    "### Shape\n",
    "\n",
    "z = np.array([[1, 2, 3, 4],\n",
    "              [5, 6, 7, 8],\n",
    "              [9, 10, 11, 12]])\n",
    "z.shape  # (3, 4)\n",
    "\n",
    "### Number of members - count\n",
    "\n",
    "count = z.size\n",
    "\n",
    "### Cumulative sum\n",
    "\n",
    "y = np.cumsum(x)\n",
    "\n",
    "### Remove non unique values\n",
    "\n",
    "unique = np.unique(array, axis=0)\n",
    "\n",
    "### Reshape\n",
    "\n",
    "# reshape -1 add members automatically\n",
    "z_res = z.reshape(-1) # array([ 1,  2,  3,  4,  5,  6])\n",
    "z_res2 = z.reshape(-1,1)\n",
    "\n",
    "    # array([[ 1],\n",
    "    #        [ 2],\n",
    "    #        [ 3],\n",
    "    #        [ 4],\n",
    "    #        [ 5],\n",
    "    #        [ 6]])\n",
    "\n",
    "z_res3 = z.reshape(-1, 2)\n",
    "    # array([[ 1,  2],\n",
    "    #        [ 3,  4],\n",
    "    #        [ 5,  6],\n",
    "    #        [ 7,  8],\n",
    "    #        [ 9, 10],\n",
    "    #        [11, 12]])\n",
    "\n",
    "a = np.array([[1,2,3], [4,5,6]])\n",
    "\n",
    "a_res = np.reshape(a, 6, order='F')\n",
    "    # array([1, 4, 2, 5, 3, 6])\n",
    "\n",
    "### Transpose\n",
    "\n",
    "z = np.array([[[1, 1, 1, 1],\n",
    "              [1, 1, 1, 1],\n",
    "              [1, 1, 1, 1]], \n",
    "             \n",
    "              [[2, 2, 2, 2],\n",
    "              [2, 2, 2, 2],\n",
    "              [2, 2, 2, 2]],\n",
    "              \n",
    "             [[3, 3, 3, 3],\n",
    "              [3, 3, 3, 3],\n",
    "              [3, 3, 3, 3]]\n",
    "             ])\n",
    "\n",
    "z_tran = z.transpose(1, 0, 2)  # From (10, 100, 1000) create (10, 1000, 100)\n",
    "\n",
    "    #    array([[[1, 1, 1, 1],\n",
    "    #            [2, 2, 2, 2],\n",
    "    #            [3, 3, 3, 3]],\n",
    "    #\n",
    "    #           [[1, 1, 1, 1],\n",
    "    #            [2, 2, 2, 2],\n",
    "    #            [3, 3, 3, 3]],\n",
    "    #\n",
    "    #           [[1, 1, 1, 1],\n",
    "    #            [2, 2, 2, 2],\n",
    "    #            [3, 3, 3, 3]]])\n",
    "\n",
    "z_tran = z.transpose(1, 2, 0)\n",
    "\n",
    "    #   array([[[1, 2, 3],\n",
    "    #           [1, 2, 3],\n",
    "    #           [1, 2, 3],\n",
    "    #           [1, 2, 3]],\n",
    "    #\n",
    "    #          [[1, 2, 3],\n",
    "    #           [1, 2, 3],\n",
    "    #           [1, 2, 3],\n",
    "    #           [1, 2, 3]],\n",
    "    #\n",
    "    #          [[1, 2, 3],\n",
    "    #           [1, 2, 3],\n",
    "    #           [1, 2, 3],\n",
    "    #           [1, 2, 3]]])\n",
    "\n",
    "### Generate points, arange, linspace, random and generate sin\n",
    "\n",
    "q = np.random.randn(3, 3)\n",
    "t = np.linspace(0,20,1000)  # Generate numbers with the same interval (beginning, end, number)\n",
    "t = np.arange(1, 3, 1)  # Start, stop, step - [1, 2]\n",
    "t = np.arange(3)  # 0, 1, 2\n",
    "y = np.sin(t)\n",
    "\n",
    "### Find index (one) with max / min value\n",
    "\n",
    "np.argmax(x)  # or argmin. Also can use parameter axis\n",
    "\n",
    "### Eigen values\n",
    "\n",
    "eig = np.linalg.eig(q)\n",
    "\n",
    "### Inverse matrix\n",
    "\n",
    "q_inv = np.linalg.inv(q)\n",
    "\n",
    "### Determinant\n",
    "\n",
    "det = np.linalg.det(q)\n",
    "\n",
    "### Fill with Nan values\n",
    "\n",
    "z = np.zeros((2, 3))\n",
    "z.fill(np.nan)\n",
    "\n",
    "### Check if Nan values\n",
    "\n",
    "if not np.isnan(np.any(z)):\n",
    "   pass\n",
    "\n",
    "### Zip for arrays\n",
    "\n",
    "def azip(*args):\n",
    "    iters = [iter(arg) for arg in args]\n",
    "    for i in itertools.count():\n",
    "        yield tuple([it.next() for it in iters])"
   ]
  },
  {
   "cell_type": "markdown",
   "metadata": {},
   "source": [
    "# Iterator"
   ]
  },
  {
   "cell_type": "code",
   "execution_count": null,
   "metadata": {},
   "outputs": [],
   "source": [
    "iterable = [1, 2, 3]\n",
    "iterator = iter(iterable)"
   ]
  },
  {
   "cell_type": "markdown",
   "metadata": {},
   "source": [
    "Next value"
   ]
  },
  {
   "cell_type": "code",
   "execution_count": null,
   "metadata": {},
   "outputs": [],
   "source": [
    "next(iterator) # => \"one\""
   ]
  },
  {
   "cell_type": "markdown",
   "metadata": {},
   "source": [
    "# LOOPZ\n",
    "## IF\n",
    "### If variable exist"
   ]
  },
  {
   "cell_type": "code",
   "execution_count": null,
   "metadata": {},
   "outputs": [],
   "source": [
    "variable = [10, 20, 30]\n",
    "for i in variable:\n",
    "    if variable:\n",
    "        print(\"variable exist\")\n",
    "    if i > 10:\n",
    "        print(\"Something\")\n",
    "        pass  # Do nothing\n",
    "    elif i < 10:\n",
    "        print(\"Variable is smaller than 10\")\n",
    "        continue # Jump to other operation\n",
    "    else:\n",
    "        print(\"Variable is 10 or not a number\")\n",
    "        break # Jump out of the cycle"
   ]
  },
  {
   "cell_type": "markdown",
   "metadata": {},
   "source": [
    "### Ternary operator - If in argument"
   ]
  },
  {
   "cell_type": "code",
   "execution_count": null,
   "metadata": {},
   "outputs": [],
   "source": [
    "variable = 3\n",
    "state = \"nice\" if variable else \"not nice\""
   ]
  },
  {
   "cell_type": "markdown",
   "metadata": {},
   "source": [
    "## FOR"
   ]
  },
  {
   "cell_type": "code",
   "execution_count": null,
   "metadata": {},
   "outputs": [],
   "source": [
    "for zvire in [\"pes\", \"kočka\", \"myš\"]:\n",
    "    print(\"zvire\")\n",
    "for i in range(4):\n",
    "    print(i)\n",
    "for i in range(4, 8):\n",
    "    print(i)\n",
    "colors  =  [\"red\",  \"green\",  \"blue\",  \"purple\"]\n",
    "for  i  in  range(len(colors)):\n",
    "    print(colors[i])"
   ]
  },
  {
   "cell_type": "markdown",
   "metadata": {},
   "source": [
    "### Return indexes and elements"
   ]
  },
  {
   "cell_type": "code",
   "execution_count": null,
   "metadata": {},
   "outputs": [],
   "source": [
    "ints = [8, 23, 45, 12, 78]\n",
    "for idx, val in enumerate(ints):\n",
    "    print(idx, val)"
   ]
  },
  {
   "cell_type": "markdown",
   "metadata": {},
   "source": [
    "## Generate list of elements from u1 to u5"
   ]
  },
  {
   "cell_type": "code",
   "execution_count": null,
   "metadata": {},
   "outputs": [],
   "source": [
    "uname = ['u{}'.format(n) for n in range(1, 6)]"
   ]
  },
  {
   "cell_type": "markdown",
   "metadata": {},
   "source": [
    "## Generate values with strings"
   ]
  },
  {
   "cell_type": "code",
   "execution_count": null,
   "metadata": {},
   "outputs": [],
   "source": [
    "for k in range(5):\n",
    "    exec(f'cat_{k} = k*2')"
   ]
  },
  {
   "cell_type": "markdown",
   "metadata": {},
   "source": [
    "### For in list comprehension"
   ]
  },
  {
   "cell_type": "code",
   "execution_count": null,
   "metadata": {},
   "outputs": [],
   "source": [
    "[x*5 for x in range(5)] #[0, 5, 10, 15, 20]"
   ]
  },
  {
   "cell_type": "markdown",
   "metadata": {},
   "source": [
    "### Generate list with for cycle and if"
   ]
  },
  {
   "cell_type": "code",
   "execution_count": null,
   "metadata": {},
   "outputs": [],
   "source": [
    "[x for x in range(5) if x%2 == 0]  #[0, 2, 4]\n",
    "[a if a else  2  for a in  [0,1,0,3]]"
   ]
  },
  {
   "cell_type": "markdown",
   "metadata": {},
   "source": [
    "### Generate list with more parameters"
   ]
  },
  {
   "cell_type": "code",
   "execution_count": null,
   "metadata": {},
   "outputs": [],
   "source": [
    "list1 = [1, 2, 3]\n",
    "list2 = [3, 4, 5]\n",
    "[a + b for a, b in zip(list1, list2)]"
   ]
  },
  {
   "cell_type": "markdown",
   "metadata": {},
   "source": [
    "### Nested lists"
   ]
  },
  {
   "cell_type": "code",
   "execution_count": null,
   "metadata": {},
   "outputs": [],
   "source": [
    "a = [[1,2,3],[2,3,4],[5,6,7]]\n",
    "print(a[1][1])   "
   ]
  },
  {
   "cell_type": "markdown",
   "metadata": {},
   "source": [
    "## WHILE"
   ]
  },
  {
   "cell_type": "code",
   "execution_count": null,
   "metadata": {},
   "outputs": [],
   "source": [
    "x = 0\n",
    "while x < 4:\n",
    "    print(x)\n",
    "    x += 1"
   ]
  },
  {
   "cell_type": "markdown",
   "metadata": {},
   "source": [
    "# Functions"
   ]
  },
  {
   "cell_type": "code",
   "execution_count": null,
   "metadata": {},
   "outputs": [],
   "source": [
    "def secist(x, y):  # Create new function with def\n",
    "    return x + y  # Return values with return\n",
    "secist(5, 6)  # Call the function with parameters, return 11\n",
    "secist(y=6, x=5)  # Named arguments\n",
    "def return_arguments(*argumenty):  # Variable number of arguments\n",
    "    return argumenty\n",
    "return_arguments(1, 2, 3)  # => (1, 2, 3)\n",
    "def return_named_arguments(**pojmenovane_argumenty):  # Varaiable number of named arguments\n",
    "    return pojmenovane_argumenty\n",
    "return_named_arguments(kdo=\"se bojí\", nesmi=\"do lesa\")  # {\"kdo\": \"se bojí\", \"nesmi\": \"do lesa\"}\n",
    "def return_all(*args, **kwargs):  # You can use combination\n",
    "    print(args, kwargs)  # Return all parameters"
   ]
  },
  {
   "cell_type": "markdown",
   "metadata": {},
   "source": [
    "### Jump out of function - return"
   ]
  },
  {
   "cell_type": "code",
   "execution_count": null,
   "metadata": {},
   "outputs": [],
   "source": [
    "def print_var():\n",
    "    a = 8\n",
    "    if a > 5:\n",
    "        return\n",
    "    print_var(2)"
   ]
  },
  {
   "cell_type": "markdown",
   "metadata": {},
   "source": [
    "### Default parameter"
   ]
  },
  {
   "cell_type": "code",
   "execution_count": null,
   "metadata": {},
   "outputs": [],
   "source": [
    "def funkce(y, lags=50): #If we use lags in call, it will be overwritten\n",
    "    return 1"
   ]
  },
  {
   "cell_type": "markdown",
   "metadata": {},
   "source": [
    "### Unknown number of parameters - *args, **kwargs"
   ]
  },
  {
   "cell_type": "code",
   "execution_count": null,
   "metadata": {},
   "outputs": [],
   "source": [
    "def print_all(*args, **kwargs):\n",
    "    print(args, kwargs)\n",
    "\n",
    "print_all(1, 2, a=3, b=4) # Use: (1, 2) {\"a\": 3, \"b\": 4}\n",
    "tuple = (1, 2, 3, 4)\n",
    "dic = {\"a\": 3, \"b\": 4}\n",
    "print_all(tuple)  # Is like print_all((1, 2, 3, 4)). One parameter - tuple\n",
    "print_all(*tuple)  # Is like print_all(1, 2, 3, 4)\n",
    "print_all(**dic)  # Is like print_all(a=3, b=4)\n",
    "print_all(*tuple, **dic)  # Is like print_all(1, 2, 3, 4, a=3, b=4)"
   ]
  },
  {
   "cell_type": "markdown",
   "metadata": {},
   "source": [
    "### Global variables"
   ]
  },
  {
   "cell_type": "code",
   "execution_count": null,
   "metadata": {},
   "outputs": [],
   "source": [
    "x = 5\n",
    "def setx(cislo):  # Local variable override global\n",
    "    x = cislo  # => 43\n",
    "    print(x)  # => 43\n",
    "\n",
    "\n",
    "def setglobalx(cislo):\n",
    "    global x\n",
    "    print(x) # => 5\n",
    "    x = cislo # Nastaví globální proměnnou x na 6\n",
    "    print(x) # => 6"
   ]
  },
  {
   "cell_type": "markdown",
   "metadata": {},
   "source": [
    "# Functions are objects"
   ]
  },
  {
   "cell_type": "code",
   "execution_count": null,
   "metadata": {},
   "outputs": [],
   "source": [
    "def adder(pricitane_cislo):\n",
    "    def scitacka(x):\n",
    "        return x + pricitane_cislo\n",
    "    return scitacka\n",
    "add_10 = adder(10)\n",
    "add_10(3)  # => 13"
   ]
  },
  {
   "cell_type": "markdown",
   "metadata": {},
   "source": [
    "### Function in list generator"
   ]
  },
  {
   "cell_type": "code",
   "execution_count": null,
   "metadata": {},
   "outputs": [],
   "source": [
    "[add_10(i) for i in [1, 2, 3]]  # => [11, 12, 13]\n",
    "[x for x in [3, 4, 5, 6, 7] if x > 5]  # => [6, 7]"
   ]
  },
  {
   "cell_type": "markdown",
   "metadata": {},
   "source": [
    "## Functions map(), filter(), reduce()\n",
    "\n",
    "From the functional programming\n",
    "\n",
    "Map call funtion (first parameter) on all objects (second parameter)"
   ]
  },
  {
   "cell_type": "code",
   "execution_count": null,
   "metadata": {},
   "outputs": [],
   "source": [
    "map(add_10, [1, 2, 3])"
   ]
  },
  {
   "cell_type": "markdown",
   "metadata": {},
   "source": [
    "Filter create list (First paratemer), where function is true (second parameter)"
   ]
  },
  {
   "cell_type": "code",
   "execution_count": null,
   "metadata": {},
   "outputs": [],
   "source": [
    "number_list = range(-5, 5)\n",
    "less_than_zero = list(filter(lambda x: x < 0, number_list))\n",
    "print(less_than_zero)  # [-5, -4, -3, -2, -1]"
   ]
  },
  {
   "cell_type": "markdown",
   "metadata": {},
   "source": [
    "### Reduce - Input sequention into function"
   ]
  },
  {
   "cell_type": "code",
   "execution_count": null,
   "metadata": {},
   "outputs": [],
   "source": [
    "from functools import reduce\n",
    "def do_sum(x1, x2): return x1 + x2\n",
    "reduce(do_sum, [1, 2, 3, 4]) # 10"
   ]
  },
  {
   "cell_type": "markdown",
   "metadata": {},
   "source": [
    "# Generators\n",
    "\n",
    "Generators are functions, that instead return have yield"
   ]
  },
  {
   "cell_type": "code",
   "execution_count": null,
   "metadata": {},
   "outputs": [],
   "source": [
    "def multiplier_2(sequention):\n",
    "    for i in sequention:\n",
    "        yield 2 * i"
   ]
  },
  {
   "cell_type": "markdown",
   "metadata": {},
   "source": [
    "Generator generate values one after one, when it\\s needed. Instead of been generated all at once\n",
    "Example of generator is range(10000)\n",
    "\n",
    "# Dekorators\n",
    "\n",
    "Dekorators are functions, that wrap other functions, by that\n",
    "it can change it's behaviour."
   ]
  },
  {
   "cell_type": "code",
   "execution_count": null,
   "metadata": {},
   "outputs": [],
   "source": [
    "def nekolikrat(puvodni_funkce):\n",
    "    def opakovaci_funkce(*args, **kwargs):\n",
    "        for i in range(3):\n",
    "            puvodni_funkce(*args, **kwargs)\n",
    "    return opakovaci_funkce\n",
    "\n",
    "@nekolikrat\n",
    "def pozdrav(jmeno):\n",
    "    print(\"Měj se {}!\".format(jmeno))\n",
    "\n",
    "pozdrav(\"Pepo\")  # Return 3x: Měj se Pepo!"
   ]
  },
  {
   "cell_type": "markdown",
   "metadata": {},
   "source": [
    "# Module\n",
    "\n",
    "Module in python is file with .py on the end.\n",
    "You can creat your own and import it."
   ]
  },
  {
   "cell_type": "code",
   "execution_count": null,
   "metadata": {},
   "outputs": [],
   "source": [
    "from math import sqrt\n",
    "\n",
    "help(sqrt)  # Help with module\n",
    "\n",
    "dir(sqrt)  #  Show objects in module"
   ]
  },
  {
   "cell_type": "markdown",
   "metadata": {},
   "source": [
    "# Classes"
   ]
  },
  {
   "cell_type": "code",
   "execution_count": null,
   "metadata": {},
   "outputs": [],
   "source": [
    "class Clovek(object):  # Class Human is child (it inherits from) class object\n",
    "\n",
    "    druh = \"H. sapiens\"  # Class variable - it's shared with all objects\n",
    "\n",
    "    def __init__(self, jmeno):\n",
    "        self.jmeno = jmeno  # Add parameter to object\n",
    "\n",
    "    def rekni(self, hlaska):\n",
    "        return \"{jmeno}: {hlaska}\".format(jmeno=self.jmeno, hlaska=hlaska)\n",
    "\n",
    "    @classmethod  # First parameter is class and can be changed in subclasses\n",
    "    def vrat_druh(cls):\n",
    "        return cls.druh\n",
    "\n",
    "    @staticmethod  # Do not depend on object - like a normal function and is immutable\n",
    "    def odkaslej_si():\n",
    "        return \"*ehm*\""
   ]
  },
  {
   "cell_type": "markdown",
   "metadata": {},
   "source": [
    "Example of class method"
   ]
  },
  {
   "cell_type": "code",
   "execution_count": null,
   "metadata": {},
   "outputs": [],
   "source": [
    "class Date(object):\n",
    "\n",
    "    def __init__(self, day=0, month=0, year=0):\n",
    "        self.day = day\n",
    "        self.month = month\n",
    "        self.year = year\n",
    "\n",
    "    @classmethod\n",
    "    def from_string(cls, date_as_string):\n",
    "        day, month, year = map(int, date_as_string.split('-'))\n",
    "        date1 = cls(day, month, year)\n",
    "        return date1\n",
    "\n",
    "    @staticmethod\n",
    "    def is_date_valid(date_as_string):\n",
    "        day, month, year = map(int, date_as_string.split('-'))\n",
    "        return day <= 31 and month <= 12 and year <= 3999\n",
    "\n",
    "date2 = Date.from_string('11-09-2012')\n",
    "is_date = Date.is_date_valid('11-09-2012')"
   ]
  },
  {
   "cell_type": "markdown",
   "metadata": {},
   "source": [
    "### Create object"
   ]
  },
  {
   "cell_type": "code",
   "execution_count": null,
   "metadata": {},
   "outputs": [],
   "source": [
    "d = Clovek(jmeno=\"David\")\n",
    "a = Clovek(\"Adéla\")\n",
    "print(d.rekni(\"ahoj\"))  # \"David: ahoj\"\n",
    "print(a.rekni(\"nazdar\"))  # \"Adéla: nazdar\""
   ]
  },
  {
   "cell_type": "markdown",
   "metadata": {},
   "source": [
    "### Call class method"
   ]
  },
  {
   "cell_type": "code",
   "execution_count": null,
   "metadata": {},
   "outputs": [],
   "source": [
    "d.vrat_druh() # => \"H. sapiens\""
   ]
  },
  {
   "cell_type": "markdown",
   "metadata": {},
   "source": [
    "### Change atribute of class"
   ]
  },
  {
   "cell_type": "code",
   "execution_count": null,
   "metadata": {},
   "outputs": [],
   "source": [
    "d.vrat_druh() # => \"H. neanderthalensis\"\n",
    "a.vrat_druh() # => \"H. neanderthalensis\""
   ]
  },
  {
   "cell_type": "markdown",
   "metadata": {},
   "source": [
    "### Call static method"
   ]
  },
  {
   "cell_type": "code",
   "execution_count": null,
   "metadata": {},
   "outputs": [],
   "source": [
    "Clovek.odkaslej_si() # => \"*ehm*\""
   ]
  },
  {
   "cell_type": "markdown",
   "metadata": {},
   "source": [
    "### Magic methods\n",
    "\n",
    "Example __call__ method (Allow input of object to function)\n",
    "\n",
    "The \\__call__ method can be used to turn the instances of the class into callables. Functions are callable objects. A callable object is an object which can be used and behaves like a function but might not be a function. By using the \\__call__ method it is possible to define classes in a way that the instances will be callable objects. The \\__call__ method is called, if the instance is called \"like a function\", i.e. using brackets. The following example defines a class with which we can create abitrary polynomial functions:"
   ]
  },
  {
   "cell_type": "code",
   "execution_count": null,
   "metadata": {},
   "outputs": [],
   "source": [
    "class Polynomial:\n",
    "\n",
    "    def __init__(self, *coefficients):\n",
    "\n",
    "        self.coefficients = coefficients[::-1]\n",
    "\n",
    "    def __call__(self, x):\n",
    "\n",
    "        res = 0\n",
    "\n",
    "        for index, coeff in enumerate(self.coefficients):\n",
    "\n",
    "            res += coeff * x** index\n",
    "\n",
    "            return res\n",
    "\n",
    "p1 = Polynomial(42)\n",
    "p2 = Polynomial(0.75, 2)\n",
    "p3 = Polynomial(1, -0.5, 0.75, 2)\n",
    "\n",
    "for i in range(1, 10):\n",
    "    print(i, p1(i), p2(i), p3(i))"
   ]
  },
  {
   "cell_type": "markdown",
   "metadata": {},
   "source": [
    "Magic methods (For example for change of + behaviour)\n",
    "What happens when we create an object in python class ?"
   ]
  },
  {
   "cell_type": "code",
   "execution_count": null,
   "metadata": {},
   "outputs": [],
   "source": [
    "'''\n",
    "List of magic methods:\n",
    "Binary Operators\n",
    "\n",
    "Operator           Method\\\n",
    "+                       object.__add__(self, other)\\\n",
    "-                        object.__sub__(self, other)\\\n",
    "*                        object.__mul__(self, other)\\\n",
    "//                       object.__floordiv__(self, other)\\\n",
    "/                        object.__div__(self, other)\\\n",
    "%                      object.__mod__(self, other)\\\n",
    "**                      object.__pow__(self, other[, modulo])\\\n",
    "<<                     object.__lshift__(self, other)\\\n",
    ">>                     object.__rshift__(self, other)\\\n",
    "&                       object.__and__(self, other)\\\n",
    "^                       object.__xor__(self, other)\\\n",
    "|                        object.__or__(self, other)\n",
    "\n",
    "Assignment Operators:\n",
    "\n",
    "Operator          Method\\\n",
    "+=                     object.__iadd__(self, other)\\\n",
    "-=                      object.__isub__(self, other)\\\n",
    "*=                      object.__imul__(self, other)\\\n",
    "/=                      object.__idiv__(self, other)\\\n",
    "//=                     object.__ifloordiv__(self, other)\\\n",
    "%=                    object.__imod__(self, other)\\\n",
    "**=                     object.__ipow__(self, other[, modulo])\\\n",
    "<<=                   object.__ilshift__(self, other)\\\n",
    ">>=                   object.__irshift__(self, other)\\\n",
    "&=                     object.__iand__(self, other)\\\n",
    "^=                      object.__ixor__(self, other)\\\n",
    "|=                      object.__ior__(self, other)\n",
    "\n",
    "Unary Operators:\n",
    "\n",
    "Operator          Method\\\n",
    "-                       object.__neg__(self)\\\n",
    "+                      object.__pos__(self)\\\n",
    "abs()                object.__abs__(self)\\\n",
    "~                      object.__invert__(self)\\\n",
    "complex()        object.__complex__(self)\\\n",
    "int()                  object.__int__(self)\\\n",
    "long()               object.__long__(self)\\\n",
    "float()               object.__float__(self)\\\n",
    "oct()                object.__oct__(self)\\\n",
    "hex()               object.__hex__(self)\n",
    "\n",
    "Comparison Operators\n",
    "\n",
    "Operator Method\\\n",
    "<                      object.__lt__(self, other)\\\n",
    "<=                    object.__le__(self, other)\\\n",
    "==                    object.__eq__(self, other)\\\n",
    "!=                     object.__ne__(self, other)\\\n",
    ">=                    object.__ge__(self, other)\\\n",
    ">                      object.__gt__(self, other)\n",
    "'''\n",
    "\n",
    "# Let's take an example to override the functionality \"+\" '[__add__]' operator\n",
    "\n",
    "class  Vector(object):\n",
    "    def __init__(self,  *args):\n",
    "        \"\"\" Create a vector, example: v = Vector(1,2) \"\"\"\n",
    "        if len(args)  ==  0:\n",
    "            self.values =  (0,0)\n",
    "        else:\n",
    "            self.values = args\n",
    "    def __add__(self, other):\n",
    "        \"\"\" Returns the vector addition of self and other \"\"\"\n",
    "        added = tuple(a + b for a, b in zip(self.values, other.values)  )\n",
    "        return  Vector(*added)\n",
    "\n",
    "# Now use the \"+\" operator with two vectors\n",
    "\n",
    "v1 =  Vector(1,  2)\n",
    "v2 =  Vector(10,  13)\n",
    "v3 = v1 + v2\n",
    "v3.values  # (11,  15)\n",
    "\n",
    "# When statement \"v3 = v1 + v2 \" executes \"__add__\" is called and it returns a new Vector object."
   ]
  },
  {
   "cell_type": "markdown",
   "metadata": {},
   "source": [
    "# FILE I/O\n",
    "### Import fuction from other file"
   ]
  },
  {
   "cell_type": "code",
   "execution_count": null,
   "metadata": {},
   "outputs": [],
   "source": [
    "from math import sqrt  # First name of file, than function"
   ]
  },
  {
   "cell_type": "markdown",
   "metadata": {},
   "source": [
    "### Find script's adress"
   ]
  },
  {
   "cell_type": "code",
   "execution_count": null,
   "metadata": {},
   "outputs": [],
   "source": [
    "import os\n",
    "# os.path.dirname(__file__)  # Not working in jupyter !"
   ]
  },
  {
   "cell_type": "markdown",
   "metadata": {},
   "source": [
    "### Import variables from file in the same folder"
   ]
  },
  {
   "cell_type": "code",
   "execution_count": null,
   "metadata": {},
   "outputs": [],
   "source": [
    "# import file  # Then call file.value\n",
    "# from file import * # Now call just variable"
   ]
  },
  {
   "cell_type": "markdown",
   "metadata": {},
   "source": [
    "### If file or dir exists"
   ]
  },
  {
   "cell_type": "code",
   "execution_count": null,
   "metadata": {},
   "outputs": [],
   "source": [
    "from pathlib import Path\n",
    "my_file = Path(\"/path/to/file\")\n",
    "if my_file.is_file():  # File exists\n",
    "    pass\n",
    "if my_file.is_dir():  # Directory exists\n",
    "    pass\n",
    "if my_file.exists():   # File or dir exists\n",
    "    pass"
   ]
  },
  {
   "cell_type": "markdown",
   "metadata": {},
   "source": [
    "### Create module from folder\n",
    "\n",
    "Add file `__init.py__`\n",
    "Inside do all imports from .autoregLNU import autoregLNU\n",
    "Use relative imports with dots\n",
    "\n",
    "### Show all files in folder"
   ]
  },
  {
   "cell_type": "code",
   "execution_count": null,
   "metadata": {},
   "outputs": [],
   "source": [
    "# all_files = os.listdir(\"test/\")"
   ]
  },
  {
   "cell_type": "markdown",
   "metadata": {},
   "source": [
    "### Filter for one type data"
   ]
  },
  {
   "cell_type": "code",
   "execution_count": null,
   "metadata": {},
   "outputs": [],
   "source": [
    "# txt_files = filter(lambda x: x[-4:]  ==  '.txt', all_files)"
   ]
  },
  {
   "cell_type": "markdown",
   "metadata": {},
   "source": [
    "### Load all files with certain suffix"
   ]
  },
  {
   "cell_type": "code",
   "execution_count": null,
   "metadata": {},
   "outputs": [],
   "source": [
    "import glob\n",
    "imgs=glob.glob(\"*.png\")  # Všechny obrázky ze složky\n",
    "\n",
    "# Wildcard\n",
    "\n",
    "for name in glob.glob('dir/file?.txt'):\n",
    "    print (name)\n",
    "\n",
    "for name in glob.glob('dir/*[0-9].*'):\n",
    "    print (name)"
   ]
  },
  {
   "cell_type": "markdown",
   "metadata": {},
   "source": [
    "## Work with files\n",
    "\n",
    "''' Don't wanna save anything to jupyter\n",
    "\n",
    "f = open(\"test.txt\", \"w+\") # open file in current directory\n",
    "\n",
    "'r'  Open a file for reading. (default)\n",
    "'w'  Open a file for writing. Creates a new file if it does not exist or truncates the file if it exists.\n",
    "'x'  Open a file for exclusive creation. If the file already exists, the operation fails.\n",
    "'a'  Open for appending at the end of the file without truncating it. Creates a new file if it does not exist.\n",
    "'t'  Open in text mode. (default)\n",
    "'b'  Open in binary mode.\n",
    "'+'  Open a file for updating (reading and writing)\n",
    "\n",
    "f = open(\"C:/Python33/README.txt\") # specifying full path\n",
    "f.close()\n",
    "\n",
    "with open(\"test.txt\",'w')  as f:\n",
    "    pass\n",
    "f.write(\"my first file\\n\")\n",
    "f.write(\"This file\\n\\n\")\n",
    "f.write(\"contains three lines\\n\")\n",
    "\n",
    "!!!Use because this will autamatically close the file finally\n",
    "\n",
    "f = open(\"test.txt\",'r',encoding =  'utf-8')\n",
    "f.read(4) # read the first 4 data - 'This'\n",
    "f.read(4) # read the next 4 data - ' is '\n",
    "f.read() # read in the rest till end of file - 'my first file\\nThis file\\ncontains three lines\\n'\n",
    "f.read() # further reading returns empty sting\n",
    "'''\n",
    "\n",
    "### Import txt"
   ]
  },
  {
   "cell_type": "code",
   "execution_count": null,
   "metadata": {},
   "outputs": [],
   "source": [
    "from numpy import loadtxt\n",
    "# x=loadtxt('realna_data_klapky.txt')"
   ]
  },
  {
   "cell_type": "markdown",
   "metadata": {},
   "source": [
    "## Pickling\n",
    "\n",
    "Save file in binary format"
   ]
  },
  {
   "cell_type": "code",
   "execution_count": null,
   "metadata": {},
   "outputs": [],
   "source": [
    "import pickle\n",
    "d = {\"a\": 1, \"b\": 2}\n",
    "# with open(r\"someobject.pickle\", \"wb\") as output_file: cPickle.dump(d, output_file)"
   ]
  },
  {
   "cell_type": "markdown",
   "metadata": {},
   "source": [
    "Load files"
   ]
  },
  {
   "cell_type": "code",
   "execution_count": null,
   "metadata": {},
   "outputs": [],
   "source": [
    "# with open(r\"someobject.pickle\", \"rb\") as input_file: e = cPickle.load(input_file)"
   ]
  },
  {
   "cell_type": "markdown",
   "metadata": {},
   "source": [
    "Result is e = {\"a\": 1, \"b\": 2}**\n",
    "\n",
    "# Paths\n",
    "## Pathlib - new and correct way"
   ]
  },
  {
   "cell_type": "code",
   "execution_count": null,
   "metadata": {},
   "outputs": [],
   "source": [
    "import pathlib\n",
    "path = pathlib.Path.cwd()\n",
    "\n",
    "data_folder = pathlib.Path(\"folder\")\n",
    "file_to_open = data_folder / \"raw_data.txt\"\n",
    "\n",
    "### Pathlib as string\n",
    "\n",
    "path.as_posix()\n",
    "\n",
    "### Find all adress\n",
    "\n",
    "path = pathlib.Path('test.md')\n",
    "path.resolve() # ('/home/gahjelle/realpython/test.md')\n",
    "path.resolve().parent == pathlib.Path.cwd() # False\n",
    "\n",
    "### Work with file\n",
    "\n",
    "filename = pathlib.Path(\"source_data/text_files/raw_data.txt\")\n",
    "\n",
    "print(filename.name) # prints \"raw_data.txt\"\n",
    "print(filename.suffix) # prints \"txt\"\n",
    "print(filename.stem) # prints \"raw_data\"\n",
    "if not filename.exists():\n",
    "    print(\"Oops, file doesn't exist!\")\n",
    "else:\n",
    "    print(\"Yay, the file exists!\")\n",
    "\n",
    "### Relative path\n",
    "\n",
    "'''\n",
    "!! Next rows just historical - Do not do it that way !!\n",
    "\n",
    "# ../data/test_file.csv # ..znamená parent složka\n",
    "\n",
    "from os import path\n",
    "import os\n",
    "\n",
    "file_path = path.relpath(\"data/data.txt\")\n",
    "\n",
    "### Absolute path\n",
    "\n",
    "# os.path.abspath(\\__file__)  # Not working in jupyter\n",
    "\n",
    "### Add path to files and modules\n",
    "\n",
    "import sys\n",
    "sys.path.insert(0, '/path/to/application/app/folder')\n",
    "sys.path  # Print folders available by system\n",
    "\n",
    "### Working direktory and how to change it\n",
    "\n",
    "import os\n",
    "cwd = os.getcwd()\n",
    "# os.chdir(r\"C:\\Users\\...\")\n",
    "\n",
    "# new_cwd = os.getcwd() + r\"\\diplomka\"\n",
    "# os.chdir(new_cwd)\n",
    "\n",
    "### Full adress\n",
    "#Use normal slash!\n",
    "\n",
    "import os\n",
    "data_folder = \"folder/nextfolder/\"\n",
    "file_to_open = data_folder + \"data.txt\"\n",
    "\n",
    "# For example if jupyter do not see some files\n",
    "\n",
    "script_dir0 = os.path.abspath('') # C:\\VScode\n",
    "\n",
    "# Next\n",
    "\n",
    "# script_path = os.path.abspath(\\__file__)  # i.e. /path/to/dir/foobar.py  - notworking with jupyter\n",
    "script_path = 'C://prog'\n",
    "script_dir = os.path.split(script_path)[0]  #i.e. /path/to/dir/\n",
    "rel_path =  \"2091/data.txt\"\n",
    "abs_file_path = os.path.join(script_dir, rel_path)  # Result is relative '/path/to/dir/2091/data.txt'\n",
    "filename = os.path.join(script_path,  '../same.txt')  # We can use name of file\n",
    "# script_dir = os.path.dirname(\\__file__)  # We can use adress of file... but not in jupyter\n",
    "\n",
    "# You can also do\n",
    "\n",
    "# script_dir = os.path.dirname(\\__file__)\n",
    "rel_path = \"test_ data/realna_data_klapky.txt\"\n",
    "abs_file_path = os.path.join(script_dir, rel_path)\n",
    "'''"
   ]
  },
  {
   "cell_type": "markdown",
   "metadata": {},
   "source": [
    "# Try -- Except"
   ]
  },
  {
   "cell_type": "code",
   "execution_count": null,
   "metadata": {},
   "outputs": [],
   "source": [
    "try:\n",
    "    print(znam)\n",
    "except:\n",
    "    print('except')\n",
    "else:\n",
    "    print('else')\n",
    "finally:\n",
    "    print('final')\n",
    "\n",
    "try:\n",
    "    print(neznam)\n",
    "except:\n",
    "    print('except')\n",
    "else:\n",
    "    print('else')\n",
    "finally:\n",
    "    print('final')"
   ]
  },
  {
   "cell_type": "markdown",
   "metadata": {},
   "source": [
    "##  Try for all errors and print it\n",
    "    try:\n",
    "        linux_interaction()"
   ]
  },
  {
   "cell_type": "code",
   "execution_count": null,
   "metadata": {},
   "outputs": [],
   "source": [
    "except Exception as error:\n",
    "    print(error)"
   ]
  },
  {
   "cell_type": "markdown",
   "metadata": {},
   "source": [
    "## Raise exception"
   ]
  },
  {
   "cell_type": "code",
   "execution_count": null,
   "metadata": {},
   "outputs": [],
   "source": [
    "# raise Exception('x should not exceed 5. The value of x was: {}')"
   ]
  },
  {
   "cell_type": "markdown",
   "metadata": {},
   "source": [
    "## Assert - Require something or error"
   ]
  },
  {
   "cell_type": "code",
   "execution_count": null,
   "metadata": {},
   "outputs": [],
   "source": [
    "x = 5\n",
    "assert (x > 4), 'What happened'"
   ]
  },
  {
   "cell_type": "markdown",
   "metadata": {},
   "source": [
    "# Warnings"
   ]
  },
  {
   "cell_type": "code",
   "execution_count": null,
   "metadata": {},
   "outputs": [],
   "source": [
    "import warnings\n",
    "warnings.warn(\"Warning...........Message\")\n",
    "\n",
    "warnings.filterwarnings('error', message=r\".*HessianInversionWarning*\")  # Warnings with word 'HessianInversionWarning' will be caused as errors\n",
    "warnings.filterwarnings('always', category=DeprecationWarning)  # Errory of category depracation will be show everytime\n",
    "warnings.filterwarnings('ignore')  # Errory budou vždy ignorovány"
   ]
  },
  {
   "cell_type": "markdown",
   "metadata": {},
   "source": [
    "\"default\" will print the first occurrence of matching warnings for each location (module + line number) where the warning is issued\n",
    "\n",
    " \"once\"\n",
    " \"error\"\n",
    " \"ignore\"\n",
    " \"always\"\n",
    " \"module\"\n",
    " print the first occurrence of matching warnings for each module where the warning is issued (regardless of line number)\n",
    "\n",
    "\n",
    "# Regular expressions"
   ]
  },
  {
   "cell_type": "code",
   "execution_count": null,
   "metadata": {},
   "outputs": [],
   "source": [
    "regs = '''\n",
    "import re\n",
    "\n",
    "[] \tA set of characters \t\"[a-m]\" \t\n",
    "\\ \tSignals a special sequence (can also be used to escape special characters) \t\"\\d\" \t\n",
    ". \tAny character (except newline character) \t\"he..o\" \t\n",
    "^ \tStarts with \t\"^hello\" \t\n",
    "$ \tEnds with \t\"world$\" \t\n",
    "* \tZero or more occurrences \t\"aix*\" \t\n",
    "+ \tOne or more occurrences \t\"aix+\" \t\n",
    "{} \tExactly the specified number of occurrences \t\"al{2}\" \t\n",
    "| \tEither or \t\"falls|stays\"\n",
    "\n",
    "\\A \tReturns a match if the specified characters are at the beginning of the string \t\"\\AThe\" \t\n",
    "\\b \tReturns a match where the specified characters are at the beginning or at the end of a word \tr\"\\bain\"\n",
    "r\"ain\\b\" \t\n",
    "\n",
    "\\B \tReturns a match where the specified characters are present, but NOT at the beginning (or at the end) of a word \tr\"\\Bain\"\n",
    "r\"ain\\B\" \t\n",
    "\n",
    "\\d \tReturns a match where the string contains digits (numbers from 0-9) \t\"\\d\" \t\n",
    "\\D \tReturns a match where the string DOES NOT contain digits \t\"\\D\" \t\n",
    "\\s \tReturns a match where the string contains a white space character \t\"\\s\" \t\n",
    "\\S \tReturns a match where the string DOES NOT contain a white space character \t\"\\S\" \t\n",
    "\\w \tReturns a match where the string contains any word characters (characters from a to Z, digits from 0-9, and the underscore _ character) \t\"\\w\" \t\n",
    "\\W \tReturns a match where the string DOES NOT contain any word characters \t\"\\W\" \t\n",
    "\\Z \tReturns a match if the specified characters are at the end of the string \t\"Spain\\Z\"\n",
    "\n",
    "[arn] \tReturns a match where one of the specified characters (a, r, or n) are present \t\n",
    "[a-n] \tReturns a match for any lower case character, alphabetically between a and n \t\n",
    "[^arn] \tReturns a match for any character EXCEPT a, r, and n \t\n",
    "[0123] \tReturns a match where any of the specified digits (0, 1, 2, or 3) are present \t\n",
    "[0-9] \tReturns a match for any digit between 0 and 9 \t\n",
    "[0-5][0-9] \tReturns a match for any two-digit numbers from 00 and 59 \t\n",
    "[a-zA-Z] \tReturns a match for any character alphabetically between a and z, lower case OR upper case \t\n",
    "[+] \tIn sets, +, *, ., |, (), $,{} has no special meaning, so [+] means: return a match for any + character in the string\n",
    "\n",
    "'''"
   ]
  },
  {
   "cell_type": "markdown",
   "metadata": {},
   "source": [
    "# Built in functions\n",
    "### Print\n",
    "    a = 'hi'\n",
    "    print('as', a, 'fegg') # Use comma, you can join strings and variables\n",
    "\n",
    "### Range"
   ]
  },
  {
   "cell_type": "code",
   "execution_count": null,
   "metadata": {},
   "outputs": [],
   "source": [
    "x=range(3+1) # x = 0, 1, 2, 3"
   ]
  },
  {
   "cell_type": "markdown",
   "metadata": {},
   "source": [
    "### Reverse range"
   ]
  },
  {
   "cell_type": "code",
   "execution_count": null,
   "metadata": {},
   "outputs": [],
   "source": [
    "for i in reversed(range(5)):\n",
    "    print(i) # 4, 3, 2, 1"
   ]
  },
  {
   "cell_type": "markdown",
   "metadata": {},
   "source": [
    "### \\__name__ - If file is runned from inside or is imported"
   ]
  },
  {
   "cell_type": "code",
   "execution_count": null,
   "metadata": {},
   "outputs": [],
   "source": [
    "if __name__ == \"__main__\":\n",
    "    pass"
   ]
  },
  {
   "cell_type": "markdown",
   "metadata": {},
   "source": [
    "# Date and time"
   ]
  },
  {
   "cell_type": "code",
   "execution_count": null,
   "metadata": {},
   "outputs": [],
   "source": [
    "import datetime as dt\n",
    "import time\n",
    "now = dt.datetime.now() #datum i čas\n",
    "time.sleep(1) # počká 1 vteřinu"
   ]
  },
  {
   "cell_type": "markdown",
   "metadata": {},
   "source": [
    "# Plots, graphs\n",
    "\n",
    "## Plotly"
   ]
  },
  {
   "cell_type": "code",
   "execution_count": null,
   "metadata": {},
   "outputs": [],
   "source": [
    "'''\n",
    "import plotly as py\n",
    "\n",
    "fig = dict( data=data, layout=layout )\n",
    "py.offline.plot( fig, filename='d3-cloropleth-map' )\n",
    "\n",
    "# or\n",
    "\n",
    "init_notebook_mode(connected=True)\n",
    "cf.go_offline()\n",
    "\n",
    "data_ft_date.iplot(xTitle='Dates',yTitle='Returns',title='Returns')\n",
    "\n",
    "### Plotly timeseries\n",
    "\n",
    "py.plot([{\n",
    "    'x': data_for_predicts_csv_trimmed.index,\n",
    "    'y': data_for_predicts_csv_trimmed[col],\n",
    "    'name': col\n",
    "}  for col in data_for_predicts_csv_trimmed.columns])\n",
    "\n",
    "### From matplotlib to plotly\n",
    "\n",
    "plot_mpl(fig)\n",
    "\n",
    "### Save picture\n",
    "\n",
    "import plotly.io as pio\n",
    "static_image_bytes = pio.to_image(fig, format='png')"
   ]
  },
  {
   "cell_type": "markdown",
   "metadata": {},
   "source": [
    "## Matplotlib"
   ]
  },
  {
   "cell_type": "code",
   "execution_count": null,
   "metadata": {},
   "outputs": [],
   "source": [
    "mtpltlb = '''\n",
    "### Simple plot\n",
    "\n",
    "import matplotlib.pyplot as plt\n",
    "plt.plot(data)\n",
    "\n",
    "### Load txt and plot it\n",
    "\n",
    "from numpy import loadtxt # For one column txt\n",
    "x = loadtxt('realna_data_klapky.txt')\n",
    "figure(figsize=(20,5))\n",
    "plot(x,'-o',label=\"x\");xlabel('i');ylabel('x [sec]');grid();title(\"realna_data_klapky.txt\")\n",
    "legend();show()\n",
    "plt.savefig('fig1.png', dpi =  300) # uloží graf\n",
    "\n",
    "### Histogram\n",
    "\n",
    "figure(figsize=(20,5))\n",
    "nbins=int(round(1+3.3*log(N))) # Sturge's rule, but depend on data\n",
    "xlabel(\"x\");ylabel(\"number_of_bins\"),title(\"number_of_bins  - values x in intervals\");grid()\n",
    "a=hist(x,bins=nbins) # vraci dve pole a histogram, tj a[0]=number_of_bins, a[1]=intervaly\n",
    "print \"number_of_bins=\",a[0]\n",
    "print \"intervaly =\",a[1]\n",
    "\n",
    "### Curves and points\n",
    "\n",
    "x=arange(-600,100) #\n",
    "mu=m1;sigma=sqrt(s2);print \"mu=\",mu,\"sigma=\",sigma\n",
    "f=1/(sigma*sqrt(2*pi))*exp(-(((x-mu)/sigma)**2)/2)\n",
    "figure(figsize=(20,5))\n",
    "plot(x,f,'g',label=\"f(x) spojita\");grid()\n",
    "plot(x_i,f_odhad,'o',label=\"f(x) odhad z mereni pro nbin=\"+str(nbins)+\" intervalu\")\n",
    "legend()\n",
    "\n",
    "### Two graphs\n",
    "\n",
    "N=1000 # velikost výběru\n",
    "x=random.uniform(-10,10,N)\n",
    "x=random.randn(N)*1000-300\n",
    "x=random.logistic(3, 10, N)\n",
    "x=random.standard_t(3, N)\n",
    "x=random.poisson(1, N)*.01+1000\n",
    "nbins=int(round(1+3.3*log(N)))\n",
    "figure(figsize=(20,5))\n",
    "subplot(121);plot(x,'-o');grid();xlabel('index vzorku dat');ylabel(\"x\")\n",
    "subplot(122)\n",
    "\n",
    "# First number is how much rows and second how much columns\n",
    "# Third number is which graph is it - first, second etc.\n",
    "\n",
    "a = hist(x,nbins,normed=True) ;# pro vizualni posouzeni\n",
    "grid(); ylabel(\"$\\\\approx f(x)$\"); xlabel(\"x\")\n",
    "plt.tight_layout() # Pokud část jednoho překrývá druhý\n",
    "plt.subplots_adjust(top=0.88)# po tight_layoutu je potřeba název umístit výš\n",
    "subplots_adjust(wspace=.3) # Větší rozestupy mezi grafy\n",
    "\n",
    "### More plots with one legend\n",
    "\n",
    "plt.figure(figsize=(12,7))\n",
    "plt.subplot(3, 1, 1)\n",
    "plt.plot(t, yy, label='Predikce'); plt.xlabel('t')\n",
    "plt.plot(t, data, label='Skutečnost'); plt.xlabel('t')\n",
    "plt.legend(loc=\"upper right\")\n",
    "plt.ylabel(\"u4 predikované\")\n",
    "\n",
    "### More plots with for cycle\n",
    "\n",
    "for i in range(1,7):\n",
    "plt.subplot(3, 2, i)\n",
    "plt.plot(oknomean[i]);plt.grid(); plt.xlabel('t')\n",
    "plt.ylabel(\"u{}\".format(i))\n",
    "plt.suptitle(\"Klouzavý průměr okna\", fontsize=20)\n",
    "plt.tight_layout()\n",
    "plt.subplots_adjust(top=0.88)\n",
    "plt.show()\n",
    "\n",
    "### Scatterplot\n",
    "\n",
    "import numpy as np\n",
    "import matplotlib.pyplot as plt\n",
    "N = 60\n",
    "g1 = (0.6 + 0.6 * np.random.rand(N), np.random.rand(N))\n",
    "g2 = (0.4+0.3 * np.random.rand(N), 0.5*np.random.rand(N))\n",
    "g3 = (0.3*np.random.rand(N),0.3*np.random.rand(N))\n",
    "data = (g1, g2, g3)\n",
    "colors = (\"red\", \"green\", \"blue\")\n",
    "groups = (\"coffee\", \"tea\", \"water\")\n",
    "fig = plt.figure()\n",
    "ax = fig.add_subplot(1, 1, 1, axisbg=\"1.0\")\n",
    "for data, color, group in zip(data, colors, groups):\n",
    "x, y = data\n",
    "ax.scatter(x, y, alpha=0.8, c=color, edgecolors='none', s=30, label=group)\n",
    "plt.title('Matplot scatter plot')\n",
    "plt.legend(loc=2)\n",
    "plt.show()\n",
    "\n",
    "### Text plot\n",
    "\n",
    "import matplotlib.pyplot as plt\n",
    "fig = [plt.figure](https://matplotlib.org/api/_as_gen/matplotlib.pyplot.figure.html#matplotlib.pyplot.figure \"View documentation for matplotlib.pyplot.figure\")(figsize=(5, 1.5))\n",
    "\n",
    "text = fig.text(0.5, 0.5, 'Hello path effects world!\\nThis is the normal '\n",
    "    'path effect.\\nPretty dull, huh?',\n",
    "    ha='center', va='center', size=20)\n",
    "\n",
    "[plt.show](https://matplotlib.org/api/_as_gen/matplotlib.pyplot.show.html#matplotlib.pyplot.show \"View documentation for matplotlib.pyplot.show\")()\n",
    "'''"
   ]
  },
  {
   "cell_type": "markdown",
   "metadata": {},
   "source": [
    "## Table\n",
    "\n",
    "   from prettytable import PrettyTable\n",
    "   models_table = PrettyTable()\n",
    "   models_table = PrettyTable().field_names = [\"City name\", \"Area\", \"Population\", \"Annual Rainfall\"]\n",
    "   models_table = PrettyTable().add_row([\"Adelaide\", 1295, 1158259, 600.5])\n",
    "   print (models_table)\n",
    "\n",
    "## Symbolic functions"
   ]
  },
  {
   "cell_type": "code",
   "execution_count": null,
   "metadata": {},
   "outputs": [],
   "source": [
    "'''\n",
    "import sympy as smp\n",
    "from sympy.plotting import plot as Plot\n",
    "from IPython.display import display\n",
    "z=smp.Symbol(\"z\")\n",
    "fz=1/smp.sqrt(2*smp.pi)*smp.exp(-(z**2/2))\n",
    "display(\"f(z)=\",fz)\n",
    "Plot(fz)\n",
    "display(\"F_{x\\_median}=\\int_{-\\infty}^{x_{median}=\"+str(mu)+\"}=\",smp.integrate(fz,(z,-oo,0)))\n",
    "display(\" z_{modus}= 0 \\Leftrightarrow \\dfrac{d f(z)}{ dz} =0=\",smp.diff(fz,z))\n",
    "'''"
   ]
  },
  {
   "cell_type": "markdown",
   "metadata": {},
   "source": [
    "# Libraries\n",
    "## If pip cannot be installed by SSL errorr"
   ]
  },
  {
   "cell_type": "code",
   "execution_count": null,
   "metadata": {},
   "outputs": [],
   "source": [
    "# pip install ipykernel --upgrade pip --trusted-host pypi.org"
   ]
  },
  {
   "cell_type": "markdown",
   "metadata": {},
   "source": [
    "# Jupyter"
   ]
  },
  {
   "cell_type": "code",
   "execution_count": null,
   "metadata": {},
   "outputs": [],
   "source": [
    "# jupyter kernelspec list # Ukáže seznam kernelů\n",
    "# jupyter kernelspec uninstall nazev # Odinstaluje kernel"
   ]
  },
  {
   "cell_type": "markdown",
   "metadata": {},
   "source": [
    "## Autoreload\n",
    "\n",
    "Load imported module everytime\n",
    "\n",
    "Reload all modules imported with %aimport every time before executing the Python code typed.\n",
    "\n",
    "%autoreload 1\n",
    "\n",
    "Reload all modules (except those excluded by %aimport) every time before executing the Python code typed.\n",
    "\n",
    "%autoreload 2\n",
    "\n",
    "Sometimes its necessary to import concrete modules\n",
    "\n",
    "%aimport modul1, modul2\n",
    "\n",
    "\n",
    "## Link\n",
    "\n",
    "‚''\n",
    "[Link name](<https://www.youtube.com/>)\n",
    "‚''\n",
    "\n",
    "## Image\n",
    "\n",
    "‚''\n",
    "<img src=\"img/Gini.png\" width=400>\n",
    "‚''\n",
    "\n",
    "## Youtube"
   ]
  },
  {
   "cell_type": "code",
   "execution_count": null,
   "metadata": {},
   "outputs": [],
   "source": [
    "# from IPython.display import YouTubeVideo\n",
    "# YouTubeVideo('7VeUPuFGJHk')"
   ]
  },
  {
   "cell_type": "markdown",
   "metadata": {},
   "source": [
    "## Show all images from folder"
   ]
  },
  {
   "cell_type": "code",
   "execution_count": null,
   "metadata": {},
   "outputs": [],
   "source": [
    "'''\n",
    "import os\n",
    "from IPython.display import display, Image\n",
    "names = [f for f in os.listdir('../images/ml_demonstrations/') if f.endswith('.png')]\n",
    "for name in names[:5]:\n",
    "    display(Image('../images/ml_demonstrations/' + name, width=100))\n",
    "'''"
   ]
  },
  {
   "cell_type": "markdown",
   "metadata": {},
   "source": [
    "# Requests - API - GET, POST"
   ]
  },
  {
   "cell_type": "code",
   "execution_count": null,
   "metadata": {},
   "outputs": [],
   "source": [
    "'''\n",
    "import getpass\n",
    "import requests\n",
    "username = input('Username: ')\n",
    "Username: hroncok\n",
    "password = getpass.getpass()\n",
    "Password: \n",
    "r = requests.get('https://api.github.com/user', auth=(username, password))\n",
    "r.status_code\n",
    "r.headers['content-type']  # 'application/json; charset=utf8'\n",
    "r.encoding  # 'utf-8'\n",
    "r.text  # '{\"login\":\"hroncok\"...'\n",
    "r.json()  # {'avatar_url': 'https://avatars.githubusercontent.com/u/2401856?v=3', ...}\n",
    "'''"
   ]
  },
  {
   "cell_type": "markdown",
   "metadata": {},
   "source": [
    "# Images, pictures"
   ]
  },
  {
   "cell_type": "code",
   "execution_count": null,
   "metadata": {},
   "outputs": [],
   "source": [
    "'''\n",
    "from PIL import Image\n",
    "from resizeimage import resizeimage\n",
    "\n",
    "## Show image\n",
    "\n",
    "ax1.imshow(img)\n",
    "\n",
    "## Resize\n",
    "\n",
    "img = Image.open(im)\n",
    "img = resizeimage.resize_contain(img, [100,100]) # nebo\n",
    "img = img.resize((1250,890),Image.ANTIALIAS) # antialias\n",
    "\n",
    "## Save\n",
    "\n",
    "img.save(soubor[0]+'_resized_'+soubor, img.format)\n",
    "img.close()\n",
    "\n",
    "## Convert to black and white\n",
    "\n",
    "img = img.convert('L') #Převede na černobílý\n",
    "\n",
    "## Convert image to matrix\n",
    "\n",
    "img=np.array(img)\n",
    "'''"
   ]
  },
  {
   "cell_type": "markdown",
   "metadata": {},
   "source": [
    "# Mahematics, statistics, linear algebra\n",
    "!! Matrix and liear algebra operations discussed in Numpy aray section !!"
   ]
  },
  {
   "cell_type": "code",
   "execution_count": null,
   "metadata": {},
   "outputs": [],
   "source": [
    "### Square root\n",
    "\n",
    "y = 9**(1/2)  # 3\n",
    "\n",
    "### Round\n",
    "\n",
    "A = round(5.76543, 2)\n",
    "\n",
    "### Modulo\n",
    "\n",
    "a = 7 % 3 # => 1\n",
    "\n",
    "### Power (x on y)\n",
    "\n",
    "a = 2**4 # => 16\n",
    "\n",
    "### Describe - Statistical values of list\n",
    "\n",
    "import pandas as pd\n",
    "\n",
    "df = pd.Series([1, 4, 6, 88])\n",
    "df.describe()\n",
    "\n",
    "    #    count     4.000000\n",
    "    #    mean     24.750000\n",
    "    #    std      42.216703\n",
    "    #    min       1.000000\n",
    "    #    25%       3.250000\n",
    "    #    50%       5.000000\n",
    "    #    75%      26.500000\n",
    "    #    max      88.000000\n",
    "    #    dtype: float64\n",
    "\n",
    "### Statistical values of array\n",
    "\n",
    "from scipy import stats\n",
    "a = np.array([1, 3, 5, 77])\n",
    "stats = stats.describe(a)\n",
    "\n",
    "## Random\n",
    "### Random numbers in normal distribution\n",
    "\n",
    "import numpy as np\n",
    "ran = np.random.randn(3)\n",
    "\n",
    "q = np.random.randn(3, 4)\n",
    "\n",
    "    #    [[ 1.33262386 -0.88922967 -0.07056098 0.27340112]\n",
    "    #     [ 1.00664965 -0.68443807 0.43801295 -0.35874714]\n",
    "    #     [ -0.19289416 -0.42746963 -1.80435223 0.02751727]]\n",
    "\n",
    "### Random number everytime the same\n",
    "\n",
    "np.random.seed(5)\n",
    "\n",
    "w = np.random.randn(3)  # [ 0.44122749 -0.33087015  2.43077119]\n",
    "w = np.random.randn(3)  # [ 0.44122749 -0.33087015  2.43077119]\n",
    "\n",
    "### Random numbers in normal distribution matrix shape\n",
    "\n",
    "s = np.random.normal(2, 6, 1000)  # Mu, Sigma,\n",
    "\n",
    "## Points generation\n",
    "\n",
    "t = np.linspace(0,20,1000)  # Generate numbers with the same interval (beginning, end, number)\n",
    "\n",
    "t = np.arange(1, 3, 1)  # 1, 2\n",
    "t = np.arange(3)  # 0, 1, 2\n",
    "\n",
    "### Mean\n",
    "\n",
    "x = np.array([[10,20,30], [40,50,60]])\n",
    "np.mean(x)\n",
    "\n",
    "### Standard deviation\n",
    "\n",
    "std = np.std(x)\n",
    "\n",
    "# Or\n",
    "\n",
    "from statistics import stdev\n",
    "sample = [1, 2, 3, 4, 5]\n",
    "std = stdev(sample)\n",
    "\n",
    "### Bins\n",
    "\n",
    "bins = 10\n",
    "binss = np.histogram(x, bins)  # binss[0] hodnoty binss[1]\n",
    "    # original = x = np.array([[10,20,30], [40,50,60]])\n",
    "    # binss[0] = counts - [1 0 1 0 1 0 1 0 1 1]\n",
    "    # binss[1] = values [10. 15. 20. 25. 30. 35. 40. 45. 50. 55. 60.]\n",
    "\n",
    "### Cumulative sum\n",
    "\n",
    "y = np.cumsum(x)\n",
    "\n",
    "### Derivation\n",
    "\n",
    "sample = [1, 2, 8, 4, 5]\n",
    "z = np.diff(y)\n",
    "    # [ 1  6 -4  1]\n",
    "\n",
    "### Latex dislay\n",
    "\n",
    "# from IPython.display import display, Math, Latex\n",
    "# display(Math(r'F(k) = \\int_{-\\infty}^{\\infty} f(x) e^{2\\pi i k} dx'))\n",
    "\n",
    "\n",
    "########################################\n",
    "####### Symbolic python - sympy #######\n",
    "#######################################\n",
    "'''\n",
    "import sympy as sp\n",
    "\n",
    "# ! If you wanna beauty print, then don't assign variable\n",
    "# e.g.:    sp.oo\n",
    "# Or use sp.pprint()\n",
    "\n",
    "### Display Latex\n",
    "\n",
    "sp.latex(x**2)\n",
    "\n",
    "### Create symbols\n",
    "\n",
    "s = sp.Symbol(\"s\")\n",
    "x, y, z = sp.symbols('x,y,z')\n",
    "d, e, f = sp.symbols('d:f')\n",
    "inf = sp.oo\n",
    "\n",
    "### Create one member (fraction) from more members\n",
    "\n",
    "ans = sp.together(1/x + 1/y + 1/z)\n",
    "    #   x*y + x*z + y*z\n",
    "    #   ---------------\n",
    "    #        x*y*z\n",
    "\n",
    "### Expand\n",
    "\n",
    "ans = ((x+y)**2).expand()\n",
    "    #    x**2 + 2*x*y + y**2\n",
    "\n",
    "### Substitute\n",
    "\n",
    "expr = sp.cos(x)\n",
    "expr.subs(x, 0) # 1\n",
    "\n",
    "### Compute string\n",
    "\n",
    "str_expr = \"x**2 + 3*x - 1/2\"\n",
    "expr = sp.sympify(str_expr)\n",
    "\n",
    "### Simplify equation\n",
    "\n",
    "simplified = sp.simplify((x**3 + x**2 - x - 1)/(x**2 + 2*x + 1))\n",
    "    #    𝑥−1\n",
    "\n",
    "### Evaluate expression\n",
    "\n",
    "expr = sp.sqrt(8)\n",
    "expr.evalf() # 2.82842712474619\n",
    "\n",
    "x_dif = sp.diff(sp.sin(2*x), x)\n",
    "\n",
    "### Use numerical evaluation\n",
    "\n",
    "import numpy\n",
    "a = numpy.arange(10)\n",
    "expr = sp.sin(x)\n",
    "f = sp.lambdify(x, expr, \"numpy\")\n",
    "res = f(a)\n",
    "    # [ 0.          0.84147098  0.90929743  0.14112001 -0.7568025  -0.95892427\n",
    "    #  -0.2794155   0.6569866   0.98935825  0.41211849]\n",
    "'''\n",
    "\n",
    "######################################\n",
    "####### Differential equations #######\n",
    "######################################\n",
    "\n",
    "import sympy as sp\n",
    "f = sp.Function('f')\n",
    "x = sp.Symbol('x')\n",
    "eq = f(x).diff(x, x) + f(x)\n",
    "res = sp.dsolve(eq, f(x))\n",
    "\n",
    "###########################\n",
    "####### Integration #######\n",
    "###########################\n",
    "\n",
    "unb_int = '''\n",
    "### Unbounded integral\n",
    "\n",
    "import sympy as sp\n",
    "from sympy import exp as e\n",
    "x = sp.Symbol(\"x\")\n",
    "f = e(-x)\n",
    "disp(\"f=\",f)\n",
    "intf = sp.integrate(f)\n",
    "disp(\"\\int \" + dfrac(f)+\"dx=\",intf) # po \\int musim byt mezera\n",
    "\n",
    "### Bounded integral\n",
    "\n",
    "intf=sp.integrate(f,(x,0,1))\n",
    "disp(\"\\int_0^1\" + dfrac(f)+\" dx=\",intf.evalf())\n",
    "'''\n",
    "\n",
    "###########################\n",
    "####### Correlation #######\n",
    "###########################\n",
    "\n",
    "### Correlation matrix - values\n",
    "\n",
    "import pandas as pd\n",
    "df = pd.DataFrame([[1, 2, 3], [4, 5, 9], [7, 8, 78]], columns=['one', 'two', 'three'])\n",
    "x_cor = df.corr()\n",
    "\n",
    "    #               one      two    three\n",
    "    #    one    1.00000  1.00000  0.89977\n",
    "    #    two    1.00000  1.00000  0.89977\n",
    "    #    three  0.89977  0.89977  1.00000\n",
    "\n",
    "### Correlation matrix - plot\n",
    "\n",
    "# a = pd.plotting.scatter_matrix(df, figsize=(16,12), alpha=0.3)\n",
    "\n",
    "### Correlation (Pearson corr. matrix)\n",
    "\n",
    "import matplotlib.pyplot as plt\n",
    "scoreTable = df.corr(method='pearson')\n",
    "df.corr(method='pearson').style.format(\"{:.2}\").background_gradient(cmap=plt.get_cmap('coolwarm'), axis=1)\n",
    "\n",
    "### Correlation coefficent\n",
    "\n",
    "ar = np.array([1, 2, 4, 5, 9]) \n",
    "ar2 = np.array([7, 8, 78, 34, 2])\n",
    "a = np.corrcoef(ar, ar2)\n",
    "\n",
    "    #    [[ 1.        -0.0475504]\n",
    "    #     [-0.0475504  1.       ]]\n",
    "\n",
    "##########################\n",
    "####### Statistics #######\n",
    "##########################\n",
    "\n",
    "### Test of normal distribution\n",
    "\n",
    "from statsmodels.stats.stattools import jarque_bera\n",
    "residuals = [1, 3, 5, 2, 4]\n",
    "score, pvalue, _, _ = jarque_bera(residuals)\n",
    "if pvalue < 0.10:\n",
    "    print ('We have reason to suspect the residuals are not normally distributed.')\n",
    "else:\n",
    "    print ('The residuals seem normally distributed.')"
   ]
  },
  {
   "cell_type": "markdown",
   "metadata": {},
   "source": [
    "# Machine learning"
   ]
  },
  {
   "cell_type": "code",
   "execution_count": null,
   "metadata": {},
   "outputs": [],
   "source": [
    "#################################################\n",
    "####### Standardization and normalization #######\n",
    "#################################################\n",
    "\n",
    "### Standardization: mean = 0 and std = 1\n",
    "\n",
    "from sklearn import preprocessing\n",
    "import numpy as np\n",
    "X_train = np.array([[ 1., -1.,  2.],\n",
    "                    [ 2.,  0.,  0.],\n",
    "                    [ 0.,  1., -1.]])\n",
    " \n",
    "scaler = preprocessing.StandardScaler()\n",
    "\n",
    "fitted_scaler = scaler.fit(X_train)\n",
    "scaled = fitted_scaler.transform(X_train)\n",
    "\n",
    "    #    [[ 0.  ..., -1.22...,  1.33...],\n",
    "    #     [ 1.22...,  0.  ..., -0.26...],\n",
    "    #     [-1.22...,  1.22..., -1.06...]]\n",
    "\n",
    "# inverse transformation\n",
    "back = fitted_scaler.inverse_transform(scaled)\n",
    "\n",
    "### Normalization (-1,1)\n",
    "# Just replace one row from standard scaler\n",
    "scaler = preprocessing.MinMaxScaler(feature_range=(0, 1))\n",
    "\n",
    "### The same way you can use preprocessing.RobustScaler, that is not as much influenced by outliers !!"
   ]
  },
  {
   "cell_type": "markdown",
   "metadata": {},
   "source": [
    "# Signal processing and controll\n",
    "\n",
    "# Miscellaneous\n",
    "\n",
    "## Measure time"
   ]
  },
  {
   "cell_type": "code",
   "execution_count": null,
   "metadata": {},
   "outputs": [],
   "source": [
    "'''\n",
    "# Most simple and maybe the best\n",
    "\n",
    "import time\n",
    "start = time.time()\n",
    "a = 6\n",
    "end = time.time()\n",
    "print(end - start)\n",
    "\n",
    "# Or\n",
    "\n",
    "import timeit\n",
    "import functools\n",
    "\n",
    "def func(*args):\n",
    "    a = 1\n",
    "    return a\n",
    "\n",
    "t = timeit.Timer('''\n",
    "import numpy as np\n",
    "a = 12\n",
    "''', 'gc.enable()')\n",
    "print(t.timeit(3))  # 3 - measure three times\n",
    "\n",
    "# Or you can use\n",
    "t = timeit.timeit(func)\n",
    "\n",
    "# Measure time of function with inputs\n",
    "t = timeit.Timer(functools.partial(func, (1, 2)))\n",
    "print (t.timeit(20))\n",
    "'''"
   ]
  },
  {
   "cell_type": "markdown",
   "metadata": {},
   "source": [
    "## Show bytcode"
   ]
  },
  {
   "cell_type": "code",
   "execution_count": null,
   "metadata": {},
   "outputs": [],
   "source": [
    "import dis\n",
    "dis.dis(\"dict()\")\n",
    "\n",
    "    #              0 LOAD_NAME                0 (dict)\n",
    "    #              2 CALL_FUNCTION            0\n",
    "    #              4 RETURN_VALUE"
   ]
  },
  {
   "cell_type": "markdown",
   "metadata": {},
   "source": [
    "# Performance\n",
    "\n",
    "### Type hinting"
   ]
  },
  {
   "cell_type": "code",
   "execution_count": null,
   "metadata": {},
   "outputs": [],
   "source": [
    "def sentence_has_animal(sentence: str) -> bool:\n",
    "    return \"animal\" in sentence\n",
    "sentence_has_animal(\"Donald had a farm without animals\")"
   ]
  },
  {
   "cell_type": "markdown",
   "metadata": {},
   "source": [
    "## Numba"
   ]
  },
  {
   "cell_type": "code",
   "execution_count": null,
   "metadata": {},
   "outputs": [],
   "source": [
    "import numba as nb\n",
    "\n",
    "@nb.njit()\n",
    "def func():\n",
    "    return 1\n",
    "\n",
    "# Or\n",
    "\n",
    "@nb.jit(nopython=True)  # parallel=True\n",
    "def func():\n",
    "    return 1\n",
    "\n",
    "# Or\n",
    "\n",
    "@nb.vectorize\n",
    "def function(a, b):\n",
    "    return 1\n",
    "\n",
    "# Or direct data formats\n",
    "\n",
    "import numba as nb\n",
    "@nb.jit(nb.int32(nb.int32, nb.int32))\n",
    "def function(a, b):\n",
    "    return a + b\n",
    "\n",
    "# Cuda in Numba\n",
    "\n",
    "from numba import cuda\n",
    "@cuda.jit(device=True)\n",
    "def function(a, b):\n",
    "    return a + b"
   ]
  },
  {
   "cell_type": "markdown",
   "metadata": {},
   "source": [
    "## Dask"
   ]
  },
  {
   "cell_type": "code",
   "execution_count": null,
   "metadata": {},
   "outputs": [],
   "source": [
    "dsk = '''\n",
    "import dask\n",
    "\n",
    "@dask.delayed\n",
    "def inc(x):\n",
    "    return x + 1\n",
    "\n",
    "@dask.delayed\n",
    "def double(x):\n",
    "    return x + 2\n",
    "\n",
    "@dask.delayed\n",
    "def add(x, y):\n",
    "    return x + y\n",
    "\n",
    "data = [1, 2, 3, 4, 5]\n",
    "\n",
    "output = []\n",
    "for x in data:\n",
    "    a = inc(x)\n",
    "    b = double(x)\n",
    "    c = add(a, b)\n",
    "    output.append(c)\n",
    "\n",
    "total = dask.delayed(sum)(output)\n",
    "# maybe add    total.compute()\n",
    "'''"
   ]
  },
  {
   "cell_type": "markdown",
   "metadata": {},
   "source": [
    "### Dask formats"
   ]
  },
  {
   "cell_type": "code",
   "execution_count": null,
   "metadata": {},
   "outputs": [],
   "source": [
    "dsk_frmts = '''\n",
    "import pandas as pd\n",
    "import dask.array as da\n",
    "import dask.dataframe as dd\n",
    "x = da.random.random((20, 20), chunks=(10, 10))\n",
    "\n",
    "# Dataframes implement the Pandas API\n",
    "\n",
    "df = pd.DataFrame([[1, 2, 3], [1, 5, 3], [5, 6, 7]], columns = ['one', 'two', 'three'])\n",
    "dfdsk = dd.from_pandas(df, npartitions=1)\n",
    "\n",
    "# Or dd.read_csv('adress')\n",
    "\n",
    "from dask_ml.linear_model import LogisticRegression  # Dask-ML implements the Scikit-Learn API\n",
    "lr = LogisticRegression()\n",
    "lr.fit(dfdsk, dfdsk)\n",
    "\n",
    "## Show task structure\n",
    "\n",
    ".visualize()\n",
    "'''\n",
    "## Force to empty memory\n",
    "\n",
    "import gc\n",
    "gc.collect()"
   ]
  },
  {
   "cell_type": "markdown",
   "metadata": {},
   "source": [
    "## Max execution time python"
   ]
  },
  {
   "cell_type": "code",
   "execution_count": null,
   "metadata": {},
   "outputs": [],
   "source": [
    "import time, sys\n",
    "\n",
    "def watchdog(timeout, code, *args, **kwargs):\n",
    "    \"Time-limited execution.\"\n",
    "    def tracer(frame, event, arg, start=time.time()):\n",
    "        \"Helper.\"\n",
    "        now = time.time()\n",
    "        if now > start + timeout:\n",
    "            raise WatchdogTimeoutError(start, now)\n",
    "        return tracer if event == \"call\" else None\n",
    "\n",
    "    old_tracer = sys.gettrace()\n",
    "    try:\n",
    "        sys.settrace(tracer)\n",
    "        code(*args, **kwargs)\n",
    "    finally:\n",
    "        sys.settrace(old_tracer)\n",
    "\n",
    "def func(a):\n",
    "    return 1 + a\n",
    "\n",
    "watchdog(5, func, 0.1) # First element is time limit - Last argument 0.1 are *args and **kwargs\n",
    "\n",
    "# Or\n",
    "mx_ex = '''\n",
    "from contextlib import contextmanager\n",
    "import threading\n",
    "import _thread\n",
    "\n",
    "class TimeoutException(Exception):\n",
    "    def __init__(self, msg=''):\n",
    "        self.msg = msg\n",
    "\n",
    "@contextmanager\n",
    "def time_limit(seconds, msg=''):\n",
    "    timer = threading.Timer(seconds, lambda: _thread.interrupt_main())\n",
    "    timer.start()\n",
    "    try:\n",
    "        yield\n",
    "    except KeyboardInterrupt:\n",
    "        raise TimeoutException(\"Timed out for operation {}\".format(msg))\n",
    "    finally:\n",
    "        # if the acti   on ends in specified time, timer is canceled\n",
    "        timer.cancel()\n",
    "\n",
    "import time\n",
    "with time_limit(5, 'slee'):\n",
    "    time.sleep(10)\n",
    "'''"
   ]
  },
  {
   "cell_type": "markdown",
   "metadata": {},
   "source": [
    "## Profiling"
   ]
  },
  {
   "cell_type": "code",
   "execution_count": null,
   "metadata": {},
   "outputs": [],
   "source": [
    "# python -m cProfile -o program.prof my_program.py\n",
    "# snakeviz program.prof"
   ]
  },
  {
   "cell_type": "markdown",
   "metadata": {},
   "source": [
    "# Whole sections\n",
    "\n",
    "## Encoding JSON with Python"
   ]
  },
  {
   "cell_type": "code",
   "execution_count": null,
   "metadata": {},
   "outputs": [],
   "source": [
    "import json\n",
    "\n",
    "data =  {\n",
    "            'a':  0,\n",
    "            'b':  9.6,\n",
    "            'c':  \"Hello World\",\n",
    "            'd':  {\n",
    "                    'a':  4\n",
    "            }\n",
    "}\n",
    "\n",
    "json_data = json.dumps(data)\n",
    "# Notice how the keys are not sorted by default, you would have to add the sort_keys=True"
   ]
  },
  {
   "cell_type": "markdown",
   "metadata": {},
   "source": [
    "# Pypi export / create own library\n",
    "\n",
    "Put on github, add licence, create release. In computer create setup.py"
   ]
  },
  {
   "cell_type": "code",
   "execution_count": null,
   "metadata": {},
   "outputs": [],
   "source": [
    "pypi_exp = '''\n",
    "# This is content of setup.py\n",
    "from setuptools import setup, find_packages\n",
    "import io\n",
    "import os\n",
    "import sys\n",
    "\n",
    "here = os.path.abspath(os.path.dirname(__file__))\n",
    "\n",
    "def read(*filenames, **kwargs):\n",
    "    encoding = kwargs.get('encoding', 'utf-8')\n",
    "    sep = kwargs.get('sep', '\\n')\n",
    "    buf = []\n",
    "    for filename in filenames:\n",
    "        with io.open(filename, encoding=encoding) as f:\n",
    "            buf.append(f.read())\n",
    "    return sep.join(buf)\n",
    "\n",
    "long_description = read('README.md')\n",
    "\n",
    "setup(\n",
    "    name='predictit',\n",
    "    version='0.2',\n",
    "    url='https://github.com/Malachov/predictit',\n",
    "    download_url='https://github.com/Malachov/predictit/archive/0.11.tar.gz',\n",
    "    license='mit',\n",
    "    author='Daniel Malachov',\n",
    "    install_requires=[\n",
    "            'SQLAlchemy',\n",
    "            'pandas',\n",
    "            'pyodbc',\n",
    "            'Keras',\n",
    "            'sklearn_extensions',\n",
    "            'tensorflow',\n",
    "            'prettytable',\n",
    "            'matplotlib',\n",
    "            'plotly',\n",
    "            'cufflinks',\n",
    "            'numpy',\n",
    "            'scipy',\n",
    "            'seaborn',\n",
    "            'statsmodels',\n",
    "            'scikit_learn'\n",
    "    ],\n",
    "    author_email='malachovd@seznam.cz',\n",
    "    description='Library/framework for making predictions.',\n",
    "    long_description=' Automatically choose best of 20 models (ARIMA, regressions, LSTM...). Preprocess data and chose optimal parameters of predictions.',\n",
    "    packages=find_packages(),\n",
    "    include_package_data=True,\n",
    "    platforms='any',\n",
    "    classifiers = [\n",
    "        'Programming Language :: Python',\n",
    "        'Development Status :: 2 - Pre-Alpha',\n",
    "        'Natural Language :: English',\n",
    "        'Environment :: Other Environment',\n",
    "        'Intended Audience :: Developers',\n",
    "        'License :: OSI Approved :: MIT License',\n",
    "        'Operating System :: OS Independent',\n",
    "        'Topic :: Software Development :: Libraries :: Python Modules',\n",
    "        'Topic :: Software Development :: Libraries :: Application Frameworks',\n",
    "        ],\n",
    "    extras_require={\n",
    "    }\n",
    ")\n",
    "\n",
    "# Next create setup.cfg\n",
    "\n",
    "# Inside of setup.cfg\n",
    "\n",
    "[metadata]\n",
    "description-file = README.md\n",
    "\n",
    "[bdist_wheel]  # Dal pro wheels knihovnu\n",
    "universal = 1\n",
    "\n",
    "[metadata]\n",
    "license_file = LICENSE\n",
    "\n",
    "# Load folder in cmd and\n",
    "\n",
    "python setup.py sdist\n",
    "\n",
    "# Or if you use wheel - better\n",
    "\n",
    "python setup.py sdist bdist_wheel\n",
    "\n",
    "# Finally\n",
    "\n",
    "twine upload dist/*\n",
    "'''"
   ]
  }
 ],
 "metadata": {
  "kernelspec": {
   "display_name": "Python 3",
   "language": "python",
   "name": "python3"
  },
  "language_info": {
   "codemirror_mode": {
    "name": "ipython",
    "version": 3
   },
   "file_extension": ".py",
   "mimetype": "text/x-python",
   "name": "python",
   "nbconvert_exporter": "python",
   "pygments_lexer": "ipython3",
   "version": "3.7.4"
  },
  "toc": {
   "base_numbering": 1,
   "nav_menu": {},
   "number_sections": true,
   "sideBar": true,
   "skip_h1_title": false,
   "title_cell": "Table of Contents",
   "title_sidebar": "Contents",
   "toc_cell": false,
   "toc_position": {},
   "toc_section_display": true,
   "toc_window_display": false
  },
  "varInspector": {
   "cols": {
    "lenName": 16,
    "lenType": 16,
    "lenVar": 40
   },
   "kernels_config": {
    "python": {
     "delete_cmd_postfix": "",
     "delete_cmd_prefix": "del ",
     "library": "var_list.py",
     "varRefreshCmd": "print(var_dic_list())"
    },
    "r": {
     "delete_cmd_postfix": ") ",
     "delete_cmd_prefix": "rm(",
     "library": "var_list.r",
     "varRefreshCmd": "cat(var_dic_list()) "
    }
   },
   "types_to_exclude": [
    "module",
    "function",
    "builtin_function_or_method",
    "instance",
    "_Feature"
   ],
   "window_display": false
  }
 },
 "nbformat": 4,
 "nbformat_minor": 2
}
