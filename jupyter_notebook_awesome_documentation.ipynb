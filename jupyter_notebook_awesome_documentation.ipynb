{
 "cells": [
  {
   "cell_type": "markdown",
   "metadata": {},
   "source": [
    "# Awesome-python-md-documentation\n",
    "This is python user documentation created in markdown so it can be visualized in IDE. How it can look is on this printscreen.\n",
    "\n",
    "![Printscreen of documentation use](https://raw.githubusercontent.com/Malachov/Awesome-python-md-documentation-cheatsheet/master/printscreen.png)\n",
    "\n",
    "Feel free to colab...\n",
    "\n",
    "- [Awesome-python-md-documentation](#awesome-python-md-documentation)\n",
    "- [General](#general)\n",
    "  - [Show installed libraries](#show-installed-libraries)\n",
    "  - [Virtual env](#virtual-env)\n",
    "  - [Requirements - bulk libraries install](#requirements---bulk-libraries-install)\n",
    "  - [One line comment](#one-line-comment)\n",
    "  - [Multiline comment](#multiline-comment)\n",
    "  - [Documentation - docstrings](#documentation---docstrings)\n",
    "    - [reStructured text](#restructured-text)\n",
    "- [\"\"\"Function to find optimal parameters of function](#%22%22%22function-to-find-optimal-parameters-of-function)\n",
    "  - [Output:](#output)\n",
    "  - [Arguments:](#arguments)\n",
    "  - [Multi line code](#multi-line-code)\n",
    "    - [Show where python is installed](#show-where-python-is-installed)\n",
    "- [Logical conditions](#logical-conditions)\n",
    "  - [Not](#not)\n",
    "  - [Greater than, lower than](#greater-than-lower-than)\n",
    "  - [And, or](#and-or)\n",
    "  - [None](#none)\n",
    "- [Variables](#variables)\n",
    "  - [Declaration of more variables at once](#declaration-of-more-variables-at-once)\n",
    "    - [Swap variables values](#swap-variables-values)\n",
    "    - [Check if variable exist](#check-if-variable-exist)\n",
    "  - [Import variables from other modules](#import-variables-from-other-modules)\n",
    "    - [Find name of variable, list or dictionary](#find-name-of-variable-list-or-dictionary)\n",
    "- [DATA TYPES](#data-types)\n",
    "    - [Type of variable as condition](#type-of-variable-as-condition)\n",
    "    - [If exist](#if-exist)\n",
    "  - [String](#string)\n",
    "    - [Format](#format)\n",
    "    - [Newest and fastest format- f'strings'](#newest-and-fastest-format--fstrings)\n",
    "    - [String to code](#string-to-code)\n",
    "    - [Join - concatenate](#join---concatenate)\n",
    "- [List](#list)\n",
    "    - [Check if list is empty or not](#check-if-list-is-empty-or-not)\n",
    "    - [Create list from 0 to 10](#create-list-from-0-to-10)\n",
    "    - [Create list - List comprehension](#create-list---list-comprehension)\n",
    "    - [Function in list generator](#function-in-list-generator)\n",
    "    - [One value more times](#one-value-more-times)\n",
    "    - [Multiple list](#multiple-list)\n",
    "    - [Find index](#find-index)\n",
    "    - [Access members](#access-members)\n",
    "    - [Slices](#slices)\n",
    "    - [Reverse](#reverse)\n",
    "    - [Iterate in reverse order](#iterate-in-reverse-order)\n",
    "    - [Nested lists](#nested-lists)\n",
    "    - [Every first member of nested lists](#every-first-member-of-nested-lists)\n",
    "    - [Remove member](#remove-member)\n",
    "    - [Minimum](#minimum)\n",
    "    - [Find maximum and it's index](#find-maximum-and-its-index)\n",
    "    - [Sum](#sum)\n",
    "    - [If member exist](#if-member-exist)\n",
    "    - [Length of list](#length-of-list)\n",
    "    - [Every value just once](#every-value-just-once)\n",
    "    - [Intersection and inclusive](#intersection-and-inclusive)\n",
    "    - [Add first with first, second with second](#add-first-with-first-second-with-second)\n",
    "    - [List of functions](#list-of-functions)\n",
    "    - [How many times members in list](#how-many-times-members-in-list)\n",
    "  - [Deque](#deque)\n",
    "  - [Tuple](#tuple)\n",
    "- [Dictionary](#dictionary)\n",
    "    - [Add value](#add-value)\n",
    "    - [Create dictionary from two lists](#create-dictionary-from-two-lists)\n",
    "    - [Miscelanious](#miscelanious)\n",
    "    - [Last key in dictionary](#last-key-in-dictionary)\n",
    "    - [For cycle for all keys](#for-cycle-for-all-keys)\n",
    "    - [Maximum value and its index](#maximum-value-and-its-index)\n",
    "    - [Values](#values)\n",
    "    - [Find key from value](#find-key-from-value)\n",
    "    - [For cycle for dictionaries](#for-cycle-for-dictionaries)\n",
    "  - [Join two dictionaries](#join-two-dictionaries)\n",
    "    - [Enumerate in dictionaries](#enumerate-in-dictionaries)\n",
    "    - [Dictionary as arguments into function](#dictionary-as-arguments-into-function)\n",
    "    - [Nested dictionaries - for examples name of functions and it's parameters](#nested-dictionaries---for-examples-name-of-functions-and-its-parameters)\n",
    "    - [Nested dictionaries - Find minimum](#nested-dictionaries---find-minimum)\n",
    "    - [Dictionary comprehension](#dictionary-comprehension)\n",
    "- [Set](#set)\n",
    "- [Iterator](#iterator)\n",
    "- [Dataframe](#dataframe)\n",
    "    - [Import from csv](#import-from-csv)\n",
    "    - [Access column](#access-column)\n",
    "    - [Subset of columns](#subset-of-columns)\n",
    "    - [Column to new dataframe](#column-to-new-dataframe)\n",
    "    - [Subset of rows and columns](#subset-of-rows-and-columns)\n",
    "    - [Logical conditions](#logical-conditions-1)\n",
    "    - [Concat 2 columns](#concat-2-columns)\n",
    "    - [Find index from column name](#find-index-from-column-name)\n",
    "    - [Zvolit index ze sloupce](#zvolit-index-ze-sloupce)\n",
    "    - [Create](#create)\n",
    "    - [Convert into array](#convert-into-array)\n",
    "    - [Convert into list](#convert-into-list)\n",
    "    - [Date and time and datetime, range](#date-and-time-and-datetime-range)\n",
    "    - [Join 2 dataframes - Add rows](#join-2-dataframes---add-rows)\n",
    "    - [Join 2 dataframes - Add columns](#join-2-dataframes---add-columns)\n",
    "    - [Transpose - Rows into columns](#transpose---rows-into-columns)\n",
    "    - [Save into CSV](#save-into-csv)\n",
    "    - [Group by](#group-by)\n",
    "    - [Moving average](#moving-average)\n",
    "    - [Remove outliers](#remove-outliers)\n",
    "    - [Resample dataframe](#resample-dataframe)\n",
    "- [Numpy Array](#numpy-array)\n",
    "    - [Convert](#convert)\n",
    "    - [Slicing](#slicing)\n",
    "      - [Only column - not retain shape](#only-column---not-retain-shape)\n",
    "      - [Columns with same shape](#columns-with-same-shape)\n",
    "      - [Only rows](#only-rows)\n",
    "    - [Matrix from two arrays](#matrix-from-two-arrays)\n",
    "    - [Join two matrixes - add columns](#join-two-matrixes---add-columns)\n",
    "    - [Find minimum value](#find-minimum-value)\n",
    "    - [Find index of smallest value](#find-index-of-smallest-value)\n",
    "    - [Convert to other format](#convert-to-other-format)\n",
    "    - [Create zero matrix of given shape](#create-zero-matrix-of-given-shape)\n",
    "    - [Replace all values with logical condition](#replace-all-values-with-logical-condition)\n",
    "    - [Delete member](#delete-member)\n",
    "    - [Delete Nan values](#delete-nan-values)\n",
    "    - [Delete all rows where are Nan](#delete-all-rows-where-are-nan)\n",
    "    - [Add column](#add-column)\n",
    "    - [Join two arrays into one](#join-two-arrays-into-one)\n",
    "    - [Miscellaneous](#miscellaneous)\n",
    "    - [Sums](#sums)\n",
    "    - [Dot product / multiplication](#dot-product--multiplication)\n",
    "    - [Shape](#shape)\n",
    "    - [Remove non unique values](#remove-non-unique-values)\n",
    "    - [Reshape](#reshape)\n",
    "    - [Transpose](#transpose)\n",
    "    - [Generate sin](#generate-sin)\n",
    "    - [Find index (one) with max / min value](#find-index-one-with-max--min-value)\n",
    "    - [Fill with Nan values](#fill-with-nan-values)\n",
    "    - [Check if Nan values](#check-if-nan-values)\n",
    "    - [Zip for arrays](#zip-for-arrays)\n",
    "- [LOOPZ](#loopz)\n",
    "  - [IF](#if)\n",
    "    - [Zda existuje proměnná](#zda-existuje-prom%c4%9bnn%c3%a1)\n",
    "    - [Ternary operator - If in argument](#ternary-operator---if-in-argument)\n",
    "  - [FOR](#for)\n",
    "    - [Return indexes and elements](#return-indexes-and-elements)\n",
    "  - [Generate list of elements from u1 to u5](#generate-list-of-elements-from-u1-to-u5)\n",
    "  - [Generate values with strings](#generate-values-with-strings)\n",
    "    - [For in list comprehension](#for-in-list-comprehension)\n",
    "    - [Generate list with for cycle and if](#generate-list-with-for-cycle-and-if)\n",
    "    - [Generate list with more parameters](#generate-list-with-more-parameters)\n",
    "    - [Nested lists](#nested-lists-1)\n",
    "  - [WHILE](#while)\n",
    "- [Functions](#functions)\n",
    "    - [Jump out of function - return](#jump-out-of-function---return)\n",
    "    - [Default parameter](#default-parameter)\n",
    "    - [Global variables](#global-variables)\n",
    "  - [Funkcions map(), filter(), reduce()](#funkcions-map-filter-reduce)\n",
    "    - [Reduce - Input sequention into function](#reduce---input-sequention-into-function)\n",
    "- [Generators](#generators)\n",
    "- [Dekorators](#dekorators)\n",
    "- [Module](#module)\n",
    "- [Classes](#classes)\n",
    "    - [Create object](#create-object)\n",
    "    - [Call class method](#call-class-method)\n",
    "    - [Change atribute of class](#change-atribute-of-class)\n",
    "    - [Call static method](#call-static-method)\n",
    "- [FILE I/O](#file-io)\n",
    "  - [Import fuction from other file](#import-fuction-from-other-file)\n",
    "    - [Find script's adress](#find-scripts-adress)\n",
    "    - [Import variables from file in the same folder](#import-variables-from-file-in-the-same-folder)\n",
    "  - [If file or dir exists](#if-file-or-dir-exists)\n",
    "  - [Pathlib - new and correct way](#pathlib---new-and-correct-way)\n",
    "    - [Pathlib as string](#pathlib-as-string)\n",
    "    - [Find all adress](#find-all-adress)\n",
    "    - [Work with file](#work-with-file)\n",
    "  - [Relative path](#relative-path)\n",
    "  - [Absolute path](#absolute-path)\n",
    "  - [Add path to files and modules](#add-path-to-files-and-modules)\n",
    "  - [Create module from folder](#create-module-from-folder)\n",
    "  - [Working direktory](#working-direktory)\n",
    "  - [Change current working directiory](#change-current-working-directiory)\n",
    "  - [Full adress](#full-adress)\n",
    "  - [Show all files in folder](#show-all-files-in-folder)\n",
    "  - [Load all files with certain suffix](#load-all-files-with-certain-suffix)\n",
    "  - [Filter for one type data](#filter-for-one-type-data)\n",
    "- [Work with files](#work-with-files)\n",
    "  - [Import txt](#import-txt)\n",
    "  - [Pickling](#pickling)\n",
    "- [Try -- Except](#try----except)\n",
    "  - [Try for all errors](#try-for-all-errors)\n",
    "  - [Raise exception](#raise-exception)\n",
    "  - [Assert - Require something or error](#assert---require-something-or-error)\n",
    "- [Warnings](#warnings)\n",
    "- [Regular expressions](#regular-expressions)\n",
    "- [Built in functions](#built-in-functions)\n",
    "    - [Print](#print)\n",
    "    - [Range](#range)\n",
    "    - [Reverse range](#reverse-range)\n",
    "    - [\\__name__ - If file is runned from inside or is imported](#name---if-file-is-runned-from-inside-or-is-imported)\n",
    "- [Date and time](#date-and-time)\n",
    "- [Plots, graphs](#plots-graphs)\n",
    "  - [Plotly](#plotly)\n",
    "    - [Plotly timeseries](#plotly-timeseries)\n",
    "    - [From matplotlib to plotly](#from-matplotlib-to-plotly)\n",
    "    - [Save picture](#save-picture)\n",
    "  - [Matplotlib](#matplotlib)\n",
    "    - [Simple plot](#simple-plot)\n",
    "    - [Load txt and plot it](#load-txt-and-plot-it)\n",
    "    - [Histogram](#histogram)\n",
    "    - [Curves and points](#curves-and-points)\n",
    "    - [Two graphs](#two-graphs)\n",
    "    - [More plots with one legend](#more-plots-with-one-legend)\n",
    "    - [More plots with for cycle](#more-plots-with-for-cycle)\n",
    "    - [Scatterplot](#scatterplot)\n",
    "    - [Text plot](#text-plot)\n",
    "  - [Table](#table)\n",
    "  - [Symbolic functions](#symbolic-functions)\n",
    "- [Libraries](#libraries)\n",
    "  - [If pip cannot be installed by SSL errorr](#if-pip-cannot-be-installed-by-ssl-errorr)\n",
    "- [Jupyter](#jupyter)\n",
    "  - [Autoreload](#autoreload)\n",
    "  - [Link](#link)\n",
    "  - [Image](#image)\n",
    "  - [Youtube](#youtube)\n",
    "  - [Show all images from folder](#show-all-images-from-folder)\n",
    "- [Requests - API - GET, POST](#requests---api---get-post)\n",
    "- [Images, pictures](#images-pictures)\n",
    "  - [Show image](#show-image)\n",
    "  - [Resize](#resize)\n",
    "  - [Save](#save)\n",
    "  - [Convert to black and white](#convert-to-black-and-white)\n",
    "  - [Convert image to matrix](#convert-image-to-matrix)\n",
    "- [Mahematics, statistics, linear algebra](#mahematics-statistics-linear-algebra)\n",
    "  - [Square root](#square-root)\n",
    "  - [Random numbers in normal distribution](#random-numbers-in-normal-distribution)\n",
    "  - [Random number everytime the same](#random-number-everytime-the-same)\n",
    "  - [Random numbers in normal distribution matrix shape](#random-numbers-in-normal-distribution-matrix-shape)\n",
    "  - [Eigen values](#eigen-values)\n",
    "  - [Inverse matrix](#inverse-matrix)\n",
    "  - [Determinant](#determinant)\n",
    "  - [Ones matrix](#ones-matrix)\n",
    "  - [Matrix transpozition](#matrix-transpozition)\n",
    "  - [Points generation](#points-generation)\n",
    "  - [Mean](#mean)\n",
    "  - [Standard deviation](#standard-deviation)\n",
    "  - [Add shape - matrix dimensions (rows, columns etc.)](#add-shape---matrix-dimensions-rows-columns-etc)\n",
    "  - [Number of members - count](#number-of-members---count)\n",
    "  - [Bins](#bins)\n",
    "  - [Cumulative sum](#cumulative-sum)\n",
    "  - [Derivation](#derivation)\n",
    "  - [Latex dislay](#latex-dislay)\n",
    "  - [Symbolic python - sympy](#symbolic-python---sympy)\n",
    "    - [Substitute](#substitute)\n",
    "    - [Simplify](#simplify)\n",
    "    - [Evaluate](#evaluate)\n",
    "    - [Lambdify](#lambdify)\n",
    "  - [Integration](#integration)\n",
    "    - [Unbounded integral](#unbounded-integral)\n",
    "    - [Bounded integral](#bounded-integral)\n",
    "  - [Round](#round)\n",
    "  - [Modulo](#modulo)\n",
    "  - [Power (x on y)](#power-x-on-y)\n",
    "  - [Describe - Statistical values of list](#describe---statistical-values-of-list)\n",
    "  - [Statistical values of array](#statistical-values-of-array)\n",
    "  - [Correlation](#correlation)\n",
    "    - [Correlation matrix - values](#correlation-matrix---values)\n",
    "    - [Correlation matrix - plot](#correlation-matrix---plot)\n",
    "    - [Correlation (Pearson corr. matrix)](#correlation-pearson-corr-matrix)\n",
    "    - [Correlation coefficent](#correlation-coefficent)\n",
    "  - [Test of normal distribution](#test-of-normal-distribution)\n",
    "- [Machine learning](#machine-learning)\n",
    "    - [Standardization: mean = 0 and std = 1](#standardization-mean--0-and-std--1)\n",
    "    - [Normalization (-1,1)](#normalization--11)\n",
    "- [Signal processig and controll](#signal-processig-and-controll)\n",
    "- [Miscellaneous](#miscellaneous-1)\n",
    "  - [Function for change relative path](#function-for-change-relative-path)\n",
    "  - [Measure time](#measure-time)\n",
    "    - [Measure time of function with inputs](#measure-time-of-function-with-inputs)\n",
    "    - [Measure time on multiline](#measure-time-on-multiline)\n",
    "    - [Measure between two lines](#measure-between-two-lines)\n",
    "  - [Show bytcode](#show-bytcode)\n",
    "  - [The \\__call__ method (Allow input of object to function)](#the-call-method-allow-input-of-object-to-function)\n",
    "- [Performance](#performance)\n",
    "  - [Type hinting](#type-hinting)\n",
    "  - [Numba](#numba)\n",
    "    - [Cuda in Numba](#cuda-in-numba)\n",
    "  - [Dask](#dask)\n",
    "    - [Dask formats](#dask-formats)\n",
    "  - [Show task structure](#show-task-structure)\n",
    "  - [Force to empty memory](#force-to-empty-memory)\n",
    "  - [Max execution time python](#max-execution-time-python)\n",
    "  - [Profiling](#profiling)\n",
    "- [Whole sections](#whole-sections)\n",
    "  - [Encoding JSON with Python](#encoding-json-with-python)\n",
    "- [Pypi export / create own library](#pypi-export--create-own-library)\n",
    "- [Inside of setup.cfg](#inside-of-setupcfg)\n",
    "# General\n",
    "\n",
    "## Show installed libraries\n",
    "pip list\n",
    "\n",
    "\n",
    "Show outdated libraries\n",
    "\n",
    "pip list --outdated\n",
    "\n",
    "## Virtual env\n",
    "pip install virtualenv\n",
    "virtualenv daniel  # Vytvoří novou virtuálku\n",
    "C:\\VSCODE\\Diplomka\\pokus\\Scripts\\activate.bat  # Activate virtual env\n",
    "\n",
    "## Requirements - bulk libraries install\n",
    "Create requirements\n",
    "\n",
    "pipreqs --encoding=utf8 C:\\VSCODE\\Diplomka\n",
    "\n",
    "Deprecated\n",
    "\n",
    "(pip freeze > requirements.txt)\n",
    "\n",
    "How to use\n",
    "\n",
    "pip install -r /path/to/requirements.txt\n",
    "\n",
    "## One line comment"
   ]
  },
  {
   "cell_type": "code",
   "execution_count": null,
   "metadata": {},
   "outputs": [],
   "source": [
    "# This is comment"
   ]
  },
  {
   "cell_type": "markdown",
   "metadata": {},
   "source": [
    "## Multiline comment"
   ]
  },
  {
   "cell_type": "code",
   "execution_count": null,
   "metadata": {},
   "outputs": [],
   "source": [
    "\"\"\" Víceřádkové komentáře používají tři uvozovky nebo apostrofy\n",
    "a jsou často využívány jako dokumentační komentáře k metodám\n",
    "\"\"\""
   ]
  },
  {
   "cell_type": "markdown",
   "metadata": {},
   "source": [
    "## Documentation - docstrings\n",
    "Posible modes - DocBlockR, ReST, Numpy, Google\n",
    "\n",
    "### reStructured text"
   ]
  },
  {
   "cell_type": "code",
   "execution_count": null,
   "metadata": {
    "attributes": {
     "classes": [
      "markdown"
     ],
     "id": ""
    }
   },
   "outputs": [],
   "source": [
    "Section Header\n",
    "==============\n",
    "\n",
    "Subsection Header\n",
    "-----------------\n",
    "\n",
    "- A bullet list item\n",
    "\n",
    "- A sub item\n",
    "\n",
    "1) An enumerated list item\n",
    "\n",
    ".. image:: /path/to/image.jpg\n",
    "\n",
    "A sentence with links to `Wikipedia`_\n",
    "\n",
    ".. _Wikipedia: https://www.wikipedia.org/\n",
    "\n",
    "+------------------------+------------+----------+\n",
    "| Header row, column 1   | Header 2   | Header 3 |\n",
    "+========================+============+==========+\n",
    "| body row 1, column 1   | column 2   | column 3 |\n",
    "+------------------------+------------+----------+\n",
    "| body row 2             | Cells may span        |\n",
    "+------------------------+-----------------------+\n",
    "\n",
    "Literal - no linebreaks etc.\n",
    "\n",
    "::\n",
    "\n",
    "some literal text.\n",
    "\n",
    "\n",
    "Python code in docstrings\n",
    "\n",
    ".. code:: python\n",
    "\n",
    "print(\"A literal block directive explicitly marked as python code\")\n",
    "\n",
    "### docBlockR\n",
    "```python\n",
    "\"\"\"Function to find optimal parameters of function\n",
    "======\n",
    "Output:\n",
    "------\n",
    "    Optimized parameters {dict}\n",
    "\n",
    "Arguments:\n",
    "------\n",
    "    model {func} -- Function to be optimized (eg: ridgeregression)\n",
    "    kwargs {dict} -- Initial arguments (eg: {\"alpha\": 0.1, \"n_steps_in\": 10})\n",
    "    kwargs_limits {dict} -- Bounds of arguments (eg: {\"alpha\": [0.1, 1], \"n_steps_in\":[2, 30]})\n",
    "    data {list, array, dataframe col} -- Data on which function is optimized (eg: data1)\n",
    "    fragments {int} -- Number of optimized intervals (default: 10)\n",
    "    predicts {int} -- Number of predicted values (default: 7)\n",
    "\"\"\""
   ]
  },
  {
   "cell_type": "markdown",
   "metadata": {},
   "source": [
    "## Multi line code"
   ]
  },
  {
   "cell_type": "code",
   "execution_count": null,
   "metadata": {},
   "outputs": [],
   "source": [
    "poi = { \"1\": 3,\n",
    "        \"2\": 4, \n",
    "        \"6\": 8 }"
   ]
  },
  {
   "cell_type": "markdown",
   "metadata": {},
   "source": [
    "or use brackets or \\\\"
   ]
  },
  {
   "cell_type": "code",
   "execution_count": null,
   "metadata": {},
   "outputs": [],
   "source": [
    "a = (   1 + 2\n",
    "        + 3 + 4 )\n",
    "\n",
    "a = 1 + 2 \\\n",
    "    + 3 + \n",
    "\n",
    "f = range(  1 + 2\n",
    "        + '3' - '4')  # Function example"
   ]
  },
  {
   "cell_type": "markdown",
   "metadata": {},
   "source": [
    "### Show where python is installed\n",
    "where python\n",
    "\n",
    "# Logical conditions\n",
    "## Not"
   ]
  },
  {
   "cell_type": "code",
   "execution_count": null,
   "metadata": {},
   "outputs": [],
   "source": [
    "not True # => False\n",
    "is not\n",
    "!="
   ]
  },
  {
   "cell_type": "markdown",
   "metadata": {},
   "source": [
    "## Greater than, lower than\n",
    "\\>=\n",
    "\n",
    "## And, or"
   ]
  },
  {
   "cell_type": "code",
   "execution_count": null,
   "metadata": {},
   "outputs": [],
   "source": [
    "0 and 2 # => 0\n",
    "-5 or 0 # => -5\n",
    "0 == False # => True\n",
    "if a > b and c > a:"
   ]
  },
  {
   "cell_type": "markdown",
   "metadata": {},
   "source": [
    "Logical conditions can be combined"
   ]
  },
  {
   "cell_type": "code",
   "execution_count": null,
   "metadata": {},
   "outputs": [],
   "source": [
    "1 < 2 < 3 # => True"
   ]
  },
  {
   "cell_type": "markdown",
   "metadata": {},
   "source": [
    "## None\n",
    "None is object (NULL, nil, ...)"
   ]
  },
  {
   "cell_type": "code",
   "execution_count": null,
   "metadata": {},
   "outputs": [],
   "source": [
    "None  # => None"
   ]
  },
  {
   "cell_type": "markdown",
   "metadata": {},
   "source": [
    "So don't use \"==\" for comparison. Rather use \"is\""
   ]
  },
  {
   "cell_type": "code",
   "execution_count": null,
   "metadata": {},
   "outputs": [],
   "source": [
    "None is None # => True"
   ]
  },
  {
   "cell_type": "markdown",
   "metadata": {},
   "source": [
    "None, 0, and empty string/list/dictionary is False, everything else True"
   ]
  },
  {
   "cell_type": "code",
   "execution_count": null,
   "metadata": {},
   "outputs": [],
   "source": [
    "bool(0) # => False\n",
    "bool(\"\") # => False\n",
    "bool([]) # => False\n",
    "bool({}) # => False"
   ]
  },
  {
   "cell_type": "markdown",
   "metadata": {},
   "source": [
    "# Variables"
   ]
  },
  {
   "cell_type": "code",
   "execution_count": null,
   "metadata": {},
   "outputs": [],
   "source": [
    "y = int(2.8)\n",
    "\n",
    "x = 1\n",
    "x += 1 # Zkrácený zápis x = x + 1. Pozor, žádné x++ neexisuje"
   ]
  },
  {
   "cell_type": "markdown",
   "metadata": {},
   "source": [
    "Int divided by int\n",
    "    3 / 2  # = 1.5\n",
    "    3 // 2  # = 1\n",
    "\n",
    "## Declaration of more variables at once"
   ]
  },
  {
   "cell_type": "code",
   "execution_count": null,
   "metadata": {},
   "outputs": [],
   "source": [
    "a = b = c = 1\n",
    "\n",
    "a,b,c = 1,2,\"john\""
   ]
  },
  {
   "cell_type": "markdown",
   "metadata": {},
   "source": [
    "### Swap variables values"
   ]
  },
  {
   "cell_type": "code",
   "execution_count": null,
   "metadata": {},
   "outputs": [],
   "source": [
    "e, d = d, e # d is now 5, e is now 4\n",
    "\n",
    "name = ['mike', 'john', 'steve']  \n",
    "age = [20, 32, 19]\n",
    "\n",
    "for x,y in zip(name, age):\n",
    "    globals()[x] = y  # mike = 20 ...\n",
    "\n",
    "uname = ['u{}'.format(n) for n in range(7)] # [u1, u2, u3...]"
   ]
  },
  {
   "cell_type": "markdown",
   "metadata": {},
   "source": [
    "### Check if variable exist"
   ]
  },
  {
   "cell_type": "code",
   "execution_count": null,
   "metadata": {},
   "outputs": [],
   "source": [
    "if 'myVar' in locals():"
   ]
  },
  {
   "cell_type": "markdown",
   "metadata": {},
   "source": [
    "## Import variables from other modules\n",
    "Creat config.py\n",
    "\n",
    "There for example"
   ]
  },
  {
   "cell_type": "code",
   "execution_count": null,
   "metadata": {},
   "outputs": [],
   "source": [
    "x = 1"
   ]
  },
  {
   "cell_type": "markdown",
   "metadata": {},
   "source": [
    "In main then use\n",
    "\n",
    "config.x = 2 ....\n",
    "\n",
    "### Find name of variable, list or dictionary"
   ]
  },
  {
   "cell_type": "code",
   "execution_count": null,
   "metadata": {},
   "outputs": [],
   "source": [
    "my_var_name = [k for k,v in globals().items() if v == promenna][0]"
   ]
  },
  {
   "cell_type": "markdown",
   "metadata": {},
   "source": [
    "# DATA TYPES"
   ]
  },
  {
   "cell_type": "code",
   "execution_count": null,
   "metadata": {},
   "outputs": [],
   "source": [
    "type(a)  # Return type"
   ]
  },
  {
   "cell_type": "markdown",
   "metadata": {},
   "source": [
    "### Type of variable as condition"
   ]
  },
  {
   "cell_type": "code",
   "execution_count": null,
   "metadata": {},
   "outputs": [],
   "source": [
    "if isinstance(o, str):  # Check if it's string (or int etc...)"
   ]
  },
  {
   "cell_type": "markdown",
   "metadata": {},
   "source": [
    "More types at once"
   ]
  },
  {
   "cell_type": "code",
   "execution_count": null,
   "metadata": {},
   "outputs": [],
   "source": [
    "import numpy as np  \n",
    "y = np.array([1])\n",
    "isinstance(y, (np.ndarray, np.generic))  # pd.DataFrame For dataframe\n",
    "\n",
    "if a is list: # Zjistí, zda jde přímo o string\n",
    "    pass"
   ]
  },
  {
   "cell_type": "markdown",
   "metadata": {},
   "source": [
    "Also work if object is includes in class\n",
    "\n",
    "### If exist"
   ]
  },
  {
   "cell_type": "code",
   "execution_count": null,
   "metadata": {},
   "outputs": [],
   "source": [
    "if callable(objekt)"
   ]
  },
  {
   "cell_type": "markdown",
   "metadata": {},
   "source": [
    "## String\n",
    "\n",
    "Strings \" or ' and can contain UTF8 symbols"
   ]
  },
  {
   "cell_type": "code",
   "execution_count": null,
   "metadata": {},
   "outputs": [],
   "source": [
    "\"This is string.\"\n",
    "'This is also string.'"
   ]
  },
  {
   "cell_type": "markdown",
   "metadata": {},
   "source": [
    "In python 3"
   ]
  },
  {
   "cell_type": "code",
   "execution_count": null,
   "metadata": {},
   "outputs": [],
   "source": [
    "print('strings are now utf-8 \\u03BCnico\\u0394é!')  # strings are now utf-8 μnicoΔé!"
   ]
  },
  {
   "cell_type": "markdown",
   "metadata": {},
   "source": [
    "Strings can use + but don't use"
   ]
  },
  {
   "cell_type": "code",
   "execution_count": null,
   "metadata": {},
   "outputs": [],
   "source": [
    "\"Hello \" + \"world!\" # => \"Hello world!\""
   ]
  },
  {
   "cell_type": "markdown",
   "metadata": {},
   "source": [
    "Can be concatenated without '+'"
   ]
  },
  {
   "cell_type": "code",
   "execution_count": null,
   "metadata": {},
   "outputs": [],
   "source": [
    "\"Hello \" \"world!\" # => \"Hello world!\""
   ]
  },
  {
   "cell_type": "markdown",
   "metadata": {},
   "source": [
    "String is list of symbols"
   ]
  },
  {
   "cell_type": "code",
   "execution_count": null,
   "metadata": {},
   "outputs": [],
   "source": [
    "\"This is list\"[0] # => 'T'"
   ]
  },
  {
   "cell_type": "markdown",
   "metadata": {},
   "source": [
    "### Format\n",
    "Old"
   ]
  },
  {
   "cell_type": "code",
   "execution_count": null,
   "metadata": {},
   "outputs": [],
   "source": [
    "'%s  %s' % ('one', 'two')"
   ]
  },
  {
   "cell_type": "markdown",
   "metadata": {},
   "source": [
    "Newer"
   ]
  },
  {
   "cell_type": "code",
   "execution_count": null,
   "metadata": {},
   "outputs": [],
   "source": [
    "'{} {}'.format('one', 'two')"
   ]
  },
  {
   "cell_type": "markdown",
   "metadata": {},
   "source": [
    "Format can be used multiple times"
   ]
  },
  {
   "cell_type": "code",
   "execution_count": null,
   "metadata": {},
   "outputs": [],
   "source": [
    "\"{0} {1} stříkaček stříkalo přes {0} {1} střech\".format(\"tři sta třicet tři\", \"stříbrných\")"
   ]
  },
  {
   "cell_type": "markdown",
   "metadata": {},
   "source": [
    "You can use named arguments\n",
    "\n",
    "   \"{jmeno} si dal {jidlo}\".format(jmeno=\"Franta\", jidlo=\"guláš\") # => \"Franta si dal guláš\"\n",
    "\n",
    "### Newest and fastest format- f'strings'"
   ]
  },
  {
   "cell_type": "code",
   "execution_count": null,
   "metadata": {},
   "outputs": [],
   "source": [
    "f\"Hello, {name}. You are {2 * 17}. Also functions {name.lower()}.\"\n",
    "If you use \"\"\" no escape symbols will be used"
   ]
  },
  {
   "cell_type": "markdown",
   "metadata": {},
   "source": [
    "Also can use dictionaries, but \"\" is necesarry\n",
    "Dont use # in f strings\n",
    "\n",
    "### String to code"
   ]
  },
  {
   "cell_type": "code",
   "execution_count": null,
   "metadata": {},
   "outputs": [],
   "source": [
    "exec(mycode)\n",
    "x = eval(\"2+2\") # number ze stringu"
   ]
  },
  {
   "cell_type": "markdown",
   "metadata": {},
   "source": [
    "### Join - concatenate"
   ]
  },
  {
   "cell_type": "code",
   "execution_count": null,
   "metadata": {},
   "outputs": [],
   "source": [
    "words = [\"this\", 'is', 'a', 'list', 'of', \"strings\"]\n",
    "' '.join(words)  #returns \"This is a list of strings\""
   ]
  },
  {
   "cell_type": "markdown",
   "metadata": {},
   "source": [
    "# List"
   ]
  },
  {
   "cell_type": "code",
   "execution_count": null,
   "metadata": {},
   "outputs": [],
   "source": [
    "sez = []\n",
    "sez.append(1) # sez je nyní [1]\n",
    "a.insert(2, 2) # do indexu 2 vloží 2\n",
    "sez.pop() # Vymaže poslední hodnotu\n",
    "sez.remove(2) # Vymaže první 2 v seznamu\n",
    "del a[1] # vymaže druhý prvek v seznamu\n",
    "del m[:] # Vymaže všechny elementy\n",
    "a + b # seřadí za sebe\n",
    "b.extend(a) # Seřadí za sebe"
   ]
  },
  {
   "cell_type": "markdown",
   "metadata": {},
   "source": [
    "If list a = list b and we change one of them, the other also change therefor"
   ]
  },
  {
   "cell_type": "code",
   "execution_count": null,
   "metadata": {},
   "outputs": [],
   "source": [
    "lista = [1, 2, 3]\n",
    "listb = lista.copy()\n",
    "listb[2] = 5\n",
    "print(lista)  # [1, 2, 5]"
   ]
  },
  {
   "cell_type": "markdown",
   "metadata": {},
   "source": [
    "### Check if list is empty or not"
   ]
  },
  {
   "cell_type": "code",
   "execution_count": null,
   "metadata": {},
   "outputs": [],
   "source": [
    "if a:\n",
    "if not a:"
   ]
  },
  {
   "cell_type": "markdown",
   "metadata": {},
   "source": [
    "### Create list from 0 to 10"
   ]
  },
  {
   "cell_type": "code",
   "execution_count": null,
   "metadata": {},
   "outputs": [],
   "source": [
    "l = range(10) #  [0,  1,  2,  3,  4,  5,  6,  7,  8,  9]"
   ]
  },
  {
   "cell_type": "markdown",
   "metadata": {},
   "source": [
    "### Create list - List comprehension"
   ]
  },
  {
   "cell_type": "code",
   "execution_count": null,
   "metadata": {},
   "outputs": [],
   "source": [
    "[x*5 for x in range(5)] #[0, 5, 10, 15, 20]\n",
    "[x for x in range(5) if x%2 == 0] #[0, 2, 4]\n",
    "[a if a else  2  for a in  [0,1,0,3]]"
   ]
  },
  {
   "cell_type": "markdown",
   "metadata": {},
   "source": [
    "List comprehension from more entities"
   ]
  },
  {
   "cell_type": "code",
   "execution_count": null,
   "metadata": {},
   "outputs": [],
   "source": [
    "[(i, j) for i, j in zip(list_1, list_2)] # [(1, 'a'), (2, 'b'...]"
   ]
  },
  {
   "cell_type": "markdown",
   "metadata": {},
   "source": [
    "### Function in list generator"
   ]
  },
  {
   "cell_type": "code",
   "execution_count": null,
   "metadata": {},
   "outputs": [],
   "source": [
    "[pricist_10(i) for i in [1, 2, 3]]  # => [11, 12, 13]\n",
    "[x for x in [3, 4, 5, 6, 7] if x > 5]  # => [6, 7]"
   ]
  },
  {
   "cell_type": "markdown",
   "metadata": {},
   "source": [
    "### One value more times"
   ]
  },
  {
   "cell_type": "code",
   "execution_count": null,
   "metadata": {},
   "outputs": [],
   "source": [
    "listOfStr = ['Hi'] * 3 # ['Hi', 'Hi', 'Hi']"
   ]
  },
  {
   "cell_type": "markdown",
   "metadata": {},
   "source": [
    "### Multiple list"
   ]
  },
  {
   "cell_type": "code",
   "execution_count": null,
   "metadata": {},
   "outputs": [],
   "source": [
    "my_list =  [1,  2,  3,  4,  5]\n",
    "my_new_list =  [i *  5  for i in my_list]"
   ]
  },
  {
   "cell_type": "markdown",
   "metadata": {},
   "source": [
    "### Find index"
   ]
  },
  {
   "cell_type": "code",
   "execution_count": null,
   "metadata": {},
   "outputs": [],
   "source": [
    "a.index(3)"
   ]
  },
  {
   "cell_type": "markdown",
   "metadata": {},
   "source": [
    "### Access members"
   ]
  },
  {
   "cell_type": "code",
   "execution_count": null,
   "metadata": {},
   "outputs": [],
   "source": [
    "sez = [1, 2, 3, 4]\n",
    "sez[0]  # => 1\n",
    "sez[-1]  # => 3"
   ]
  },
  {
   "cell_type": "markdown",
   "metadata": {},
   "source": [
    "### Slices"
   ]
  },
  {
   "cell_type": "code",
   "execution_count": null,
   "metadata": {},
   "outputs": [],
   "source": [
    "sez[1:3]  # => [2, 4]\n",
    "sez[2:]  # => [4, 3]\n",
    "sez[:3] # => [1, 2, 4]"
   ]
  },
  {
   "cell_type": "markdown",
   "metadata": {},
   "source": [
    "Every second member"
   ]
  },
  {
   "cell_type": "code",
   "execution_count": null,
   "metadata": {},
   "outputs": [],
   "source": [
    "sez[::2] # =>[1, 4]"
   ]
  },
  {
   "cell_type": "markdown",
   "metadata": {},
   "source": [
    "### Reverse"
   ]
  },
  {
   "cell_type": "code",
   "execution_count": null,
   "metadata": {},
   "outputs": [],
   "source": [
    "sez[::-1] # => [3, 4, 2, 1]\n",
    "Or\n",
    "\n",
    "a.reverse()"
   ]
  },
  {
   "cell_type": "markdown",
   "metadata": {},
   "source": [
    "### Iterate in reverse order"
   ]
  },
  {
   "cell_type": "code",
   "execution_count": null,
   "metadata": {},
   "outputs": [],
   "source": [
    "for i in reversed(a):"
   ]
  },
  {
   "cell_type": "markdown",
   "metadata": {},
   "source": [
    "### Nested lists"
   ]
  },
  {
   "cell_type": "code",
   "execution_count": null,
   "metadata": {},
   "outputs": [],
   "source": [
    "t = [[1,2], [3,4]]\n",
    "print(t[1][1])  # 4"
   ]
  },
  {
   "cell_type": "markdown",
   "metadata": {},
   "source": [
    "### Every first member of nested lists"
   ]
  },
  {
   "cell_type": "code",
   "execution_count": null,
   "metadata": {},
   "outputs": [],
   "source": [
    "L = [[[0,1,2],[3,4,5],[6,7,8]],  [[0,1,2],[3,4,5],[6,7,8]],  [[0,1,2],[3,4,5],[6,7,8]]]\n",
    "R = [[x[0]  for x in sl ]  for sl in L ]\n",
    "Lst = [[1,2,3],[11,12,13],[21,22,23]]"
   ]
  },
  {
   "cell_type": "markdown",
   "metadata": {},
   "source": [
    "Or"
   ]
  },
  {
   "cell_type": "code",
   "execution_count": null,
   "metadata": {},
   "outputs": [],
   "source": [
    "list(zip(*lst))[0]"
   ]
  },
  {
   "cell_type": "markdown",
   "metadata": {},
   "source": [
    "### Remove member"
   ]
  },
  {
   "cell_type": "code",
   "execution_count": null,
   "metadata": {},
   "outputs": [],
   "source": [
    "del sez[2] # sez je nyní [1, 2, 3]"
   ]
  },
  {
   "cell_type": "markdown",
   "metadata": {},
   "source": [
    "### Minimum"
   ]
  },
  {
   "cell_type": "code",
   "execution_count": null,
   "metadata": {},
   "outputs": [],
   "source": [
    "youngest = min(ages)"
   ]
  },
  {
   "cell_type": "markdown",
   "metadata": {},
   "source": [
    "### Find maximum and it's index"
   ]
  },
  {
   "cell_type": "code",
   "execution_count": null,
   "metadata": {},
   "outputs": [],
   "source": [
    "m = max(a)\n",
    "[i for i, j in enumerate(a) if j == m] # pro a = [1,2,0]  # 1"
   ]
  },
  {
   "cell_type": "markdown",
   "metadata": {},
   "source": [
    "### Sum"
   ]
  },
  {
   "cell_type": "code",
   "execution_count": null,
   "metadata": {},
   "outputs": [],
   "source": [
    "suma = sum(ages)"
   ]
  },
  {
   "cell_type": "markdown",
   "metadata": {},
   "source": [
    "### If member exist"
   ]
  },
  {
   "cell_type": "code",
   "execution_count": null,
   "metadata": {},
   "outputs": [],
   "source": [
    "1 in sez # => True"
   ]
  },
  {
   "cell_type": "markdown",
   "metadata": {},
   "source": [
    "### Length of list"
   ]
  },
  {
   "cell_type": "code",
   "execution_count": null,
   "metadata": {},
   "outputs": [],
   "source": [
    "len(sez) # => 6"
   ]
  },
  {
   "cell_type": "markdown",
   "metadata": {},
   "source": [
    "### Every value just once"
   ]
  },
  {
   "cell_type": "code",
   "execution_count": null,
   "metadata": {},
   "outputs": [],
   "source": [
    "t =  [1,  2,  3,  1,  2,  5,  6,  7,  8]\n",
    "list(set(t))  # [1,  2,  3,  5,  6,  7,  8]"
   ]
  },
  {
   "cell_type": "markdown",
   "metadata": {},
   "source": [
    "### Intersection and inclusive"
   ]
  },
  {
   "cell_type": "code",
   "execution_count": null,
   "metadata": {},
   "outputs": [],
   "source": [
    "Zip(List1a2, Listb1b2) # {(a1, b1), (a2, b2)}\n",
    "j2 = [i for i in j if i >=  5]"
   ]
  },
  {
   "cell_type": "markdown",
   "metadata": {},
   "source": [
    "### Add first with first, second with second"
   ]
  },
  {
   "cell_type": "code",
   "execution_count": null,
   "metadata": {},
   "outputs": [],
   "source": [
    "[a + b for a, b in zip(list1, list2)]"
   ]
  },
  {
   "cell_type": "markdown",
   "metadata": {},
   "source": [
    "### List of functions"
   ]
  },
  {
   "cell_type": "code",
   "execution_count": null,
   "metadata": {},
   "outputs": [],
   "source": [
    "def func1():return 1\n",
    "def func2():return 2\n",
    "def func3():return 3\n",
    "fl = [func1,func2,func3]\n",
    "[f() for f in fl] # [1, 2, 3]"
   ]
  },
  {
   "cell_type": "markdown",
   "metadata": {},
   "source": [
    "### How many times members in list"
   ]
  },
  {
   "cell_type": "code",
   "execution_count": null,
   "metadata": {},
   "outputs": [],
   "source": [
    "print( collections.Counter(['a', 'b', 'c', 'a', 'b', 'b']))"
   ]
  },
  {
   "cell_type": "markdown",
   "metadata": {},
   "source": [
    "## Deque\n",
    "\n",
    "You can iterate from both sides"
   ]
  },
  {
   "cell_type": "code",
   "execution_count": null,
   "metadata": {},
   "outputs": [],
   "source": [
    "append(x)  # Add x to the right side of the deque.\n",
    "appendleft(x)  # Add x to the left side of the deque.\n",
    "clear()  # Remove all elements from the deque leaving it with length 0.\n",
    "count(x)  # Count the number of deque elements equal to x.\n",
    "extend(iterable)  # Extend the right side of the deque by appending elements from the iterable argument.\n",
    "pop()  # Remove and return an element from the right side of the deque. If no elements are present, raises an IndexError.\n",
    "popleft()  # Remove and return an element from the left side of the deque. If no elements are present, raises an IndexError.\n",
    "remove(value)  # Remove the first occurrence of value. If not found, raises a ValueError.\n",
    "reverse()  # Reverse the elements of the deque in-place and then return None.\n",
    "rotate(n=1)  # Rotate the deque n steps to the right. If n is negative, rotate to the left.\n"
   ]
  },
  {
   "cell_type": "markdown",
   "metadata": {},
   "source": [
    "## Tuple\n",
    "\n",
    "Tuple is like list but imutable  !!! [] i can change - () i cannot change !!!"
   ]
  },
  {
   "cell_type": "code",
   "execution_count": null,
   "metadata": {},
   "outputs": [],
   "source": [
    "tuple = (1, 2, 3)\n",
    "tuple[0]  # => 1\n",
    "tuple[0] = 3  # Raise TypeError"
   ]
  },
  {
   "cell_type": "markdown",
   "metadata": {},
   "source": [
    "# Dictionary"
   ]
  },
  {
   "cell_type": "code",
   "execution_count": null,
   "metadata": {},
   "outputs": [],
   "source": [
    "empty_dic = {}\n",
    "dic = {\"jedna\": 1, \"dva\": 2, \"tři\": 3}\n",
    "dict_variable = {key:value for (key,value) in dictonary.items()}"
   ]
  },
  {
   "cell_type": "markdown",
   "metadata": {},
   "source": [
    "### Add value"
   ]
  },
  {
   "cell_type": "code",
   "execution_count": null,
   "metadata": {},
   "outputs": [],
   "source": [
    "Slovnik['čtyři'] = 4  # If key is already there it's updated"
   ]
  },
  {
   "cell_type": "markdown",
   "metadata": {},
   "source": [
    "### Create dictionary from two lists"
   ]
  },
  {
   "cell_type": "code",
   "execution_count": null,
   "metadata": {},
   "outputs": [],
   "source": [
    "name = ['mike', 'john', 'steve']  \n",
    "age = [20, 32, 19]\n",
    "dic=dict(zip(name, age))"
   ]
  },
  {
   "cell_type": "markdown",
   "metadata": {},
   "source": [
    "### Miscelanious"
   ]
  },
  {
   "cell_type": "code",
   "execution_count": null,
   "metadata": {},
   "outputs": [],
   "source": [
    "del thisdict['b'] # vymaze seznam\n",
    "thisdict.has_key('e') returns False\n",
    "thisdict.items() returns [('a', 1), ('c', 'eggs')]"
   ]
  },
  {
   "cell_type": "markdown",
   "metadata": {},
   "source": [
    "All keys"
   ]
  },
  {
   "cell_type": "code",
   "execution_count": null,
   "metadata": {},
   "outputs": [],
   "source": [
    "dic.keys()\n",
    "You need list sometimes not iterables\n",
    "\n",
    "list(dic.keys())"
   ]
  },
  {
   "cell_type": "markdown",
   "metadata": {},
   "source": [
    "### Last key in dictionary"
   ]
  },
  {
   "cell_type": "code",
   "execution_count": null,
   "metadata": {},
   "outputs": [],
   "source": [
    "max(stats)"
   ]
  },
  {
   "cell_type": "markdown",
   "metadata": {},
   "source": [
    "### For cycle for all keys"
   ]
  },
  {
   "cell_type": "code",
   "execution_count": null,
   "metadata": {},
   "outputs": [],
   "source": [
    "for s in stats:\n",
    "    print(s)"
   ]
  },
  {
   "cell_type": "markdown",
   "metadata": {},
   "source": [
    "### Maximum value and its index"
   ]
  },
  {
   "cell_type": "code",
   "execution_count": null,
   "metadata": {},
   "outputs": [],
   "source": [
    "stats = {'a':1000, 'b':3000, 'c': 100}\n",
    "maxname = max(stats, key=stats.get))\n",
    "maxvalue = stats(maxname)"
   ]
  },
  {
   "cell_type": "markdown",
   "metadata": {},
   "source": [
    "### Values"
   ]
  },
  {
   "cell_type": "code",
   "execution_count": null,
   "metadata": {},
   "outputs": [],
   "source": [
    "list(dic.values()) # => [3, 2, 1]\n",
    "\"jedna\" in dic # => True if value is in dictionary\n",
    "dic.get(\"čtyři\") # => None - don't raise error if key not in dic\n",
    "dic.setdefault(\"pět\", 5) # dic[\"pět\"] default 5"
   ]
  },
  {
   "cell_type": "markdown",
   "metadata": {},
   "source": [
    "### Find key from value"
   ]
  },
  {
   "cell_type": "code",
   "execution_count": null,
   "metadata": {},
   "outputs": [],
   "source": [
    "list(modelsnames.keys())[list(modelsnames.values()).index(prear)]"
   ]
  },
  {
   "cell_type": "markdown",
   "metadata": {},
   "source": [
    "### For cycle for dictionaries"
   ]
  },
  {
   "cell_type": "code",
   "execution_count": null,
   "metadata": {},
   "outputs": [],
   "source": [
    "for k in dict: # Iteruje přes všechny klíče\n",
    "    print(k)\n",
    "\n",
    "for k, v in dict.items(): # Iteruje řes všechny klíče a hodnoty\n",
    "    print(k,v)"
   ]
  },
  {
   "cell_type": "markdown",
   "metadata": {},
   "source": [
    "## Join two dictionaries"
   ]
  },
  {
   "cell_type": "code",
   "execution_count": null,
   "metadata": {},
   "outputs": [],
   "source": [
    "c = {**a, **b}"
   ]
  },
  {
   "cell_type": "markdown",
   "metadata": {},
   "source": [
    "### Enumerate in dictionaries"
   ]
  },
  {
   "cell_type": "code",
   "execution_count": null,
   "metadata": {},
   "outputs": [],
   "source": [
    "for i, (j, k) in enumerate(aa.items()):"
   ]
  },
  {
   "cell_type": "markdown",
   "metadata": {},
   "source": [
    "### Dictionary as arguments into function"
   ]
  },
  {
   "cell_type": "code",
   "execution_count": null,
   "metadata": {},
   "outputs": [],
   "source": [
    "t = (47,11)\n",
    "d = {'x':'extract','y':'yes'}\n",
    "f(*t, **d) # It's the same as f(47, 11, x=extract, y=yes)"
   ]
  },
  {
   "cell_type": "markdown",
   "metadata": {},
   "source": [
    "### Nested dictionaries - for examples name of functions and it's parameters"
   ]
  },
  {
   "cell_type": "code",
   "execution_count": null,
   "metadata": {},
   "outputs": [],
   "source": [
    "models = {\"AR (Autoregression)\": ar, \"Linear neural unit\": autoregLNU}\n",
    "modelsparameters = {\"AR (Autoregression)\": {\"predicts\": predicts}, \"Linear neural unit\": {\"predicts\": predicts}}\n",
    "modelscomplet = zip(models.keys(), models.values(), modelsparameters.values())\n",
    "modelsresults = []\n",
    "\n",
    "for i, j, k in modelscomplet:\n",
    "    modelsresults.append({i: j(data0, **k)})"
   ]
  },
  {
   "cell_type": "markdown",
   "metadata": {},
   "source": [
    "### Nested dictionaries - Find minimum"
   ]
  },
  {
   "cell_type": "code",
   "execution_count": null,
   "metadata": {},
   "outputs": [],
   "source": [
    "for key, value in best_of_data.items():\n",
    "    for inkey, invalue in value.items():\n",
    "        if invalue < top:\n",
    "            best_model_name = key\n",
    "            best_data = inkey\n",
    "            top = invalue"
   ]
  },
  {
   "cell_type": "markdown",
   "metadata": {},
   "source": [
    "### Dictionary comprehension"
   ]
  },
  {
   "cell_type": "code",
   "execution_count": null,
   "metadata": {},
   "outputs": [],
   "source": [
    "{x: x**2 for x in range(1, 5)} # => {1: 1, 2: 4, 3: 9, 4: 16}\n",
    "{pismeno for pismeno in \"abeceda\"} # => {\"d\", \"a\", \"c\", \"e\", \"b\"}"
   ]
  },
  {
   "cell_type": "markdown",
   "metadata": {},
   "source": [
    "# Set\n",
    "\n",
    "It is not oredered and every value is just once!"
   ]
  },
  {
   "cell_type": "code",
   "execution_count": null,
   "metadata": {},
   "outputs": [],
   "source": [
    "empty_set = set()\n",
    "set = {1, 1, 2, 2, 3, 4}  # {1, 2, 3, 4}\n",
    "set.add(5)  # {1, 2, 3, 4, 5}\n",
    "jina_set = {3, 4, 5, 6}"
   ]
  },
  {
   "cell_type": "markdown",
   "metadata": {},
   "source": [
    "Intersect of 2 sets"
   ]
  },
  {
   "cell_type": "code",
   "execution_count": null,
   "metadata": {},
   "outputs": [],
   "source": [
    "set & jina_set # => {3, 4, 5}"
   ]
  },
  {
   "cell_type": "markdown",
   "metadata": {},
   "source": [
    "Union"
   ]
  },
  {
   "cell_type": "code",
   "execution_count": null,
   "metadata": {},
   "outputs": [],
   "source": [
    "set | jina_set # => {1, 2, 3, 4, 5, 6}"
   ]
  },
  {
   "cell_type": "markdown",
   "metadata": {},
   "source": [
    "Exception"
   ]
  },
  {
   "cell_type": "code",
   "execution_count": null,
   "metadata": {},
   "outputs": [],
   "source": [
    "{1, 2, 3, 4} - {2, 3, 5} # => {1, 4}"
   ]
  },
  {
   "cell_type": "markdown",
   "metadata": {},
   "source": [
    "If member exist"
   ]
  },
  {
   "cell_type": "code",
   "execution_count": null,
   "metadata": {},
   "outputs": [],
   "source": [
    "2 in set # => True\n",
    "9 in set # => False"
   ]
  },
  {
   "cell_type": "markdown",
   "metadata": {},
   "source": [
    "# Iterator"
   ]
  },
  {
   "cell_type": "code",
   "execution_count": null,
   "metadata": {},
   "outputs": [],
   "source": [
    "iterator = iter(iterable)"
   ]
  },
  {
   "cell_type": "markdown",
   "metadata": {},
   "source": [
    "Next value"
   ]
  },
  {
   "cell_type": "code",
   "execution_count": null,
   "metadata": {},
   "outputs": [],
   "source": [
    "next(iterator) # => \"jedna\""
   ]
  },
  {
   "cell_type": "markdown",
   "metadata": {},
   "source": [
    "# Dataframe\n",
    "\n",
    "Panda library is necessary\n",
    "\n",
    "### Import from csv"
   ]
  },
  {
   "cell_type": "code",
   "execution_count": null,
   "metadata": {},
   "outputs": [],
   "source": [
    "data = pd.read_csv(\n",
    "    \"data/files/complex_data_example.tsv\",\n",
    "    sep='\\t' # Tab-separated value file.\n",
    "    quotechar=\"'\", # single quote allowed as quote character\n",
    "    dtype={\"salary\": int}, # Parse the salary column as an integer\n",
    "    usecols=['name', 'birth_date']. # Ma byt carka podle me - Only columns\n",
    "    parse_dates=['birth_date'], # Intepret the birth_date column as a date\n",
    "    skiprows=10, # Skip the first 10 rows of the file\n",
    "    na_values=['.', '??'] # Take any '.' or '??' values as NA\n",
    ")"
   ]
  },
  {
   "cell_type": "markdown",
   "metadata": {},
   "source": [
    "### Access column"
   ]
  },
  {
   "cell_type": "code",
   "execution_count": null,
   "metadata": {},
   "outputs": [],
   "source": [
    "df['name']"
   ]
  },
  {
   "cell_type": "markdown",
   "metadata": {},
   "source": [
    "### Subset of columns\n",
    "\n",
    "With name"
   ]
  },
  {
   "cell_type": "code",
   "execution_count": null,
   "metadata": {},
   "outputs": [],
   "source": [
    "df1 = df[['a','b']]\n",
    "df[df.columns[0]]  # Columns return name of column"
   ]
  },
  {
   "cell_type": "markdown",
   "metadata": {},
   "source": [
    "with index"
   ]
  },
  {
   "cell_type": "code",
   "execution_count": null,
   "metadata": {},
   "outputs": [],
   "source": [
    "df1 = df.iloc[:,0:2]"
   ]
  },
  {
   "cell_type": "markdown",
   "metadata": {},
   "source": [
    "### Column to new dataframe"
   ]
  },
  {
   "cell_type": "code",
   "execution_count": null,
   "metadata": {},
   "outputs": [],
   "source": [
    "df.pop('class')\n",
    "column_for_prediction_dataframe = data_for_predictions_full[[predicted_column_name]]"
   ]
  },
  {
   "cell_type": "markdown",
   "metadata": {},
   "source": [
    "### Subset of rows and columns"
   ]
  },
  {
   "cell_type": "code",
   "execution_count": null,
   "metadata": {},
   "outputs": [],
   "source": [
    "df1 = df.loc['Jirka']\n",
    "df1 = df.iloc[0]  # First row"
   ]
  },
  {
   "cell_type": "markdown",
   "metadata": {},
   "source": [
    "### Logical conditions"
   ]
  },
  {
   "cell_type": "code",
   "execution_count": null,
   "metadata": {},
   "outputs": [],
   "source": [
    "df = data.loc[data['Name'] == Marko]\n",
    "df = corr_column.loc[:, corr_column['aa'] >= 0.5]"
   ]
  },
  {
   "cell_type": "markdown",
   "metadata": {},
   "source": [
    "### Concat 2 columns"
   ]
  },
  {
   "cell_type": "code",
   "execution_count": null,
   "metadata": {},
   "outputs": [],
   "source": [
    "df1['state_and_code'] = df1['State'] + df1['State_code']"
   ]
  },
  {
   "cell_type": "markdown",
   "metadata": {},
   "source": [
    "### Find index from column name\n",
    "    a = df.columns.get_loc(\"pear\")\n",
    "\n",
    "### Zvolit index ze sloupce"
   ]
  },
  {
   "cell_type": "code",
   "execution_count": null,
   "metadata": {},
   "outputs": [],
   "source": [
    "Df.set_index('date', inplace=True)\n",
    "df.reset_index(level=None, drop=False, inplace=False)"
   ]
  },
  {
   "cell_type": "markdown",
   "metadata": {},
   "source": [
    "### Create\n",
    "\n",
    "one column dataframe"
   ]
  },
  {
   "cell_type": "code",
   "execution_count": null,
   "metadata": {},
   "outputs": [],
   "source": [
    "s2 = pd.Series([1,2,3,4])"
   ]
  },
  {
   "cell_type": "markdown",
   "metadata": {},
   "source": [
    "dataframe"
   ]
  },
  {
   "cell_type": "code",
   "execution_count": null,
   "metadata": {},
   "outputs": [],
   "source": [
    "s2 = pd.DataFrame([1,2,3,4])"
   ]
  },
  {
   "cell_type": "markdown",
   "metadata": {},
   "source": [
    "from dictionary"
   ]
  },
  {
   "cell_type": "code",
   "execution_count": null,
   "metadata": {},
   "outputs": [],
   "source": [
    "newdatf = DataFrame.from_dict(newlist, orient='index')"
   ]
  },
  {
   "cell_type": "markdown",
   "metadata": {},
   "source": [
    "from array"
   ]
  },
  {
   "cell_type": "code",
   "execution_count": null,
   "metadata": {},
   "outputs": [],
   "source": [
    "pd.DataFrame(data=data[1:,1:], # values\n",
    "    index=data[1:,0], # 1st column as index\n",
    "    columns=data[0,1:])"
   ]
  },
  {
   "cell_type": "markdown",
   "metadata": {},
   "source": [
    "### Convert into array"
   ]
  },
  {
   "cell_type": "code",
   "execution_count": null,
   "metadata": {},
   "outputs": [],
   "source": [
    "df['a'].values\n",
    "b=dat.iloc[:,1:].values # každý sloupec zvlast"
   ]
  },
  {
   "cell_type": "markdown",
   "metadata": {},
   "source": [
    "### Convert into list"
   ]
  },
  {
   "cell_type": "code",
   "execution_count": null,
   "metadata": {},
   "outputs": [],
   "source": [
    "df['a'].values.tolist()"
   ]
  },
  {
   "cell_type": "markdown",
   "metadata": {},
   "source": [
    "### Date and time and datetime, range\n",
    "\n",
    "Convert from datetime to time, the same to datetime"
   ]
  },
  {
   "cell_type": "code",
   "execution_count": null,
   "metadata": {},
   "outputs": [],
   "source": [
    "dataframe['DimTimeId'] = dataframe['EventStart'].dt.time"
   ]
  },
  {
   "cell_type": "markdown",
   "metadata": {},
   "source": [
    "Range"
   ]
  },
  {
   "cell_type": "code",
   "execution_count": null,
   "metadata": {},
   "outputs": [],
   "source": [
    "dataframe_to_sql['EventStart'] = pd.date_range(start=start, periods=lenght+1, freq='H')"
   ]
  },
  {
   "cell_type": "markdown",
   "metadata": {},
   "source": [
    "Datetime from values"
   ]
  },
  {
   "cell_type": "code",
   "execution_count": null,
   "metadata": {},
   "outputs": [],
   "source": [
    "start = pd.Timestamp(year=year, month=month, day=day, hour=hour)"
   ]
  },
  {
   "cell_type": "markdown",
   "metadata": {},
   "source": [
    "### Join 2 dataframes - Add rows"
   ]
  },
  {
   "cell_type": "code",
   "execution_count": null,
   "metadata": {},
   "outputs": [],
   "source": [
    "df3 = pd.concat([df1, df2])"
   ]
  },
  {
   "cell_type": "markdown",
   "metadata": {},
   "source": [
    "### Join 2 dataframes - Add columns"
   ]
  },
  {
   "cell_type": "code",
   "execution_count": null,
   "metadata": {},
   "outputs": [],
   "source": [
    "df3 = pd.append([df1, df2]) # může být , ignore_index"
   ]
  },
  {
   "cell_type": "markdown",
   "metadata": {},
   "source": [
    "### Transpose - Rows into columns"
   ]
  },
  {
   "cell_type": "code",
   "execution_count": null,
   "metadata": {},
   "outputs": [],
   "source": [
    "df = df.T"
   ]
  },
  {
   "cell_type": "markdown",
   "metadata": {},
   "source": [
    "### Save into CSV"
   ]
  },
  {
   "cell_type": "code",
   "execution_count": null,
   "metadata": {},
   "outputs": [],
   "source": [
    "Df.to_csv('newcsv.csv') # bez názvů , header=False"
   ]
  },
  {
   "cell_type": "markdown",
   "metadata": {},
   "source": [
    "### Group by"
   ]
  },
  {
   "cell_type": "code",
   "execution_count": null,
   "metadata": {},
   "outputs": [],
   "source": [
    "tips.groupby('day').agg({'tip': np.mean, 'day': np.size})"
   ]
  },
  {
   "cell_type": "markdown",
   "metadata": {},
   "source": [
    "### Moving average"
   ]
  },
  {
   "cell_type": "code",
   "execution_count": null,
   "metadata": {},
   "outputs": [],
   "source": [
    "df['STD'] = pd.rolling_std(dff, 2)"
   ]
  },
  {
   "cell_type": "markdown",
   "metadata": {},
   "source": [
    "### Remove outliers"
   ]
  },
  {
   "cell_type": "code",
   "execution_count": null,
   "metadata": {},
   "outputs": [],
   "source": [
    "df = df[ (df['STD'] < df_std) ]"
   ]
  },
  {
   "cell_type": "markdown",
   "metadata": {},
   "source": [
    "### Resample dataframe"
   ]
  },
  {
   "cell_type": "code",
   "execution_count": null,
   "metadata": {},
   "outputs": [],
   "source": [
    "series.resample('3T').sum() # Méně řádků na výstupu"
   ]
  },
  {
   "cell_type": "markdown",
   "metadata": {},
   "source": [
    "# Numpy Array\n",
    "\n",
    "Create"
   ]
  },
  {
   "cell_type": "code",
   "execution_count": null,
   "metadata": {},
   "outputs": [],
   "source": [
    "ar = np.array([1,2,3], [4, 5, 6])\n",
    "a = ar[1, 2]  # 5 - Access array"
   ]
  },
  {
   "cell_type": "markdown",
   "metadata": {},
   "source": [
    "### Convert"
   ]
  },
  {
   "cell_type": "code",
   "execution_count": null,
   "metadata": {},
   "outputs": [],
   "source": [
    "datta.tolist() # Převede na list -- mozna to je omyl s dataframem"
   ]
  },
  {
   "cell_type": "markdown",
   "metadata": {},
   "source": [
    "On one dimensional list"
   ]
  },
  {
   "cell_type": "code",
   "execution_count": null,
   "metadata": {},
   "outputs": [],
   "source": [
    "qw = np.array(data).reshape(-1)\n",
    "qw = qw.tolist()"
   ]
  },
  {
   "cell_type": "markdown",
   "metadata": {},
   "source": [
    "### Slicing"
   ]
  },
  {
   "cell_type": "code",
   "execution_count": null,
   "metadata": {},
   "outputs": [],
   "source": [
    "a = np.array([[1,2,3],[3,4,5],[4,5,6]]) \n",
    "#    [[1 2 3]\n",
    "#    [3 4 5]\n",
    "#    [4 5 6]] "
   ]
  },
  {
   "cell_type": "markdown",
   "metadata": {},
   "source": [
    "#### Only column - not retain shape"
   ]
  },
  {
   "cell_type": "code",
   "execution_count": null,
   "metadata": {},
   "outputs": [],
   "source": [
    "a = a[:, 1]  # [2 4 5]"
   ]
  },
  {
   "cell_type": "markdown",
   "metadata": {},
   "source": [
    "#### Columns with same shape"
   ]
  },
  {
   "cell_type": "code",
   "execution_count": null,
   "metadata": {},
   "outputs": [],
   "source": [
    "a = a[:, 1:2]  #   [[2]\n",
    "                    [4]\n",
    "                    [5]]"
   ]
  },
  {
   "cell_type": "markdown",
   "metadata": {},
   "source": [
    "#### Only rows"
   ]
  },
  {
   "cell_type": "code",
   "execution_count": null,
   "metadata": {},
   "outputs": [],
   "source": [
    "a = a[1, :]"
   ]
  },
  {
   "cell_type": "markdown",
   "metadata": {},
   "source": [
    "### Matrix from two arrays"
   ]
  },
  {
   "cell_type": "code",
   "execution_count": null,
   "metadata": {},
   "outputs": [],
   "source": [
    "np.vstack([a,a])"
   ]
  },
  {
   "cell_type": "markdown",
   "metadata": {},
   "source": [
    "### Join two matrixes - add columns"
   ]
  },
  {
   "cell_type": "code",
   "execution_count": null,
   "metadata": {},
   "outputs": [],
   "source": [
    "a = np.array([1, 2, 3])\n",
    "b = np.array([2, 3, 4])\n",
    "np.stack((a, b))  # array([[1, 2, 3],\n",
    "                  #        [2, 3, 4]])"
   ]
  },
  {
   "cell_type": "markdown",
   "metadata": {},
   "source": [
    "### Find minimum value"
   ]
  },
  {
   "cell_type": "code",
   "execution_count": null,
   "metadata": {},
   "outputs": [],
   "source": [
    "min = amin(a, axis=1)"
   ]
  },
  {
   "cell_type": "markdown",
   "metadata": {},
   "source": [
    "### Find index of smallest value"
   ]
  },
  {
   "cell_type": "code",
   "execution_count": null,
   "metadata": {},
   "outputs": [],
   "source": [
    "ind = np.unravel_index(np.argmin(models_parameters), shape=models_parameters.shape)"
   ]
  },
  {
   "cell_type": "markdown",
   "metadata": {},
   "source": [
    "### Convert to other format"
   ]
  },
  {
   "cell_type": "code",
   "execution_count": null,
   "metadata": {},
   "outputs": [],
   "source": [
    "arr.astype(int) # convert on np.int\n",
    "arr.item() # from np.int convert on int"
   ]
  },
  {
   "cell_type": "markdown",
   "metadata": {},
   "source": [
    "### Create zero matrix of given shape"
   ]
  },
  {
   "cell_type": "code",
   "execution_count": null,
   "metadata": {},
   "outputs": [],
   "source": [
    "zeros = numpy.zeros_like"
   ]
  },
  {
   "cell_type": "markdown",
   "metadata": {},
   "source": [
    "### Replace all values with logical condition"
   ]
  },
  {
   "cell_type": "code",
   "execution_count": null,
   "metadata": {},
   "outputs": [],
   "source": [
    "x[x > .5] = .5"
   ]
  },
  {
   "cell_type": "markdown",
   "metadata": {},
   "source": [
    "### Delete member"
   ]
  },
  {
   "cell_type": "code",
   "execution_count": null,
   "metadata": {},
   "outputs": [],
   "source": [
    "test = np.delete(test, 1, axis=0) # There need to pe variable before!  axis 0 are rows, 1 are columns"
   ]
  },
  {
   "cell_type": "markdown",
   "metadata": {},
   "source": [
    "### Delete Nan values"
   ]
  },
  {
   "cell_type": "code",
   "execution_count": null,
   "metadata": {},
   "outputs": [],
   "source": [
    "asd = asd[~np.isnan(asd)]"
   ]
  },
  {
   "cell_type": "markdown",
   "metadata": {},
   "source": [
    "### Delete all rows where are Nan"
   ]
  },
  {
   "cell_type": "code",
   "execution_count": null,
   "metadata": {},
   "outputs": [],
   "source": [
    "x = x[~np.isnan(x).any(axis=1)]"
   ]
  },
  {
   "cell_type": "markdown",
   "metadata": {},
   "source": [
    "### Add column"
   ]
  },
  {
   "cell_type": "code",
   "execution_count": null,
   "metadata": {},
   "outputs": [],
   "source": [
    "x = np.array([[10,20,30], [40,50,60]])\n",
    "y = np.array([[100], [200]])\n",
    "print(np.append(x, y, axis=1))"
   ]
  },
  {
   "cell_type": "markdown",
   "metadata": {},
   "source": [
    "### Join two arrays into one"
   ]
  },
  {
   "cell_type": "code",
   "execution_count": null,
   "metadata": {},
   "outputs": [],
   "source": [
    "a = np.array([[1, 2], [3, 4]])\n",
    "b = np.array([[5, 6]])\n",
    "np.concatenate((a, b), axis=0)\n",
    "                                        # array([[1, 2],\n",
    "                                        #        [3, 4],\n",
    "                                        #        [5, 6]])\n",
    "np.concatenate((a, b.T), axis=1)\n",
    "                                        #  array([[1, 2, 5],\n",
    "                                        #         [3, 4, 6]])\n",
    "np.concatenate((a, b), axis=None)\n",
    "                                        # array([1, 2, 3, 4, 5, 6])"
   ]
  },
  {
   "cell_type": "markdown",
   "metadata": {},
   "source": [
    "### Miscellaneous"
   ]
  },
  {
   "cell_type": "code",
   "execution_count": null,
   "metadata": {},
   "outputs": [],
   "source": [
    "X = np.append(X, 3)  # Add element to the end\n",
    "a = np.insert(a,3,[11,12])  # Into a on index 3 insert [11,12], next parameter can be axis\n",
    "np.delete`(*arr*, *obj*, *axis=None*)\n",
    "np.roll(x,2) # Posune array o 2 doprava\n",
    "wo = np.array([1,2,3]) # Shape (3,)\n",
    "wo = np.array([[1,2,3,4,5]]) # Shape (1,5)\n",
    "wo = np.array([[1],[2],[3],[4],[5]]) # Shape (5,1)\n",
    "Numpy.shape(matice) # `(n,m) počet řádků, sloupců atd`. `Y.shape[0] pouze řádky`\n",
    "mat = np.array([[2., 4.],[4., 2.]])\n",
    "            # [[ 2. 4.]\n",
    "            #  [ 4. 2.]]"
   ]
  },
  {
   "cell_type": "markdown",
   "metadata": {},
   "source": [
    "### Sums\n",
    "\n",
    "Axis 0 is for sums on columns"
   ]
  },
  {
   "cell_type": "code",
   "execution_count": null,
   "metadata": {},
   "outputs": [],
   "source": [
    "np.sum([[0, 1], [0, 5]], axis=0)  # array([0, 6])\n",
    "np.sum([[0, 1], [0, 5]], axis=1)  # array([1, 5])"
   ]
  },
  {
   "cell_type": "markdown",
   "metadata": {},
   "source": [
    "### Dot product / multiplication"
   ]
  },
  {
   "cell_type": "code",
   "execution_count": null,
   "metadata": {},
   "outputs": [],
   "source": [
    "x = np.array([1,2,3])\n",
    "w = np.array([1,2,3])\n",
    "v = x*w # [1, 4, 9]\n",
    "v = np.dot(x, w) # 14"
   ]
  },
  {
   "cell_type": "markdown",
   "metadata": {},
   "source": [
    "### Shape"
   ]
  },
  {
   "cell_type": "code",
   "execution_count": null,
   "metadata": {},
   "outputs": [],
   "source": [
    "z = np.array([[1, 2, 3, 4],\n",
    "              [5, 6, 7, 8],\n",
    "              [9, 10, 11, 12]])\n",
    "z.shape  # (3, 4)"
   ]
  },
  {
   "cell_type": "markdown",
   "metadata": {},
   "source": [
    "### Remove non unique values"
   ]
  },
  {
   "cell_type": "code",
   "execution_count": null,
   "metadata": {},
   "outputs": [],
   "source": [
    "unique = np.unique(array, axis=0)"
   ]
  },
  {
   "cell_type": "markdown",
   "metadata": {},
   "source": [
    "### Reshape"
   ]
  },
  {
   "cell_type": "code",
   "execution_count": null,
   "metadata": {},
   "outputs": [],
   "source": [
    "reshape -1 add members automatically\n",
    "z.reshape(-1) # array([ 1,  2,  3,  4,  5,  6])\n",
    "z.reshape(-1,1)\n",
    "\n",
    "    # array([[ 1],\n",
    "    #        [ 2],\n",
    "    #        [ 3],\n",
    "    #        [ 4],\n",
    "    #        [ 5],\n",
    "    #        [ 6]])\n",
    "\n",
    "z.reshape(-1, 2)\n",
    "    # array([[ 1,  2],\n",
    "    #        [ 3,  4],\n",
    "    #        [ 5,  6],\n",
    "    #        [ 7,  8],\n",
    "    #        [ 9, 10],\n",
    "    #        [11, 12]])\n",
    "\n",
    "a = np.array([[1,2,3], [4,5,6]])\n",
    "np.reshape(a, 6, order='F')\n",
    "    # array([1, 4, 2, 5, 3, 6])"
   ]
  },
  {
   "cell_type": "markdown",
   "metadata": {},
   "source": [
    "### Transpose"
   ]
  },
  {
   "cell_type": "code",
   "execution_count": null,
   "metadata": {},
   "outputs": [],
   "source": [
    "data.transpose(1,0,2)  # From (10, 100, 1000) create (10, 1000, 100)"
   ]
  },
  {
   "cell_type": "markdown",
   "metadata": {},
   "source": [
    "### Generate sin\n",
    "\n",
    "  x = np.arange(0,4*np.pi,0.1)   # start,stop,step\n",
    "  y = np.sin(x)\n",
    "\n",
    "### Find index (one) with max / min value"
   ]
  },
  {
   "cell_type": "code",
   "execution_count": null,
   "metadata": {},
   "outputs": [],
   "source": [
    "np.argmax(a)  # or argmin. Also can use parameter axis"
   ]
  },
  {
   "cell_type": "markdown",
   "metadata": {},
   "source": [
    "### Fill with Nan values"
   ]
  },
  {
   "cell_type": "code",
   "execution_count": null,
   "metadata": {},
   "outputs": [],
   "source": [
    "z = np.zeros(N)\n",
    "z.fill(np.nan)"
   ]
  },
  {
   "cell_type": "markdown",
   "metadata": {},
   "source": [
    "### Check if Nan values"
   ]
  },
  {
   "cell_type": "code",
   "execution_count": null,
   "metadata": {},
   "outputs": [],
   "source": [
    "if not np.isnan(z[i]):"
   ]
  },
  {
   "cell_type": "markdown",
   "metadata": {},
   "source": [
    "### Zip for arrays\n",
    "\n",
    "\n",
    "  def azip(*args):\n",
    "    iters = [iter(arg) for arg in args]\n",
    "    for i in itertools.count():\n",
    "      yield tuple([it.next() for it in iters])\n",
    "\n",
    "# LOOPZ\n",
    "## IF\n",
    "### Zda existuje proměnná"
   ]
  },
  {
   "cell_type": "code",
   "execution_count": null,
   "metadata": {},
   "outputs": [],
   "source": [
    "if f:\n",
    "    print(\"f exist\")\n",
    "if promenna > 10:\n",
    "print(\"proměnná je velká jak Rusko\")\n",
    "elif promenna < 10:\n",
    "print(\"proměnná je menší než 10\")\n",
    "else:\n",
    "print(\"proměnná je právě 10\")\n",
    "continue # Jump to other operation\n",
    "break # Jump out of the cycle\n",
    "pass 3 # Do nothing"
   ]
  },
  {
   "cell_type": "markdown",
   "metadata": {},
   "source": [
    "### Ternary operator - If in argument"
   ]
  },
  {
   "cell_type": "code",
   "execution_count": null,
   "metadata": {},
   "outputs": [],
   "source": [
    "state = \"nice\" if is_nice else \"not nice\""
   ]
  },
  {
   "cell_type": "markdown",
   "metadata": {},
   "source": [
    "## FOR"
   ]
  },
  {
   "cell_type": "code",
   "execution_count": null,
   "metadata": {},
   "outputs": [],
   "source": [
    "for zvire in [\"pes\", \"kočka\", \"myš\"]:\n",
    "    print(\"zvire\")\n",
    "for i in range(4):\n",
    "    print(i)\n",
    "for i in range(4, 8):\n",
    "    print(i)\n",
    "colors  =  [\"red\",  \"green\",  \"blue\",  \"purple\"]\n",
    "for  i  in  range(len(colors)):\n",
    "    print(colors[i])"
   ]
  },
  {
   "cell_type": "markdown",
   "metadata": {},
   "source": [
    "### Return indexes and elements"
   ]
  },
  {
   "cell_type": "code",
   "execution_count": null,
   "metadata": {},
   "outputs": [],
   "source": [
    "ints = [8, 23, 45, 12, 78]\n",
    "for idx, val in enumerate(ints):\n",
    "    print(idx, val)"
   ]
  },
  {
   "cell_type": "markdown",
   "metadata": {},
   "source": [
    "## Generate list of elements from u1 to u5"
   ]
  },
  {
   "cell_type": "code",
   "execution_count": null,
   "metadata": {},
   "outputs": [],
   "source": [
    "uname = ['u{}'.format(n) for n in range(1, 6)]"
   ]
  },
  {
   "cell_type": "markdown",
   "metadata": {},
   "source": [
    "## Generate values with strings"
   ]
  },
  {
   "cell_type": "code",
   "execution_count": null,
   "metadata": {},
   "outputs": [],
   "source": [
    "for k in range(5):\n",
    "    exec(f'cat_{k} = k*2')"
   ]
  },
  {
   "cell_type": "markdown",
   "metadata": {},
   "source": [
    "### For in list comprehension"
   ]
  },
  {
   "cell_type": "code",
   "execution_count": null,
   "metadata": {},
   "outputs": [],
   "source": [
    "[x*5 for x in range(5)] #[0, 5, 10, 15, 20]"
   ]
  },
  {
   "cell_type": "markdown",
   "metadata": {},
   "source": [
    "### Generate list with for cycle and if"
   ]
  },
  {
   "cell_type": "code",
   "execution_count": null,
   "metadata": {},
   "outputs": [],
   "source": [
    "[x for x in range(5) if x%2 == 0]  #[0, 2, 4]\n",
    "[a if a else  2  for a in  [0,1,0,3]]"
   ]
  },
  {
   "cell_type": "markdown",
   "metadata": {},
   "source": [
    "### Generate list with more parameters"
   ]
  },
  {
   "cell_type": "code",
   "execution_count": null,
   "metadata": {},
   "outputs": [],
   "source": [
    "[a + b for a, b in zip(list1, list2)]"
   ]
  },
  {
   "cell_type": "markdown",
   "metadata": {},
   "source": [
    "### Nested lists"
   ]
  },
  {
   "cell_type": "code",
   "execution_count": null,
   "metadata": {},
   "outputs": [],
   "source": [
    "a = [[1,2,3],[2,3,4],[5,6,7]]\n",
    "print(a[1][1])   "
   ]
  },
  {
   "cell_type": "markdown",
   "metadata": {},
   "source": [
    "## WHILE"
   ]
  },
  {
   "cell_type": "code",
   "execution_count": null,
   "metadata": {},
   "outputs": [],
   "source": [
    "x = 0\n",
    "while x < 4:\n",
    "    print(x)\n",
    "    x += 1"
   ]
  },
  {
   "cell_type": "markdown",
   "metadata": {},
   "source": [
    "# Functions"
   ]
  },
  {
   "cell_type": "code",
   "execution_count": null,
   "metadata": {},
   "outputs": [],
   "source": [
    "def secist(x, y):  # Create new function with def\n",
    "    print(\"x je {} a y je {}\".format(x, y))\n",
    "    return x + y  # Return values with return\n",
    "secist(5, 6)  # Call the function with parameters, return 11\n",
    "secist(y=6, x=5)  # Named arguments\n",
    "def vrat_argumenty(*argumenty):  # Variable number of arguments\n",
    "    return argumenty\n",
    "vrat_argumenty(1, 2, 3)  # => (1, 2, 3)\n",
    "def vrat_pojmenovane_argumenty(**pojmenovane_argumenty):  # Varaiable number of named arguments\n",
    "    return pojmenovane_argumenty\n",
    "vrat_pojmenovane_argumenty(kdo=\"se bojí\", nesmi=\"do lesa\")  # {\"kdo\": \"se bojí\", \"nesmi\": \"do lesa\"}\n",
    "def vypis_vse(*args, **kwargs):  # You can use combination\n",
    "    print(args, kwargs) # print() vypíše všechny své parametry oddělené mezerou"
   ]
  },
  {
   "cell_type": "markdown",
   "metadata": {},
   "source": [
    "### Jump out of function - return"
   ]
  },
  {
   "cell_type": "code",
   "execution_count": null,
   "metadata": {},
   "outputs": [],
   "source": [
    "def print():\n",
    "    a = 8\n",
    "    if a > 5:\n",
    "        return\n",
    "    print(2)"
   ]
  },
  {
   "cell_type": "markdown",
   "metadata": {},
   "source": [
    "### Default parameter"
   ]
  },
  {
   "cell_type": "code",
   "execution_count": null,
   "metadata": {},
   "outputs": [],
   "source": [
    "def funkce(y, lags=50): If we use lags in call, it will be overwritten\n",
    "vypis_vse(1, 2, a=3, b=4) # Use: (1, 2) {\"a\": 3, \"b\": 4}\n",
    "tuple = (1, 2, 3, 4)\n",
    "dic = {\"a\": 3, \"b\": 4}\n",
    "vypis_vse(tuple)  # Is like vypis_vse((1, 2, 3, 4)). One parameter - tuple\n",
    "vypis_vse(*tuple)  # Is like vypis_vse(1, 2, 3, 4)\n",
    "vypis_vse(**dic)  # Is like vypis_vse(a=3, b=4)\n",
    "vypis_vse(*tuple, **dic)  # Is like vypis_vse(1, 2, 3, 4, a=3, b=4)"
   ]
  },
  {
   "cell_type": "markdown",
   "metadata": {},
   "source": [
    "### Global variables"
   ]
  },
  {
   "cell_type": "code",
   "execution_count": null,
   "metadata": {},
   "outputs": [],
   "source": [
    "x = 5\n",
    "def nastavX(cislo):  # Local variable override global\n",
    "    x = cislo  # => 43\n",
    "    print(x)  # => 43\n",
    "global x\n",
    "def nastavGlobalniX(cislo):\n",
    "    print(x) # => 5\n",
    "    x = cislo # Nastaví globální proměnnou x na 6\n",
    "    print(x) # => 6\n",
    "Functions are objects\n",
    "\n",
    "def vyrobit_scitacku(pricitane_cislo):\n",
    "    def scitacka(x):\n",
    "        return x + pricitane_cislo\n",
    "    return scitacka\n",
    "pricist_10 = vyrobit_scitacku(10)\n",
    "pricist_10(3)  # => 13"
   ]
  },
  {
   "cell_type": "markdown",
   "metadata": {},
   "source": [
    "## Funkcions map(), filter(), reduce()\n",
    "\n",
    "From the functional programming\n",
    "\n",
    "Map call funtion (first parameter) on all objects (second parameter)"
   ]
  },
  {
   "cell_type": "code",
   "execution_count": null,
   "metadata": {},
   "outputs": [],
   "source": [
    "map(pricist_10, [1, 2, 3])"
   ]
  },
  {
   "cell_type": "markdown",
   "metadata": {},
   "source": [
    "Filter create list (First paratemer), where function is true (second parameter)"
   ]
  },
  {
   "cell_type": "code",
   "execution_count": null,
   "metadata": {},
   "outputs": [],
   "source": [
    "number_list = range(-5, 5)\n",
    "less_than_zero = list(filter(lambda x: x < 0, number_list))\n",
    "print(less_than_zero)  # [-5, -4, -3, -2, -1]"
   ]
  },
  {
   "cell_type": "markdown",
   "metadata": {},
   "source": [
    "### Reduce - Input sequention into function"
   ]
  },
  {
   "cell_type": "code",
   "execution_count": null,
   "metadata": {},
   "outputs": [],
   "source": [
    "from functools import reduce\n",
    "def do_sum(x1, x2): return x1 + x2\n",
    "reduce(do_sum, [1, 2, 3, 4]) # 10"
   ]
  },
  {
   "cell_type": "markdown",
   "metadata": {},
   "source": [
    "# Generators\n",
    "\n",
    "Generators are functions, that instead return have yield"
   ]
  },
  {
   "cell_type": "code",
   "execution_count": null,
   "metadata": {},
   "outputs": [],
   "source": [
    "def multiplier_2(sequention):\n",
    "    for i in sequention:\n",
    "    yield 2 * i"
   ]
  },
  {
   "cell_type": "markdown",
   "metadata": {},
   "source": [
    "Generator generate values one after one, when it\\s needed. Instead of been generated all at once\n",
    "Example of generator is range(10000)\n",
    "\n",
    "# Dekorators\n",
    "\n",
    "Dekorators are functions, that wrap other functions, by that\n",
    "it can change it's behaviour."
   ]
  },
  {
   "cell_type": "code",
   "execution_count": null,
   "metadata": {},
   "outputs": [],
   "source": [
    "def nekolikrat(puvodni_funkce):\n",
    "    def opakovaci_funkce(*args, **kwargs):\n",
    "        for i in range(3):\n",
    "            puvodni_funkce(*args, **kwargs)\n",
    "    return opakovaci_funkce\n",
    "\n",
    "@nekolikrat\n",
    "def pozdrav(jmeno):\n",
    "    print(\"Měj se {}!\".format(jmeno))\n",
    "\n",
    "pozdrav(\"Pepo\")  # Return 3x: Měj se Pepo!"
   ]
  },
  {
   "cell_type": "markdown",
   "metadata": {},
   "source": [
    "# Module\n",
    "\n",
    "Module in python is file with .py on the end.\n",
    "You can creat your own and import it."
   ]
  },
  {
   "cell_type": "code",
   "execution_count": null,
   "metadata": {},
   "outputs": [],
   "source": [
    "from my_module import my_function\n",
    "\n",
    "help(module)  # Help with module\n",
    "\n",
    "dir(module)  #  Show objects in module"
   ]
  },
  {
   "cell_type": "markdown",
   "metadata": {},
   "source": [
    "# Classes"
   ]
  },
  {
   "cell_type": "code",
   "execution_count": null,
   "metadata": {},
   "outputs": [],
   "source": [
    "class Clovek(object):  # Class Human is child (it inherits from) class object\n",
    "\n",
    "    druh = \"H. sapiens\"  # Class variable - it's shared with all objects\n",
    "\n",
    "    def __init__(self, jmeno):\n",
    "        self.jmeno = jmeno  # Add parameter to object\n"
   ]
  },
  {
   "cell_type": "markdown",
   "metadata": {},
   "source": [
    "Class method"
   ]
  },
  {
   "cell_type": "code",
   "execution_count": null,
   "metadata": {},
   "outputs": [],
   "source": [
    "def rekni(self, hlaska):\n",
    "    return \"{jmeno}: {hlaska}\".format(jmeno=self.jmeno, hlaska=hlaska)\n",
    "\n",
    "@classmethod  # First parameter is class and can be changed in subclasses\n",
    "def vrat_druh(cls):\n",
    "    return cls.druh\n",
    "\n",
    "@staticmethod  # Do not depend on object - like a normal function and is immutable\n",
    "def odkaslej_si():\n",
    "    return \"*ehm*\""
   ]
  },
  {
   "cell_type": "markdown",
   "metadata": {},
   "source": [
    "Example of class method"
   ]
  },
  {
   "cell_type": "code",
   "execution_count": null,
   "metadata": {},
   "outputs": [],
   "source": [
    "@classmethod\n",
    "def from_string(cls, date_as_string):\n",
    "    day, month, year = map(int, date_as_string.split('-'))\n",
    "    date1 = cls(day, month, year)\n",
    "    return date1\n",
    "\n",
    "date2 = Date.from_string('11-09-2012')"
   ]
  },
  {
   "cell_type": "markdown",
   "metadata": {},
   "source": [
    "### Create object"
   ]
  },
  {
   "cell_type": "code",
   "execution_count": null,
   "metadata": {},
   "outputs": [],
   "source": [
    "d = Clovek(jmeno=\"David\")\n",
    "a = Clovek(\"Adéla\")\n",
    "print(d.rekni(\"ahoj\"))  # \"David: ahoj\"\n",
    "print(a.rekni(\"nazdar\"))  # \"Adéla: nazdar\""
   ]
  },
  {
   "cell_type": "markdown",
   "metadata": {},
   "source": [
    "### Call class method"
   ]
  },
  {
   "cell_type": "code",
   "execution_count": null,
   "metadata": {},
   "outputs": [],
   "source": [
    "d.vrat_druh() # => \"H. sapiens\""
   ]
  },
  {
   "cell_type": "markdown",
   "metadata": {},
   "source": [
    "### Change atribute of class"
   ]
  },
  {
   "cell_type": "code",
   "execution_count": null,
   "metadata": {},
   "outputs": [],
   "source": [
    "Clovek.druh = \"H. neanderthalensis\"\n",
    "d.vrat_druh() # => \"H. neanderthalensis\"\n",
    "a.vrat_druh() # => \"H. neanderthalensis\""
   ]
  },
  {
   "cell_type": "markdown",
   "metadata": {},
   "source": [
    "### Call static method"
   ]
  },
  {
   "cell_type": "code",
   "execution_count": null,
   "metadata": {},
   "outputs": [],
   "source": [
    "Clovek.odkaslej_si() # => \"*ehm*\""
   ]
  },
  {
   "cell_type": "markdown",
   "metadata": {},
   "source": [
    "# FILE I/O\n",
    "## Import fuction from other file"
   ]
  },
  {
   "cell_type": "code",
   "execution_count": null,
   "metadata": {},
   "outputs": [],
   "source": [
    "from analyze import analyze  # First name of file, than function"
   ]
  },
  {
   "cell_type": "markdown",
   "metadata": {},
   "source": [
    "### Find script's adress"
   ]
  },
  {
   "cell_type": "code",
   "execution_count": null,
   "metadata": {},
   "outputs": [],
   "source": [
    "os.path.dirname(__file__)"
   ]
  },
  {
   "cell_type": "markdown",
   "metadata": {},
   "source": [
    "### Import variables from file in the same folder"
   ]
  },
  {
   "cell_type": "code",
   "execution_count": null,
   "metadata": {},
   "outputs": [],
   "source": [
    "import file  # Then call file.value\n",
    "from file import * # Now call just variable"
   ]
  },
  {
   "cell_type": "markdown",
   "metadata": {},
   "source": [
    "## If file or dir exists"
   ]
  },
  {
   "cell_type": "code",
   "execution_count": null,
   "metadata": {},
   "outputs": [],
   "source": [
    "from pathlib import Path\n",
    "my_file = Path(\"/path/to/file\")\n",
    "if my_file.is_file():  # File exists\n",
    "if my_file.is_dir():  # Directory exists\n",
    "if my_file.exists():   # File or dir exists"
   ]
  },
  {
   "cell_type": "markdown",
   "metadata": {},
   "source": [
    "## Pathlib - new and correct way"
   ]
  },
  {
   "cell_type": "code",
   "execution_count": null,
   "metadata": {},
   "outputs": [],
   "source": [
    "from pathlib import Path\n",
    "path = pathlib.Path.cwd()\n",
    "\n",
    "data_folder = Path(\"folder\")\n",
    "file_to_open = data_folder / \"raw_data.txt\""
   ]
  },
  {
   "cell_type": "markdown",
   "metadata": {},
   "source": [
    "### Pathlib as string"
   ]
  },
  {
   "cell_type": "code",
   "execution_count": null,
   "metadata": {},
   "outputs": [],
   "source": [
    "path.as_posix()"
   ]
  },
  {
   "cell_type": "markdown",
   "metadata": {},
   "source": [
    "### Find all adress"
   ]
  },
  {
   "cell_type": "code",
   "execution_count": null,
   "metadata": {},
   "outputs": [],
   "source": [
    "path = pathlib.Path('test.md')\n",
    "path.resolve() # ('/home/gahjelle/realpython/test.md')\n",
    "path.resolve().parent == pathlib.Path.cwd() # False"
   ]
  },
  {
   "cell_type": "markdown",
   "metadata": {},
   "source": [
    "### Work with file"
   ]
  },
  {
   "cell_type": "code",
   "execution_count": null,
   "metadata": {},
   "outputs": [],
   "source": [
    "filename = Path(\"source_data/text_files/raw_data.txt\")\n",
    "\n",
    "print(filename.name) # prints \"raw_data.txt\"\n",
    "print(filename.suffix) # prints \"txt\"\n",
    "print(filename.stem) # prints \"raw_data\"\n",
    "if not filename.exists():\n",
    "    print(\"Oops, file doesn't exist!\")\n",
    "else:\n",
    "    print(\"Yay, the file exists!\")"
   ]
  },
  {
   "cell_type": "markdown",
   "metadata": {},
   "source": [
    "**Next rows just historical - Do not do it that way**\n",
    "## Relative path"
   ]
  },
  {
   "cell_type": "code",
   "execution_count": null,
   "metadata": {},
   "outputs": [],
   "source": [
    "../data/test_file.csv # ..znamená parent složka\n",
    "from os import path\n",
    "file_path = path.relpath(\"data/data.txt\")"
   ]
  },
  {
   "cell_type": "markdown",
   "metadata": {},
   "source": [
    "## Absolute path"
   ]
  },
  {
   "cell_type": "code",
   "execution_count": null,
   "metadata": {},
   "outputs": [],
   "source": [
    "os.path.abspath(\\__file__)"
   ]
  },
  {
   "cell_type": "markdown",
   "metadata": {},
   "source": [
    "## Add path to files and modules"
   ]
  },
  {
   "cell_type": "code",
   "execution_count": null,
   "metadata": {},
   "outputs": [],
   "source": [
    "import sys\n",
    "sys.path.insert(0, '/path/to/application/app/folder')\n",
    "import file\n",
    "sys.path # vytiskne adresáře, ke kterým má soubor přístup"
   ]
  },
  {
   "cell_type": "markdown",
   "metadata": {},
   "source": [
    "## Create module from folder\n",
    "\n",
    "Add file `__init.py__`\n",
    "Inside do all imports from .autoregLNU import autoregLNU\n",
    "Use relative imports with dots\n",
    "\n",
    "## Working direktory"
   ]
  },
  {
   "cell_type": "code",
   "execution_count": null,
   "metadata": {},
   "outputs": [],
   "source": [
    "import os\n",
    "cwd = os.getcwd()\n",
    "os.chdir(r\"C:\\Users\\...\")"
   ]
  },
  {
   "cell_type": "markdown",
   "metadata": {},
   "source": [
    "## Change current working directiory"
   ]
  },
  {
   "cell_type": "code",
   "execution_count": null,
   "metadata": {},
   "outputs": [],
   "source": [
    "cwd = os.getcwd() + r\"\\diplomka\"\n",
    "os.chdir(cwd)"
   ]
  },
  {
   "cell_type": "markdown",
   "metadata": {},
   "source": [
    "## Full adress\n",
    "Use normal slash!"
   ]
  },
  {
   "cell_type": "code",
   "execution_count": null,
   "metadata": {},
   "outputs": [],
   "source": [
    "import os\n",
    "data_folder = \"folder/nextfolder/\"\n",
    "file_to_open = data_folder + \"data.txt\""
   ]
  },
  {
   "cell_type": "markdown",
   "metadata": {},
   "source": [
    "For example if jupyter do not see some files"
   ]
  },
  {
   "cell_type": "code",
   "execution_count": null,
   "metadata": {},
   "outputs": [],
   "source": [
    "script_dir0 = os.path.abspath('') # C:\\VScode"
   ]
  },
  {
   "cell_type": "markdown",
   "metadata": {},
   "source": [
    "Next"
   ]
  },
  {
   "cell_type": "code",
   "execution_count": null,
   "metadata": {},
   "outputs": [],
   "source": [
    "script_path = os.path.abspath(\\__file__)  # i.e. /path/to/dir/foobar.py\n",
    "script_dir = os.path.split(script_path)[0]  #i.e. /path/to/dir/\n",
    "rel_path =  \"2091/data.txt\"\n",
    "abs_file_path = os.path.join(script_dir, rel_path)  # Result is relative '/path/to/dir/2091/data.txt'\n",
    "\n",
    "filename = os.path.join(script_path,  '../same.txt')  # We can use name of file\n",
    "\n",
    "script_dir = os.path.dirname(\\__file__)  # We can use adress of file"
   ]
  },
  {
   "cell_type": "markdown",
   "metadata": {},
   "source": [
    "You can also do"
   ]
  },
  {
   "cell_type": "code",
   "execution_count": null,
   "metadata": {},
   "outputs": [],
   "source": [
    "script_dir = os.path.dirname(\\__file__)\n",
    "rel_path = \"test_ data/realna_data_klapky.txt\"\n",
    "abs_file_path = os.path.join(script_dir, rel_path)"
   ]
  },
  {
   "cell_type": "markdown",
   "metadata": {},
   "source": [
    "## Show all files in folder"
   ]
  },
  {
   "cell_type": "code",
   "execution_count": null,
   "metadata": {},
   "outputs": [],
   "source": [
    "all_files = os.listdir(\"test/\")"
   ]
  },
  {
   "cell_type": "markdown",
   "metadata": {},
   "source": [
    "## Load all files with certain suffix"
   ]
  },
  {
   "cell_type": "code",
   "execution_count": null,
   "metadata": {},
   "outputs": [],
   "source": [
    "import glob\n",
    "imgs=glob.glob(\"*.png\")  # Všechny obrázky ze složky"
   ]
  },
  {
   "cell_type": "markdown",
   "metadata": {},
   "source": [
    "**Wildcard**"
   ]
  },
  {
   "cell_type": "code",
   "execution_count": null,
   "metadata": {},
   "outputs": [],
   "source": [
    "for name in glob.glob('dir/file?.txt'):\n",
    "    print name\n",
    "\n",
    "for name in glob.glob('dir/*[0-9].*'):\n",
    "    print name"
   ]
  },
  {
   "cell_type": "markdown",
   "metadata": {},
   "source": [
    "## Filter for one type data"
   ]
  },
  {
   "cell_type": "code",
   "execution_count": null,
   "metadata": {},
   "outputs": [],
   "source": [
    "txt_files = filter(lambda x: x[-4:]  ==  '.txt', all_files)"
   ]
  },
  {
   "cell_type": "markdown",
   "metadata": {},
   "source": [
    "# Work with files"
   ]
  },
  {
   "cell_type": "code",
   "execution_count": null,
   "metadata": {},
   "outputs": [],
   "source": [
    "f = open(\"test.txt\") # open file in current directory\n",
    "f = open(\"C:/Python33/README.txt\") # specifying full path\n",
    "'r'  Open a file for reading. (default)\n",
    "'w'  Open a file for writing. Creates a new file if it does not exist or truncates the file if it exists.\n",
    "'x'  Open a file for exclusive creation. If the file already exists, the operation fails.\n",
    "'a'  Open for appending at the end of the file without truncating it. Creates a new file if it does not exist.\n",
    "'t'  Open in text mode. (default)\n",
    "'b'  Open in binary mode.\n",
    "'+'  Open a file for updating (reading and writing)\n",
    "f.close()\n",
    "with open(\"test.txt\",'w')  as f:\n",
    "\n",
    "f.write(\"my first file\\n\")\n",
    "f.write(\"This file\\n\\n\")\n",
    "f.write(\"contains three lines\\n\")"
   ]
  },
  {
   "cell_type": "markdown",
   "metadata": {},
   "source": [
    "!!!Use because this will autamatically close the file finally"
   ]
  },
  {
   "cell_type": "code",
   "execution_count": null,
   "metadata": {},
   "outputs": [],
   "source": [
    "f = open(\"test.txt\",'r',encoding =  'utf-8')\n",
    "f.read(4) # read the first 4 data - 'This'\n",
    "f.read(4) # read the next 4 data - ' is '\n",
    "f.read() # read in the rest till end of file - 'my first file\\nThis file\\ncontains three lines\\n'\n",
    "f.read() # further reading returns empty sting"
   ]
  },
  {
   "cell_type": "markdown",
   "metadata": {},
   "source": [
    "## Import txt"
   ]
  },
  {
   "cell_type": "code",
   "execution_count": null,
   "metadata": {},
   "outputs": [],
   "source": [
    "from numpy import loadtxt\n",
    "x=loadtxt('realna_data_klapky.txt')"
   ]
  },
  {
   "cell_type": "markdown",
   "metadata": {},
   "source": [
    "## Pickling\n",
    "\n",
    "Save file in binary format"
   ]
  },
  {
   "cell_type": "code",
   "execution_count": null,
   "metadata": {},
   "outputs": [],
   "source": [
    "import pickle\n",
    "d = {\"a\": 1, \"b\": 2}\n",
    "with open(r\"someobject.pickle\", \"wb\") as output_file: cPickle.dump(d, output_file)"
   ]
  },
  {
   "cell_type": "markdown",
   "metadata": {},
   "source": [
    "Load files"
   ]
  },
  {
   "cell_type": "code",
   "execution_count": null,
   "metadata": {},
   "outputs": [],
   "source": [
    "with open(r\"someobject.pickle\", \"rb\") as input_file: e = cPickle.load(input_file)"
   ]
  },
  {
   "cell_type": "markdown",
   "metadata": {},
   "source": [
    "Result is e = {\"a\": 1, \"b\": 2}**\n",
    "\n",
    "# Try -- Except"
   ]
  },
  {
   "cell_type": "code",
   "execution_count": null,
   "metadata": {},
   "outputs": [],
   "source": [
    "try:\n",
    "    print(znam)\n",
    "except:\n",
    "    print('except')\n",
    "else:\n",
    "    print('else')\n",
    "finally:\n",
    "    print('final')\n",
    "\n",
    "try:\n",
    "    print(neznam)\n",
    "except:\n",
    "    print('except')\n",
    "else:\n",
    "    print('else')\n",
    "finally:\n",
    "    print('final')"
   ]
  },
  {
   "cell_type": "markdown",
   "metadata": {},
   "source": [
    "Print founded error"
   ]
  },
  {
   "cell_type": "code",
   "execution_count": null,
   "metadata": {},
   "outputs": [],
   "source": [
    "try:\n",
    "    linux_interaction()\n",
    "\n",
    "except AssertionError as error:\n",
    "    print(error)"
   ]
  },
  {
   "cell_type": "markdown",
   "metadata": {},
   "source": [
    "##  Try for all errors"
   ]
  },
  {
   "cell_type": "code",
   "execution_count": null,
   "metadata": {},
   "outputs": [],
   "source": [
    "except Exception as e:"
   ]
  },
  {
   "cell_type": "markdown",
   "metadata": {},
   "source": [
    "## Raise exception"
   ]
  },
  {
   "cell_type": "code",
   "execution_count": null,
   "metadata": {},
   "outputs": [],
   "source": [
    "raise Exception('x should not exceed 5. The value of x was: {}'.format(x))"
   ]
  },
  {
   "cell_type": "markdown",
   "metadata": {},
   "source": [
    "## Assert - Require something or error"
   ]
  },
  {
   "cell_type": "code",
   "execution_count": null,
   "metadata": {},
   "outputs": [],
   "source": [
    "assert (x > 4), 'What happened'"
   ]
  },
  {
   "cell_type": "markdown",
   "metadata": {},
   "source": [
    "# Warnings"
   ]
  },
  {
   "cell_type": "code",
   "execution_count": null,
   "metadata": {},
   "outputs": [],
   "source": [
    "import warnings\n",
    "warnings.warn(\"Warning...........Message\")\n",
    "\n",
    "warnings.filterwarnings('error', message=r\".*HessianInversionWarning*\")  # Warnings with word 'HessianInversionWarning' will be caused as errors\n",
    "warnings.filterwarnings('always', category=DeprecationWarning)  # Errory of category depracation will be show everytime\n",
    "warnings.filterwarnings('ignore')  # Errory budou vždy ignorovány"
   ]
  },
  {
   "cell_type": "markdown",
   "metadata": {},
   "source": [
    "\"default\" will print the first occurrence of matching warnings for each location (module + line number) where the warning is issued\n",
    "\n",
    " \"once\"\n",
    " \"error\"\n",
    " \"ignore\"\n",
    " \"always\"\n",
    " \"module\"\n",
    " print the first occurrence of matching warnings for each module where the warning is issued (regardless of line number)\n",
    "\n",
    "\n",
    "# Regular expressions"
   ]
  },
  {
   "cell_type": "code",
   "execution_count": null,
   "metadata": {},
   "outputs": [],
   "source": [
    "import re\n",
    "\n",
    "[] \tA set of characters \t\"[a-m]\" \t\n",
    "\\ \tSignals a special sequence (can also be used to escape special characters) \t\"\\d\" \t\n",
    ". \tAny character (except newline character) \t\"he..o\" \t\n",
    "^ \tStarts with \t\"^hello\" \t\n",
    "$ \tEnds with \t\"world$\" \t\n",
    "* \tZero or more occurrences \t\"aix*\" \t\n",
    "+ \tOne or more occurrences \t\"aix+\" \t\n",
    "{} \tExactly the specified number of occurrences \t\"al{2}\" \t\n",
    "| \tEither or \t\"falls|stays\"\n",
    "\n",
    "\\A \tReturns a match if the specified characters are at the beginning of the string \t\"\\AThe\" \t\n",
    "\\b \tReturns a match where the specified characters are at the beginning or at the end of a word \tr\"\\bain\"\n",
    "r\"ain\\b\" \t\n",
    "\n",
    "\\B \tReturns a match where the specified characters are present, but NOT at the beginning (or at the end) of a word \tr\"\\Bain\"\n",
    "r\"ain\\B\" \t\n",
    "\n",
    "\\d \tReturns a match where the string contains digits (numbers from 0-9) \t\"\\d\" \t\n",
    "\\D \tReturns a match where the string DOES NOT contain digits \t\"\\D\" \t\n",
    "\\s \tReturns a match where the string contains a white space character \t\"\\s\" \t\n",
    "\\S \tReturns a match where the string DOES NOT contain a white space character \t\"\\S\" \t\n",
    "\\w \tReturns a match where the string contains any word characters (characters from a to Z, digits from 0-9, and the underscore _ character) \t\"\\w\" \t\n",
    "\\W \tReturns a match where the string DOES NOT contain any word characters \t\"\\W\" \t\n",
    "\\Z \tReturns a match if the specified characters are at the end of the string \t\"Spain\\Z\"\n",
    "\n",
    "[arn] \tReturns a match where one of the specified characters (a, r, or n) are present \t\n",
    "[a-n] \tReturns a match for any lower case character, alphabetically between a and n \t\n",
    "[^arn] \tReturns a match for any character EXCEPT a, r, and n \t\n",
    "[0123] \tReturns a match where any of the specified digits (0, 1, 2, or 3) are present \t\n",
    "[0-9] \tReturns a match for any digit between 0 and 9 \t\n",
    "[0-5][0-9] \tReturns a match for any two-digit numbers from 00 and 59 \t\n",
    "[a-zA-Z] \tReturns a match for any character alphabetically between a and z, lower case OR upper case \t\n",
    "[+] \tIn sets, +, *, ., |, (), $,{} has no special meaning, so [+] means: return a match for any + character in the string"
   ]
  },
  {
   "cell_type": "markdown",
   "metadata": {},
   "source": [
    "# Built in functions\n",
    "### Print"
   ]
  },
  {
   "cell_type": "code",
   "execution_count": null,
   "metadata": {},
   "outputs": [],
   "source": [
    "print('as', a, 'fegg') # používáme čárky, jde pak spojit string s proměnnou"
   ]
  },
  {
   "cell_type": "markdown",
   "metadata": {},
   "source": [
    "### Range"
   ]
  },
  {
   "cell_type": "code",
   "execution_count": null,
   "metadata": {},
   "outputs": [],
   "source": [
    "x=range(n+1) # x=0,1,2,...,n"
   ]
  },
  {
   "cell_type": "markdown",
   "metadata": {},
   "source": [
    "### Reverse range"
   ]
  },
  {
   "cell_type": "code",
   "execution_count": null,
   "metadata": {},
   "outputs": [],
   "source": [
    "for i in reversed(range(5)):\n",
    "    print(i) # 4, 3, 2, 1"
   ]
  },
  {
   "cell_type": "markdown",
   "metadata": {},
   "source": [
    "### \\__name__ - If file is runned from inside or is imported"
   ]
  },
  {
   "cell_type": "code",
   "execution_count": null,
   "metadata": {},
   "outputs": [],
   "source": [
    "if __name__ == \"__main__\":"
   ]
  },
  {
   "cell_type": "markdown",
   "metadata": {},
   "source": [
    "# Date and time"
   ]
  },
  {
   "cell_type": "code",
   "execution_count": null,
   "metadata": {},
   "outputs": [],
   "source": [
    "now = dt.datetime.now() #datum i čas\n",
    "time.sleep(1) # počká 1 vteřinu"
   ]
  },
  {
   "cell_type": "markdown",
   "metadata": {},
   "source": [
    "# Plots, graphs\n",
    "\n",
    "## Plotly"
   ]
  },
  {
   "cell_type": "code",
   "execution_count": null,
   "metadata": {},
   "outputs": [],
   "source": [
    "import plotly as py\n",
    "\n",
    "fig = dict( data=data, layout=layout )\n",
    "py.offline.plot( fig, filename='d3-cloropleth-map' )"
   ]
  },
  {
   "cell_type": "markdown",
   "metadata": {},
   "source": [
    "or"
   ]
  },
  {
   "cell_type": "code",
   "execution_count": null,
   "metadata": {},
   "outputs": [],
   "source": [
    "init_notebook_mode(connected=True)\n",
    "cf.go_offline()\n",
    "\n",
    "data_ft_date.iplot(xTitle='Dates',yTitle='Returns',title='Returns')"
   ]
  },
  {
   "cell_type": "markdown",
   "metadata": {},
   "source": [
    "### Plotly timeseries"
   ]
  },
  {
   "cell_type": "code",
   "execution_count": null,
   "metadata": {},
   "outputs": [],
   "source": [
    "py.plot([{\n",
    "    'x': data_for_predicts_csv_trimmed.index,\n",
    "    'y': data_for_predicts_csv_trimmed[col],\n",
    "    'name': col\n",
    "}  for col in data_for_predicts_csv_trimmed.columns])"
   ]
  },
  {
   "cell_type": "markdown",
   "metadata": {},
   "source": [
    "### From matplotlib to plotly"
   ]
  },
  {
   "cell_type": "code",
   "execution_count": null,
   "metadata": {},
   "outputs": [],
   "source": [
    "plot_mpl(fig)"
   ]
  },
  {
   "cell_type": "markdown",
   "metadata": {},
   "source": [
    "### Save picture"
   ]
  },
  {
   "cell_type": "code",
   "execution_count": null,
   "metadata": {},
   "outputs": [],
   "source": [
    "import plotly.io as pio\n",
    "static_image_bytes = pio.to_image(fig, format='png')"
   ]
  },
  {
   "cell_type": "markdown",
   "metadata": {},
   "source": [
    "## Matplotlib\n",
    "### Simple plot"
   ]
  },
  {
   "cell_type": "code",
   "execution_count": null,
   "metadata": {},
   "outputs": [],
   "source": [
    "pyplot.plot(test)"
   ]
  },
  {
   "cell_type": "markdown",
   "metadata": {},
   "source": [
    "### Load txt and plot it"
   ]
  },
  {
   "cell_type": "code",
   "execution_count": null,
   "metadata": {},
   "outputs": [],
   "source": [
    "from numpy import loadtxt # pro jeden sloupeček čísel\n",
    "from matplotlib.pyplot import *\n",
    "x=loadtxt('realna_data_klapky.txt')\n",
    "figure(figsize=(20,5))\n",
    "plot(x,'-o',label=\"x\");xlabel('i');ylabel('x [sec]');grid();title(\"realna_data_klapky.txt\")\n",
    "legend();show()\n",
    "plt.savefig('fig1.png', dpi =  300) # uloží graf"
   ]
  },
  {
   "cell_type": "markdown",
   "metadata": {},
   "source": [
    "### Histogram"
   ]
  },
  {
   "cell_type": "code",
   "execution_count": null,
   "metadata": {},
   "outputs": [],
   "source": [
    "figure(figsize=(20,5))\n",
    "nbins=int(round(1+3.3*log(N))) # Sturge's rule, ale zalezi na datech, atd\n",
    "xlabel(\"x\");ylabel(\"cetnosti\"),title(\"cetnosti hodnoty x v intervalech\");grid()\n",
    "a=hist(x,bins=nbins) # vraci dve pole a histogram, tj a[0]=cetnosti, a[1]=intervaly\n",
    "print \"cetnosti=\",a[0]\n",
    "print \"intervaly =\",a[1]"
   ]
  },
  {
   "cell_type": "markdown",
   "metadata": {},
   "source": [
    "### Curves and points"
   ]
  },
  {
   "cell_type": "code",
   "execution_count": null,
   "metadata": {},
   "outputs": [],
   "source": [
    "x=arange(-600,100) #\n",
    "mu=m1;sigma=sqrt(s2);print \"mu=\",mu,\"sigma=\",sigma\n",
    "f=1/(sigma*sqrt(2*pi))*exp(-(((x-mu)/sigma)**2)/2)\n",
    "figure(figsize=(20,5))\n",
    "plot(x,f,'g',label=\"f(x) spojita\");grid()\n",
    "plot(x_i,f_odhad,'o',label=\"f(x) odhad z mereni pro nbin=\"+str(nbins)+\" intervalu\")\n",
    "legend()"
   ]
  },
  {
   "cell_type": "markdown",
   "metadata": {},
   "source": [
    "### Two graphs"
   ]
  },
  {
   "cell_type": "code",
   "execution_count": null,
   "metadata": {},
   "outputs": [],
   "source": [
    "N=1000 # velikost výběru\n",
    "x=random.uniform(-10,10,N)\n",
    "x=random.randn(N)*1000-300\n",
    "x=random.logistic(3, 10, N)\n",
    "x=random.standard_t(3, N)\n",
    "x=random.poisson(1, N)*.01+1000\n",
    "nbins=int(round(1+3.3*log(N)))\n",
    "figure(figsize=(20,5))\n",
    "subplot(121);plot(x,'-o');grid();xlabel('index vzorku dat');ylabel(\"x\")\n",
    "subplot(122)"
   ]
  },
  {
   "cell_type": "markdown",
   "metadata": {},
   "source": [
    "First number is how much rows and second how much columns\n",
    "Third number is which graph is it - first, second etc."
   ]
  },
  {
   "cell_type": "code",
   "execution_count": null,
   "metadata": {},
   "outputs": [],
   "source": [
    "a=hist(x,nbins,normed=True) ;# pro vizualni posouzeni\n",
    "grid();ylabel(\"$\\\\approx f(x)$\");xlabel(\"x\")\n",
    "plt.tight_layout() # Pokud část jednoho překrývá druhý\n",
    "plt.subplots_adjust(top=0.88)# po tight_layoutu je potřeba název umístit výš\n",
    "subplots_adjust(wspace=.3) # Větší rozestupy mezi grafy"
   ]
  },
  {
   "cell_type": "markdown",
   "metadata": {},
   "source": [
    "### More plots with one legend"
   ]
  },
  {
   "cell_type": "code",
   "execution_count": null,
   "metadata": {},
   "outputs": [],
   "source": [
    "plt.figure(figsize=(12,7))\n",
    "plt.subplot(3, 1, 1)\n",
    "plt.plot(t, yy, label='Predikce'); plt.xlabel('t')\n",
    "plt.plot(t, data, label='Skutečnost'); plt.xlabel('t')\n",
    "plt.legend(loc=\"upper right\")\n",
    "plt.ylabel(\"u4 predikované\")"
   ]
  },
  {
   "cell_type": "markdown",
   "metadata": {},
   "source": [
    "### More plots with for cycle"
   ]
  },
  {
   "cell_type": "code",
   "execution_count": null,
   "metadata": {},
   "outputs": [],
   "source": [
    "for i in range(1,7):\n",
    "plt.subplot(3, 2, i)\n",
    "plt.plot(oknomean[i]);plt.grid(); plt.xlabel('t')\n",
    "plt.ylabel(\"u{}\".format(i))\n",
    "plt.suptitle(\"Klouzavý průměr okna\", fontsize=20)\n",
    "plt.tight_layout()\n",
    "plt.subplots_adjust(top=0.88)\n",
    "plt.show()"
   ]
  },
  {
   "cell_type": "markdown",
   "metadata": {},
   "source": [
    "### Scatterplot"
   ]
  },
  {
   "cell_type": "code",
   "execution_count": null,
   "metadata": {},
   "outputs": [],
   "source": [
    "import numpy as np\n",
    "import matplotlib.pyplot as plt\n",
    "N = 60\n",
    "g1 = (0.6 + 0.6 * np.random.rand(N), np.random.rand(N))\n",
    "g2 = (0.4+0.3 * np.random.rand(N), 0.5*np.random.rand(N))\n",
    "g3 = (0.3*np.random.rand(N),0.3*np.random.rand(N))\n",
    "data = (g1, g2, g3)\n",
    "colors = (\"red\", \"green\", \"blue\")\n",
    "groups = (\"coffee\", \"tea\", \"water\")\n",
    "fig = plt.figure()\n",
    "ax = fig.add_subplot(1, 1, 1, axisbg=\"1.0\")\n",
    "for data, color, group in zip(data, colors, groups):\n",
    "x, y = data\n",
    "ax.scatter(x, y, alpha=0.8, c=color, edgecolors='none', s=30, label=group)\n",
    "plt.title('Matplot scatter plot')\n",
    "plt.legend(loc=2)\n",
    "plt.show()"
   ]
  },
  {
   "cell_type": "markdown",
   "metadata": {},
   "source": [
    "### Text plot"
   ]
  },
  {
   "cell_type": "code",
   "execution_count": null,
   "metadata": {},
   "outputs": [],
   "source": [
    "import matplotlib.pyplot as plt\n",
    "fig = [plt.figure](https://matplotlib.org/api/_as_gen/matplotlib.pyplot.figure.html#matplotlib.pyplot.figure \"View documentation for matplotlib.pyplot.figure\")(figsize=(5, 1.5))\n",
    "\n",
    "text = fig.text(0.5, 0.5, 'Hello path effects world!\\nThis is the normal '\n",
    "    'path effect.\\nPretty dull, huh?',\n",
    "    ha='center', va='center', size=20)\n",
    "\n",
    "[plt.show](https://matplotlib.org/api/_as_gen/matplotlib.pyplot.show.html#matplotlib.pyplot.show \"View documentation for matplotlib.pyplot.show\")()"
   ]
  },
  {
   "cell_type": "markdown",
   "metadata": {},
   "source": [
    "## Table"
   ]
  },
  {
   "cell_type": "code",
   "execution_count": null,
   "metadata": {},
   "outputs": [],
   "source": [
    "from prettytable import PrettyTable\n",
    "x.field_names = [\"City name\", \"Area\", \"Population\", \"Annual Rainfall\"]\n",
    "x.add_row([\"Adelaide\", 1295, 1158259, 600.5])"
   ]
  },
  {
   "cell_type": "markdown",
   "metadata": {},
   "source": [
    "## Symbolic functions"
   ]
  },
  {
   "cell_type": "code",
   "execution_count": null,
   "metadata": {},
   "outputs": [],
   "source": [
    "import sympy as smp\n",
    "from sympy.plotting import plot as Plot\n",
    "z=smp.Symbol(\"z\")\n",
    "fz=1/smp.sqrt(2*smp.pi)*smp.exp(-(z**2/2))\n",
    "disp(\"f(z)=\",fz)\n",
    "Plot(fz)\n",
    "disp(\"F_{x\\_median}=\\int_{-\\infty}^{x_{median}=\"+str(mu)+\"}=\",smp.integrate(fz,(z,-oo,0)))\n",
    "disp(\" z_{modus}= 0 \\Leftrightarrow \\dfrac{d f(z)}{ dz} =0=\",smp.diff(fz,z))"
   ]
  },
  {
   "cell_type": "markdown",
   "metadata": {},
   "source": [
    "# Libraries\n",
    "## If pip cannot be installed by SSL errorr"
   ]
  },
  {
   "cell_type": "code",
   "execution_count": null,
   "metadata": {},
   "outputs": [],
   "source": [
    "pip install ipykernel --upgrade pip --trusted-host pypi.org"
   ]
  },
  {
   "cell_type": "markdown",
   "metadata": {},
   "source": [
    "# Jupyter"
   ]
  },
  {
   "cell_type": "code",
   "execution_count": null,
   "metadata": {},
   "outputs": [],
   "source": [
    "jupyter kernelspec list # Ukáže seznam kernelů\n",
    "jupyter kernelspec uninstall nazev # Odinstaluje kernel"
   ]
  },
  {
   "cell_type": "markdown",
   "metadata": {},
   "source": [
    "## Autoreload\n",
    "\n",
    "Load imported module everytime\n",
    "\n",
    "Reload all modules imported with %aimport every time before executing the Python code typed.\n",
    "\n",
    "%autoreload 1\n",
    "\n",
    "Reload all modules (except those excluded by %aimport) every time before executing the Python code typed.\n",
    "\n",
    "%autoreload 2\n",
    "\n",
    "Sometimes its necessary to import concrete modules\n",
    "\n",
    "%aimport modul1, modul2\n",
    "\n",
    "\n",
    "## Link\n",
    "\n",
    "‚''\n",
    "[Youtubeplaylist](<https://www.youtube.com/>)\n",
    "‚''\n",
    "\n",
    "## Image\n",
    "\n",
    "‚''\n",
    "<img src=\"img/Gini.png\" width=400>\n",
    "‚''\n",
    "\n",
    "## Youtube"
   ]
  },
  {
   "cell_type": "code",
   "execution_count": null,
   "metadata": {},
   "outputs": [],
   "source": [
    "from IPython.display import YouTubeVideo\n",
    "YouTubeVideo('7VeUPuFGJHk')"
   ]
  },
  {
   "cell_type": "markdown",
   "metadata": {},
   "source": [
    "## Show all images from folder"
   ]
  },
  {
   "cell_type": "code",
   "execution_count": null,
   "metadata": {},
   "outputs": [],
   "source": [
    "import os\n",
    "from IPython.display import display, Image\n",
    "names = [f for f in os.listdir('../images/ml_demonstrations/') if f.endswith('.png')]\n",
    "for name in names[:5]:\n",
    "display(Image('../images/ml_demonstrations/' + name, width=100))"
   ]
  },
  {
   "cell_type": "markdown",
   "metadata": {},
   "source": [
    "# Requests - API - GET, POST\n",
    "\n",
    "import getpass\n",
    "import requests\n",
    "username = input('Username: ')\n",
    "Username: hroncok\n",
    "password = getpass.getpass()\n",
    "Password: \n",
    "r = requests.get('https://api.github.com/user', auth=(username, password))\n",
    "r.status_code\n",
    "r.headers['content-type']  # 'application/json; charset=utf8'\n",
    "r.encoding  # 'utf-8'\n",
    "r.text  # '{\"login\":\"hroncok\"...'\n",
    "r.json()  # {'avatar_url': 'https://avatars.githubusercontent.com/u/2401856?v=3', ...}\n",
    "\n",
    "# Images, pictures"
   ]
  },
  {
   "cell_type": "code",
   "execution_count": null,
   "metadata": {},
   "outputs": [],
   "source": [
    "from PIL import Image\n",
    "from resizeimage import resizeimage"
   ]
  },
  {
   "cell_type": "markdown",
   "metadata": {},
   "source": [
    "## Show image"
   ]
  },
  {
   "cell_type": "code",
   "execution_count": null,
   "metadata": {},
   "outputs": [],
   "source": [
    "ax1.imshow(img)"
   ]
  },
  {
   "cell_type": "markdown",
   "metadata": {},
   "source": [
    "## Resize"
   ]
  },
  {
   "cell_type": "code",
   "execution_count": null,
   "metadata": {},
   "outputs": [],
   "source": [
    "img = Image.open(im)\n",
    "img = resizeimage.resize_contain(img, [100,100]) # nebo\n",
    "img = img.resize((1250,890),Image.ANTIALIAS) # antialias"
   ]
  },
  {
   "cell_type": "markdown",
   "metadata": {},
   "source": [
    "## Save"
   ]
  },
  {
   "cell_type": "code",
   "execution_count": null,
   "metadata": {},
   "outputs": [],
   "source": [
    "img.save(soubor[0]+'_resized_'+soubor, img.format)\n",
    "img.close()"
   ]
  },
  {
   "cell_type": "markdown",
   "metadata": {},
   "source": [
    "## Convert to black and white"
   ]
  },
  {
   "cell_type": "code",
   "execution_count": null,
   "metadata": {},
   "outputs": [],
   "source": [
    "img = img.convert('L') #Převede na černobílý"
   ]
  },
  {
   "cell_type": "markdown",
   "metadata": {},
   "source": [
    "## Convert image to matrix"
   ]
  },
  {
   "cell_type": "code",
   "execution_count": null,
   "metadata": {},
   "outputs": [],
   "source": [
    "img=np.array(img)"
   ]
  },
  {
   "cell_type": "markdown",
   "metadata": {},
   "source": [
    "# Mahematics, statistics, linear algebra\n",
    "\n",
    "## Square root\n",
    "\n",
    "y = 9**(1/2)  # 3\n",
    "\n",
    "## Random numbers in normal distribution"
   ]
  },
  {
   "cell_type": "code",
   "execution_count": null,
   "metadata": {},
   "outputs": [],
   "source": [
    "w = np.random.randn(3)"
   ]
  },
  {
   "cell_type": "markdown",
   "metadata": {},
   "source": [
    "## Random number everytime the same"
   ]
  },
  {
   "cell_type": "code",
   "execution_count": null,
   "metadata": {},
   "outputs": [],
   "source": [
    "np.random.seed(5)\n",
    "\n",
    "w = np.random.randn(3)  # [ 0.44122749 -0.33087015  2.43077119]\n",
    "w = np.random.randn(3)  # [ 0.44122749 -0.33087015  2.43077119]"
   ]
  },
  {
   "cell_type": "markdown",
   "metadata": {},
   "source": [
    "## Random numbers in normal distribution matrix shape"
   ]
  },
  {
   "cell_type": "code",
   "execution_count": null,
   "metadata": {},
   "outputs": [],
   "source": [
    "s = np.random.normal(mu, sigma, 1000)\n",
    "numpy.random.randn(3, 4) #[ 1.33262386 -0.88922967 -0.07056098]\n",
    "\n",
    "    #    [[ 1.33262386 -0.88922967 -0.07056098 0.27340112]\n",
    "    #     [ 1.00664965 -0.68443807 0.43801295 -0.35874714]\n",
    "    #     [ -0.19289416 -0.42746963 -1.80435223 0.02751727]]"
   ]
  },
  {
   "cell_type": "markdown",
   "metadata": {},
   "source": [
    "## Eigen values"
   ]
  },
  {
   "cell_type": "code",
   "execution_count": null,
   "metadata": {},
   "outputs": [],
   "source": [
    "np.linalg.eig(mat)"
   ]
  },
  {
   "cell_type": "markdown",
   "metadata": {},
   "source": [
    "## Inverse matrix"
   ]
  },
  {
   "cell_type": "code",
   "execution_count": null,
   "metadata": {},
   "outputs": [],
   "source": [
    "np.linalg.inv(mat)"
   ]
  },
  {
   "cell_type": "markdown",
   "metadata": {},
   "source": [
    "## Determinant"
   ]
  },
  {
   "cell_type": "code",
   "execution_count": null,
   "metadata": {},
   "outputs": [],
   "source": [
    "np.linalg.det(mat)"
   ]
  },
  {
   "cell_type": "markdown",
   "metadata": {},
   "source": [
    "## Ones matrix"
   ]
  },
  {
   "cell_type": "code",
   "execution_count": null,
   "metadata": {},
   "outputs": [],
   "source": [
    "np.ones([[3,3]])"
   ]
  },
  {
   "cell_type": "markdown",
   "metadata": {},
   "source": [
    "## Matrix transpozition"
   ]
  },
  {
   "cell_type": "code",
   "execution_count": null,
   "metadata": {},
   "outputs": [],
   "source": [
    "A.T"
   ]
  },
  {
   "cell_type": "markdown",
   "metadata": {},
   "source": [
    "## Points generation"
   ]
  },
  {
   "cell_type": "code",
   "execution_count": null,
   "metadata": {},
   "outputs": [],
   "source": [
    "t = np.linspace(0,20,1000)  # Generate numbers with the same interval (beginning, end, number)\n",
    "\n",
    "t = np.arange(start, stop, step)\n",
    "t = np.arange(3)  # 0, 1, 2"
   ]
  },
  {
   "cell_type": "markdown",
   "metadata": {},
   "source": [
    "## Mean"
   ]
  },
  {
   "cell_type": "code",
   "execution_count": null,
   "metadata": {},
   "outputs": [],
   "source": [
    "np.mean(data)"
   ]
  },
  {
   "cell_type": "markdown",
   "metadata": {},
   "source": [
    "## Standard deviation"
   ]
  },
  {
   "cell_type": "code",
   "execution_count": null,
   "metadata": {},
   "outputs": [],
   "source": [
    "np.std(data)"
   ]
  },
  {
   "cell_type": "markdown",
   "metadata": {},
   "source": [
    "Or"
   ]
  },
  {
   "cell_type": "code",
   "execution_count": null,
   "metadata": {},
   "outputs": [],
   "source": [
    "from statistics import stdev\n",
    "sample = [1, 2, 3, 4, 5]\n",
    "std = statistics.stdev(sample)"
   ]
  },
  {
   "cell_type": "markdown",
   "metadata": {},
   "source": [
    "## Add shape - matrix dimensions (rows, columns etc.)"
   ]
  },
  {
   "cell_type": "code",
   "execution_count": null,
   "metadata": {},
   "outputs": [],
   "source": [
    "y.shape"
   ]
  },
  {
   "cell_type": "markdown",
   "metadata": {},
   "source": [
    "## Number of members - count"
   ]
  },
  {
   "cell_type": "code",
   "execution_count": null,
   "metadata": {},
   "outputs": [],
   "source": [
    "y.size"
   ]
  },
  {
   "cell_type": "markdown",
   "metadata": {},
   "source": [
    "## Bins"
   ]
  },
  {
   "cell_type": "code",
   "execution_count": null,
   "metadata": {},
   "outputs": [],
   "source": [
    "binss = numpy.histogram(data, bins)  # binss[0] hodnoty binss[1]"
   ]
  },
  {
   "cell_type": "markdown",
   "metadata": {},
   "source": [
    "## Cumulative sum"
   ]
  },
  {
   "cell_type": "code",
   "execution_count": null,
   "metadata": {},
   "outputs": [],
   "source": [
    "y = np.cumsum(x)"
   ]
  },
  {
   "cell_type": "markdown",
   "metadata": {},
   "source": [
    "## Derivation"
   ]
  },
  {
   "cell_type": "code",
   "execution_count": null,
   "metadata": {},
   "outputs": [],
   "source": [
    "z = np.diff(y)                      "
   ]
  },
  {
   "cell_type": "markdown",
   "metadata": {},
   "source": [
    "## Latex dislay"
   ]
  },
  {
   "cell_type": "code",
   "execution_count": null,
   "metadata": {},
   "outputs": [],
   "source": [
    "from IPython.display import display, Math, Latex\n",
    "display(Math(r'F(k) = \\int_{-\\infty}^{\\infty} f(x) e^{2\\pi i k} dx'))"
   ]
  },
  {
   "cell_type": "markdown",
   "metadata": {},
   "source": [
    "## Symbolic python - sympy\n",
    "\n",
    "### Substitute\n",
    "\n",
    "  expr = cos(x)\n",
    "  expr.subs(x, 0)  # 1\n",
    "\n",
    "### Simplify\n",
    "\n",
    "  str_expr = \"x**2 + 3*x - 1/2\"\n",
    "  expr = sympify(str_expr)\n",
    "\n",
    "### Evaluate\n",
    "\n",
    "  expr = sqrt(8)\n",
    "  expr.evalf()  # 2.82842712474619\n",
    "\n",
    "### Lambdify"
   ]
  },
  {
   "cell_type": "code",
   "execution_count": null,
   "metadata": {},
   "outputs": [],
   "source": [
    "import numpy\n",
    "a = numpy.arange(10) # doctest:+SKIP\n",
    "expr = sin(x)\n",
    "f = lambdify(x, expr, \"numpy\") # doctest:+SKIP\n",
    "f(a) # doctest:+SKIP\n",
    "    # [ 0.          0.84147098  0.90929743  0.14112001 -0.7568025  -0.95892427\n",
    "     -0.2794155   0.6569866   0.98935825  0.41211849]"
   ]
  },
  {
   "cell_type": "markdown",
   "metadata": {},
   "source": [
    "## Integration\n",
    "\n",
    "### Unbounded integral\n",
    "\n",
    "For some functions with we need to load from SymPy exp(). Otherwise use numpy functions."
   ]
  },
  {
   "cell_type": "code",
   "execution_count": null,
   "metadata": {},
   "outputs": [],
   "source": [
    "import sympy as smp\n",
    "from sympy import exp as e\n",
    "x=smp.Symbol(\"x\")\n",
    "f=e(-x)\n",
    "disp(\"f=\",f)\n",
    "intf=smp.integrate(f)\n",
    "disp(\"\\int \" + dfrac(f)+\"dx=\",intf) # po \\int musim byt mezera"
   ]
  },
  {
   "cell_type": "markdown",
   "metadata": {},
   "source": [
    "### Bounded integral"
   ]
  },
  {
   "cell_type": "code",
   "execution_count": null,
   "metadata": {},
   "outputs": [],
   "source": [
    "intf=smp.integrate(f,(x,0,1))\n",
    "disp(\"\\int_0^1\" + dfrac(f)+\" dx=\",intf.evalf())"
   ]
  },
  {
   "cell_type": "markdown",
   "metadata": {},
   "source": [
    "## Round"
   ]
  },
  {
   "cell_type": "code",
   "execution_count": null,
   "metadata": {},
   "outputs": [],
   "source": [
    "x = round(5.76543, 2)"
   ]
  },
  {
   "cell_type": "markdown",
   "metadata": {},
   "source": [
    "## Modulo"
   ]
  },
  {
   "cell_type": "code",
   "execution_count": null,
   "metadata": {},
   "outputs": [],
   "source": [
    "7 % 3 # => 1"
   ]
  },
  {
   "cell_type": "markdown",
   "metadata": {},
   "source": [
    "## Power (x on y)"
   ]
  },
  {
   "cell_type": "code",
   "execution_count": null,
   "metadata": {},
   "outputs": [],
   "source": [
    "2**4 # => 16"
   ]
  },
  {
   "cell_type": "markdown",
   "metadata": {},
   "source": [
    "## Describe - Statistical values of list"
   ]
  },
  {
   "cell_type": "code",
   "execution_count": null,
   "metadata": {},
   "outputs": [],
   "source": [
    "List.describe()"
   ]
  },
  {
   "cell_type": "markdown",
   "metadata": {},
   "source": [
    "## Statistical values of array"
   ]
  },
  {
   "cell_type": "code",
   "execution_count": null,
   "metadata": {},
   "outputs": [],
   "source": [
    "from scipy import stats\n",
    "print(stats.describe(data[1]))\n",
    "## Correlation"
   ]
  },
  {
   "cell_type": "markdown",
   "metadata": {},
   "source": [
    "### Correlation matrix - values"
   ]
  },
  {
   "cell_type": "code",
   "execution_count": null,
   "metadata": {},
   "outputs": [],
   "source": [
    "x = dat.corr()"
   ]
  },
  {
   "cell_type": "markdown",
   "metadata": {},
   "source": [
    "### Correlation matrix - plot"
   ]
  },
  {
   "cell_type": "code",
   "execution_count": null,
   "metadata": {},
   "outputs": [],
   "source": [
    "scatter_matrix(dat, figsize=(16,12), alpha=0.3)\n",
    "plt.show()"
   ]
  },
  {
   "cell_type": "markdown",
   "metadata": {},
   "source": [
    "### Correlation (Pearson corr. matrix)"
   ]
  },
  {
   "cell_type": "code",
   "execution_count": null,
   "metadata": {},
   "outputs": [],
   "source": [
    "scoreTable = dat.corr(method='pearson')\n",
    "dat.corr(method='pearson').style.format(\"{:.2}\").background_gradient(cmap=plt.get_cmap('coolwarm'), axis=1)"
   ]
  },
  {
   "cell_type": "markdown",
   "metadata": {},
   "source": [
    "### Correlation coefficent"
   ]
  },
  {
   "cell_type": "code",
   "execution_count": null,
   "metadata": {},
   "outputs": [],
   "source": [
    "np.corrcoef(data, data_n)"
   ]
  },
  {
   "cell_type": "markdown",
   "metadata": {},
   "source": [
    "## Test of normal distribution"
   ]
  },
  {
   "cell_type": "code",
   "execution_count": null,
   "metadata": {},
   "outputs": [],
   "source": [
    "from statsmodels.stats.stattools import jarque_bera\n",
    "score, pvalue, _, _ = jarque_bera(mdl.resid)\n",
    "if pvalue < 0.10:\n",
    "    print 'We have reason to suspect the residuals are not normally distributed.'\n",
    "else:\n",
    "    print 'The residuals seem normally distributed.'"
   ]
  },
  {
   "cell_type": "markdown",
   "metadata": {},
   "source": [
    "# Machine learning\n",
    "\n",
    "### Standardization: mean = 0 and std = 1"
   ]
  },
  {
   "cell_type": "code",
   "execution_count": null,
   "metadata": {},
   "outputs": [],
   "source": [
    "from sklearn import preprocessing\n",
    "clustervar['ALCEVR1']=preprocessing.scale(clustervar['ALCEVR1'].astype('float64'))"
   ]
  },
  {
   "cell_type": "markdown",
   "metadata": {},
   "source": [
    "Or"
   ]
  },
  {
   "cell_type": "code",
   "execution_count": null,
   "metadata": {},
   "outputs": [],
   "source": [
    "names = dat.columns\n",
    "scaler = preprocessing.StandardScaler()\n",
    "scaled = scaler.fit_transform(datastand.T)\n",
    "scaled = pd.DataFrame(scaled, columns=names)\n",
    "scaledvalT = scaled.values\n",
    "scaledval = scaledvalT.T"
   ]
  },
  {
   "cell_type": "markdown",
   "metadata": {},
   "source": [
    "Or"
   ]
  },
  {
   "cell_type": "code",
   "execution_count": null,
   "metadata": {},
   "outputs": [],
   "source": [
    "normalized_X = preprocessing.normalize([x_array])"
   ]
  },
  {
   "cell_type": "markdown",
   "metadata": {},
   "source": [
    "Denormalization"
   ]
  },
  {
   "cell_type": "code",
   "execution_count": null,
   "metadata": {},
   "outputs": [],
   "source": [
    "ach = scaler.inverse_transform(scaled)"
   ]
  },
  {
   "cell_type": "markdown",
   "metadata": {},
   "source": [
    "### Normalization (-1,1)"
   ]
  },
  {
   "cell_type": "code",
   "execution_count": null,
   "metadata": {},
   "outputs": [],
   "source": [
    "datat = data.reshape(-1, 1) # občas je per = preprocessing.MinMaxScaler(feature_range=(-1, 1))\n",
    "rescaledXT = scaler.fit_transform(datastand)"
   ]
  },
  {
   "cell_type": "markdown",
   "metadata": {},
   "source": [
    "# Signal processig and controll\n",
    "\n",
    "# Miscellaneous\n",
    "\n",
    "## Function for change relative path\n",
    "\n",
    "import os\n",
    "\n",
    "try:\n",
    "    os.chdir(os.path.join(os.getcwd(), '..\\..\\..\\relcesta'))\n",
    "    print(os.getcwd())\n",
    "\n",
    "except:\n",
    "    pass\n",
    "\n",
    "## Measure time"
   ]
  },
  {
   "cell_type": "code",
   "execution_count": null,
   "metadata": {},
   "outputs": [],
   "source": [
    "import timeit\n",
    "timeit.timeit(moje funkce)"
   ]
  },
  {
   "cell_type": "markdown",
   "metadata": {},
   "source": [
    "### Measure time of function with inputs"
   ]
  },
  {
   "cell_type": "code",
   "execution_count": null,
   "metadata": {},
   "outputs": [],
   "source": [
    "import timeit, functools\n",
    "t = timeit.Timer(functools.partial(autoregLNU, trainall[0]))\n",
    "print (t.timeit(20))"
   ]
  },
  {
   "cell_type": "markdown",
   "metadata": {},
   "source": [
    "### Measure time on multiline"
   ]
  },
  {
   "cell_type": "code",
   "execution_count": null,
   "metadata": {},
   "outputs": [],
   "source": [
    "t = timeit.Timer(''' ‚''\n",
    "from models import ar, autoregLNU\n",
    "from data_prep import split\n",
    "import numpy as np\n",
    "‚'' ''', 'gc.enable()')\n",
    "print(t.timeit(3))  # 3 - measure three times"
   ]
  },
  {
   "cell_type": "markdown",
   "metadata": {},
   "source": [
    "### Measure between two lines"
   ]
  },
  {
   "cell_type": "code",
   "execution_count": null,
   "metadata": {},
   "outputs": [],
   "source": [
    "import time\n",
    "start = time.time()\n",
    "print(\"hello\")\n",
    "end = time.time()\n",
    "print(end - start)"
   ]
  },
  {
   "cell_type": "markdown",
   "metadata": {},
   "source": [
    "## Show bytcode"
   ]
  },
  {
   "cell_type": "code",
   "execution_count": null,
   "metadata": {},
   "outputs": [],
   "source": [
    "import dis\n",
    "dis.dis(\"dict()\")\n",
    "\n",
    "import numpy as np...\n",
    "#        1           0 LOAD_NAME                0 (dict)\n",
    "#              2 CALL_FUNCTION            0\n",
    "#              4 RETURN_VALUE"
   ]
  },
  {
   "cell_type": "markdown",
   "metadata": {},
   "source": [
    "## The \\__call__ method (Allow input of object to function)\n",
    "\n",
    "The \\__call__ method can be used to turn the instances of the class into callables. Functions are callable objects. A callable object is an object which can be used and behaves like a function but might not be a function. By using the \\__call__ method it is possible to define classes in a way that the instances will be callable objects. The \\__call__ method is called, if the instance is called \"like a function\", i.e. using brackets. The following example defines a class with which we can create abitrary polynomial functions:"
   ]
  },
  {
   "cell_type": "code",
   "execution_count": null,
   "metadata": {},
   "outputs": [],
   "source": [
    "class Polynomial:\n",
    "\n",
    "    def __init__(self, *coefficients):\n",
    "\n",
    "        self.coefficients = coefficients[::-1]\n",
    "\n",
    "    def __call__(self, x):\n",
    "\n",
    "res = 0\n",
    "\n",
    "for index, coeff in enumerate(self.coefficients):\n",
    "\n",
    "    res += coeff * x** index\n",
    "\n",
    "    return res\n",
    "\n",
    "p1 = Polynomial(42)\n",
    "p2 = Polynomial(0.75, 2)\n",
    "p3 = Polynomial(1, -0.5, 0.75, 2)\n",
    "\n",
    "for i in range(1, 10):\n",
    "    print(i, p1(i), p2(i), p3(i))\n",
    "\n",
    "These are the results of the previous function:\n",
    "\n",
    "1 42 2.75 3.25\n",
    "2 42 3.5 9.5\n",
    "3 42 4.25 26.75\n",
    "4 42 5.0 61.0\n",
    "5 42 5.75 118.25\n",
    "6 42 6.5 204.5\n",
    "7 42 7.25 325.75\n",
    "8 42 8.0 488.0\n",
    "9 42 8.75 697.25"
   ]
  },
  {
   "cell_type": "markdown",
   "metadata": {},
   "source": [
    "Magic methods (For example for change of + behaviour)\n",
    "What happens when we create an object in python class ?"
   ]
  },
  {
   "cell_type": "code",
   "execution_count": null,
   "metadata": {},
   "outputs": [],
   "source": [
    "class  Address(object):\n",
    "\n",
    "    def __init__(self, city, pin):\n",
    "        self.city = city\n",
    "        self.pin = pin"
   ]
  },
  {
   "cell_type": "markdown",
   "metadata": {},
   "source": [
    "Creating instance of the object\n",
    "\n",
    "a =  Address(\"hyderabad\",  \"500082\")\n",
    "\n",
    "before creating the instance of the class '__new__' method will be called. This method takes  parameter \"class\", \"args\", \"kwargs\" and  It will bind the *data type* to given class. After it will call the **\"__init__\"** method with arguments and keyword arguments."
   ]
  },
  {
   "cell_type": "code",
   "execution_count": null,
   "metadata": {},
   "outputs": [],
   "source": [
    "a =  Address.__new__(Address)\n",
    "type(a)\n",
    "\n",
    "__main__.Address\n",
    "a.city\n",
    "\n",
    "# AttributeError:  'Address'  object has no attribute 'city'"
   ]
  },
  {
   "cell_type": "markdown",
   "metadata": {},
   "source": [
    "Object created but not initialised that's the reason we get error"
   ]
  },
  {
   "cell_type": "code",
   "execution_count": null,
   "metadata": {},
   "outputs": [],
   "source": [
    "a.__init__(\"hyderabad\",  \"500082\")"
   ]
  },
  {
   "cell_type": "markdown",
   "metadata": {},
   "source": [
    "Now we can access the attributes"
   ]
  },
  {
   "cell_type": "code",
   "execution_count": null,
   "metadata": {},
   "outputs": [],
   "source": [
    "a.city"
   ]
  },
  {
   "cell_type": "markdown",
   "metadata": {},
   "source": [
    "We can cosider bilt-in methods of an object as magic methods. We can also override the built-in methods functionality.\n",
    "\n",
    "List of magic methods:\n",
    "Binary Operators"
   ]
  },
  {
   "cell_type": "code",
   "execution_count": null,
   "metadata": {},
   "outputs": [],
   "source": [
    "Operator           Method\\\n",
    "+                       object.__add__(self, other)\\\n",
    "-                        object.__sub__(self, other)\\\n",
    "*                        object.__mul__(self, other)\\\n",
    "//                       object.__floordiv__(self, other)\\\n",
    "/                        object.__div__(self, other)\\\n",
    "%                      object.__mod__(self, other)\\\n",
    "**                      object.__pow__(self, other[, modulo])\\\n",
    "<<                     object.__lshift__(self, other)\\\n",
    ">>                     object.__rshift__(self, other)\\\n",
    "&                       object.__and__(self, other)\\\n",
    "^                       object.__xor__(self, other)\\\n",
    "|                        object.__or__(self, other)"
   ]
  },
  {
   "cell_type": "markdown",
   "metadata": {},
   "source": [
    "Assignment Operators:"
   ]
  },
  {
   "cell_type": "code",
   "execution_count": null,
   "metadata": {},
   "outputs": [],
   "source": [
    "Operator          Method\\\n",
    "+=                     object.__iadd__(self, other)\\\n",
    "-=                      object.__isub__(self, other)\\\n",
    "*=                      object.__imul__(self, other)\\\n",
    "/=                      object.__idiv__(self, other)\\\n",
    "//=                     object.__ifloordiv__(self, other)\\\n",
    "%=                    object.__imod__(self, other)\\\n",
    "**=                     object.__ipow__(self, other[, modulo])\\\n",
    "<<=                   object.__ilshift__(self, other)\\\n",
    ">>=                   object.__irshift__(self, other)\\\n",
    "&=                     object.__iand__(self, other)\\\n",
    "^=                      object.__ixor__(self, other)\\\n",
    "|=                      object.__ior__(self, other)"
   ]
  },
  {
   "cell_type": "markdown",
   "metadata": {},
   "source": [
    "Unary Operators:"
   ]
  },
  {
   "cell_type": "code",
   "execution_count": null,
   "metadata": {},
   "outputs": [],
   "source": [
    "Operator          Method\\\n",
    "-                       object.__neg__(self)\\\n",
    "+                      object.__pos__(self)\\\n",
    "abs()                object.__abs__(self)\\\n",
    "~                      object.__invert__(self)\\\n",
    "complex()        object.__complex__(self)\\\n",
    "int()                  object.__int__(self)\\\n",
    "long()               object.__long__(self)\\\n",
    "float()               object.__float__(self)\\\n",
    "oct()                object.__oct__(self)\\\n",
    "hex()               object.__hex__(self)"
   ]
  },
  {
   "cell_type": "markdown",
   "metadata": {},
   "source": [
    "Comparison Operators"
   ]
  },
  {
   "cell_type": "code",
   "execution_count": null,
   "metadata": {},
   "outputs": [],
   "source": [
    "Operator Method\\\n",
    "<                      object.__lt__(self, other)\\\n",
    "<=                    object.__le__(self, other)\\\n",
    "==                    object.__eq__(self, other)\\\n",
    "!=                     object.__ne__(self, other)\\\n",
    ">=                    object.__ge__(self, other)\\\n",
    ">                      object.__gt__(self, other)"
   ]
  },
  {
   "cell_type": "markdown",
   "metadata": {},
   "source": [
    "Let's take an example to override the functionality \"+\" '[__add__]' operator"
   ]
  },
  {
   "cell_type": "code",
   "execution_count": null,
   "metadata": {},
   "outputs": [],
   "source": [
    "class  Vector(object):\n",
    "def __init__(self,  *args):\n",
    "\"\"\" Create a vector, example: v = Vector(1,2) \"\"\"\n",
    "if len(args)  ==  0:\n",
    "self.values =  (0,0)\n",
    "else:\n",
    "self.values = args\n",
    "def __add__(self, other):\n",
    "\"\"\" Returns the vector addition of self and other \"\"\"\n",
    "added = tuple(a + b for a, b in zip(self.values, other.values)  )\n",
    "return  Vector(*added)"
   ]
  },
  {
   "cell_type": "markdown",
   "metadata": {},
   "source": [
    "Now use the \"+\" operator with two vectors"
   ]
  },
  {
   "cell_type": "code",
   "execution_count": null,
   "metadata": {},
   "outputs": [],
   "source": [
    "v1 =  Vector(1,  2)\n",
    "v2 =  Vector(10,  13)\n",
    "v3 = v1 + v2\n",
    "v3.values  # (11,  15)"
   ]
  },
  {
   "cell_type": "markdown",
   "metadata": {},
   "source": [
    "When statement \"v3 = v1 + v2 \" executes \"__add__\" is called and it returns a new Vector object.\n",
    "\n",
    "\n",
    "# Performance\n",
    "\n",
    "## Type hinting"
   ]
  },
  {
   "cell_type": "code",
   "execution_count": null,
   "metadata": {},
   "outputs": [],
   "source": [
    "def sentence_has_animal(sentence: str) -> bool:\n",
    "  return \"animal\" in sentence\n",
    "sentence_has_animal(\"Donald had a farm without animals\")\n",
    "# True"
   ]
  },
  {
   "cell_type": "markdown",
   "metadata": {},
   "source": [
    "## Numba\n",
    "    from numba import njit\n",
    "\n",
    "\n",
    "Works on all functions"
   ]
  },
  {
   "cell_type": "code",
   "execution_count": null,
   "metadata": {},
   "outputs": [],
   "source": [
    "@njit()\n",
    "def func():  # atd..."
   ]
  },
  {
   "cell_type": "markdown",
   "metadata": {},
   "source": [
    "Or"
   ]
  },
  {
   "cell_type": "code",
   "execution_count": null,
   "metadata": {},
   "outputs": [],
   "source": [
    "hypot = jit(fce)"
   ]
  },
  {
   "cell_type": "markdown",
   "metadata": {},
   "source": [
    "Or"
   ]
  },
  {
   "cell_type": "code",
   "execution_count": null,
   "metadata": {},
   "outputs": [],
   "source": [
    "@vectorize\n",
    "def function(a, b):"
   ]
  },
  {
   "cell_type": "markdown",
   "metadata": {},
   "source": [
    "Or direct data formats"
   ]
  },
  {
   "cell_type": "code",
   "execution_count": null,
   "metadata": {},
   "outputs": [],
   "source": [
    "@jit(int32(int32, int32))\n",
    "def function(a, b):"
   ]
  },
  {
   "cell_type": "markdown",
   "metadata": {},
   "source": [
    "### Cuda in Numba"
   ]
  },
  {
   "cell_type": "code",
   "execution_count": null,
   "metadata": {},
   "outputs": [],
   "source": [
    "from numba import cuda\n",
    "@cuda.jit(device=True)\n",
    "def function(a, b):"
   ]
  },
  {
   "cell_type": "markdown",
   "metadata": {},
   "source": [
    "## Dask"
   ]
  },
  {
   "cell_type": "code",
   "execution_count": null,
   "metadata": {},
   "outputs": [],
   "source": [
    "@delay\n",
    "def sq(x):\n",
    "    return x**2# Now you can use these functions any way you want, Dask will \n",
    "result.compute()"
   ]
  },
  {
   "cell_type": "markdown",
   "metadata": {},
   "source": [
    "### Dask formats"
   ]
  },
  {
   "cell_type": "code",
   "execution_count": null,
   "metadata": {},
   "outputs": [],
   "source": [
    "import dask.array as da  # Arrays implement the Numpy API\n",
    "x = da.random.random(size=(10000, 10000),\n",
    "                    chunks=(1000, 1000))\n",
    "x + x.T - x.mean(axis=0)\n",
    "\n",
    "import dask.dataframe as dd  # Dataframes implement the Pandas API\n",
    "df = dd.read_csv('s3://.../2018-*-*.csv')\n",
    "df.groupby(df.account_id).balance.sum()\n",
    "\n",
    "from dask_ml.linear_model import LogisticRegression  # Dask-ML implements the Scikit-Learn API\n",
    "lr = LogisticRegression()\n",
    "lr.fit(train, test)"
   ]
  },
  {
   "cell_type": "markdown",
   "metadata": {},
   "source": [
    "## Show task structure"
   ]
  },
  {
   "cell_type": "code",
   "execution_count": null,
   "metadata": {},
   "outputs": [],
   "source": [
    ".visualize()"
   ]
  },
  {
   "cell_type": "markdown",
   "metadata": {},
   "source": [
    "## Force to empty memory"
   ]
  },
  {
   "cell_type": "code",
   "execution_count": null,
   "metadata": {},
   "outputs": [],
   "source": [
    "import gc\n",
    "gc.collect()"
   ]
  },
  {
   "cell_type": "markdown",
   "metadata": {},
   "source": [
    "## Max execution time python"
   ]
  },
  {
   "cell_type": "code",
   "execution_count": null,
   "metadata": {},
   "outputs": [],
   "source": [
    "def watchdog(timeout, code, *args, **kwargs):\n",
    "    \"Time-limited execution.\"\n",
    "    def tracer(frame, event, arg, start=time.time()):\n",
    "        \"Helper.\"\n",
    "        now = time.time()\n",
    "        if now > start + timeout:\n",
    "            raise WatchdogTimeoutError(start, now)\n",
    "        return tracer if event == \"call\" else None\n",
    "\n",
    "    old_tracer = sys.gettrace()\n",
    "    try:\n",
    "        sys.settrace(tracer)\n",
    "        code(*args, **kwargs)\n",
    "    finally:\n",
    "        sys.settrace(old_tracer)\n",
    "\n",
    "watchdog(5, func, 0.1)# za 0.1 doplnit *args **kwargs"
   ]
  },
  {
   "cell_type": "markdown",
   "metadata": {},
   "source": [
    "Or"
   ]
  },
  {
   "cell_type": "code",
   "execution_count": null,
   "metadata": {},
   "outputs": [],
   "source": [
    "from contextlib import contextmanager\n",
    "import threading\n",
    "import _thread\n",
    "\n",
    "class TimeoutException(Exception):\n",
    "    def __init__(self, msg=''):\n",
    "        self.msg = msg\n",
    "\n",
    "@contextmanager\n",
    "def time_limit(seconds, msg=''):\n",
    "    timer = threading.Timer(seconds, lambda: _thread.interrupt_main())\n",
    "    timer.start()\n",
    "    try:\n",
    "        yield\n",
    "    except KeyboardInterrupt:\n",
    "        raise TimeoutException(\"Timed out for operation {}\".format(msg))\n",
    "    finally:\n",
    "        # if the action ends in specified time, timer is canceled\n",
    "        timer.cancel()\n",
    "\n",
    "import time\n",
    "with time_limit(5, 'slee'):\n",
    "    time.sleep(10)"
   ]
  },
  {
   "cell_type": "markdown",
   "metadata": {},
   "source": [
    "## Profiling"
   ]
  },
  {
   "cell_type": "code",
   "execution_count": null,
   "metadata": {},
   "outputs": [],
   "source": [
    "import cProfile\n",
    "print(cProfile.run(‘whatever statements you want to run’))"
   ]
  },
  {
   "cell_type": "markdown",
   "metadata": {},
   "source": [
    "I would suggest putting your statements in a function, so that this call can be like"
   ]
  },
  {
   "cell_type": "code",
   "execution_count": null,
   "metadata": {},
   "outputs": [],
   "source": [
    "print(cProfile.run(‘your_function(input)’))"
   ]
  },
  {
   "cell_type": "markdown",
   "metadata": {},
   "source": [
    "# Whole sections\n",
    "\n",
    "## Encoding JSON with Python\n",
    "\n",
    "Python comes pre-equipped wi\n",
    "th a JSON encoder and decoder to make it very simple to play nice with JSON in your applications\n",
    "\n",
    "The simplest way to encode JSON is with a dictionary. This basic dictionary holds random values of various datatypes.\n",
    "\n",
    "data =  {\n",
    "            a:  0,\n",
    "            b:  9.6,\n",
    "            c:  \"Hello World\",\n",
    "            d:  {\n",
    "                    a:  4\n",
    "            }\n",
    "}\n",
    "\n",
    "We then use json.dumps() to convert the dictionary to a JSON object."
   ]
  },
  {
   "cell_type": "code",
   "execution_count": null,
   "metadata": {},
   "outputs": [],
   "source": [
    "import json\n",
    "json_data = json.dumps(data)\n",
    "print(json_data)  # {\"c\":  \"Hello World\",  \"b\":  9.6,  \"d\":  {\"e\":  [89,  90]},  \"a\":  0}"
   ]
  },
  {
   "cell_type": "markdown",
   "metadata": {},
   "source": [
    "Notice how the keys are not sorted by default, you would have to add the sort_keys=True argument to json.dumps() like so.\n",
    "\n",
    "\n",
    "json_data = json.dumps(data, sort_keys=True)\n",
    "\n",
    "print(json_data)  # {\"a\":  0,  \"b\":  9.6,  \"c\":  \"Hello World\",  \"d\":  {\"e\":  [89,  90]}}\n",
    "\n",
    "# Pypi export / create own library\n",
    "\n",
    "Put on github, add licence, create release. In computer create setup.py"
   ]
  },
  {
   "cell_type": "code",
   "execution_count": null,
   "metadata": {},
   "outputs": [],
   "source": [
    "from setuptools import setup, find_packages\n",
    "import io\n",
    "import os\n",
    "import sys\n",
    "\n",
    "here = os.path.abspath(os.path.dirname(__file__))\n",
    "\n",
    "def read(*filenames, **kwargs):\n",
    "    encoding = kwargs.get('encoding', 'utf-8')\n",
    "    sep = kwargs.get('sep', '\\n')\n",
    "    buf = []\n",
    "    for filename in filenames:\n",
    "        with io.open(filename, encoding=encoding) as f:\n",
    "            buf.append(f.read())\n",
    "    return sep.join(buf)\n",
    "\n",
    "long_description = read('README.md')\n",
    "\n",
    "setup(\n",
    "    name='predictit',\n",
    "    version='0.2',\n",
    "    url='https://github.com/Malachov/predictit',\n",
    "    download_url='https://github.com/Malachov/predictit/archive/0.11.tar.gz',\n",
    "    license='mit',\n",
    "    author='Daniel Malachov',\n",
    "    install_requires=[\n",
    "            'SQLAlchemy',\n",
    "            'pandas',\n",
    "            'pyodbc',\n",
    "            'Keras',\n",
    "            'sklearn_extensions',\n",
    "            'tensorflow',\n",
    "            'prettytable',\n",
    "            'matplotlib',\n",
    "            'plotly',\n",
    "            'cufflinks',\n",
    "            'numpy',\n",
    "            'scipy',\n",
    "            'seaborn',\n",
    "            'statsmodels',\n",
    "            'scikit_learn'\n",
    "    ],\n",
    "    author_email='malachovd@seznam.cz',\n",
    "    description='Library/framework for making predictions.',\n",
    "    long_description=' Automatically choose best of 20 models (ARIMA, regressions, LSTM...). Preprocess data and chose optimal parameters of predictions.',\n",
    "    packages=find_packages(),\n",
    "    include_package_data=True,\n",
    "    platforms='any',\n",
    "    classifiers = [\n",
    "        'Programming Language :: Python',\n",
    "        'Development Status :: 2 - Pre-Alpha',\n",
    "        'Natural Language :: English',\n",
    "        'Environment :: Other Environment',\n",
    "        'Intended Audience :: Developers',\n",
    "        'License :: OSI Approved :: MIT License',\n",
    "        'Operating System :: OS Independent',\n",
    "        'Topic :: Software Development :: Libraries :: Python Modules',\n",
    "        'Topic :: Software Development :: Libraries :: Application Frameworks',\n",
    "        ],\n",
    "    extras_require={\n",
    "    }\n",
    ")"
   ]
  },
  {
   "cell_type": "markdown",
   "metadata": {},
   "source": [
    "Next create setup.cfg\n",
    "\n",
    "# Inside of setup.cfg"
   ]
  },
  {
   "cell_type": "code",
   "execution_count": null,
   "metadata": {},
   "outputs": [],
   "source": [
    "[metadata]\n",
    "description-file = README.md\n",
    "\n",
    "[bdist_wheel]  # Dal pro wheels knihovnu\n",
    "universal = 1\n",
    "\n",
    "[metadata]\n",
    "license_file = LICENSE"
   ]
  },
  {
   "cell_type": "markdown",
   "metadata": {},
   "source": [
    "Load folder in cmd"
   ]
  },
  {
   "cell_type": "code",
   "execution_count": null,
   "metadata": {},
   "outputs": [],
   "source": [
    "python setup.py sdist"
   ]
  },
  {
   "cell_type": "markdown",
   "metadata": {},
   "source": [
    "If you use wheel - better"
   ]
  },
  {
   "cell_type": "code",
   "execution_count": null,
   "metadata": {},
   "outputs": [],
   "source": [
    "python setup.py sdist bdist_wheel\n",
    "\n",
    "twine upload dist/*"
   ]
  }
 ],
 "metadata": {},
 "nbformat": 4,
 "nbformat_minor": 2
}
